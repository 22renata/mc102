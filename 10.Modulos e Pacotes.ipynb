{
 "cells": [
  {
   "cell_type": "markdown",
   "metadata": {
    "toc": true
   },
   "source": [
    "<h1>Table of Contents<span class=\"tocSkip\"></span></h1>\n",
    "<div class=\"toc\" style=\"margin-top: 1em;\"><ul class=\"toc-item\"><li><span><a href=\"#Reuso-de-Código\" data-toc-modified-id=\"Reuso-de-Código-1\"><span class=\"toc-item-num\">1&nbsp;&nbsp;</span>Reuso de Código</a></span><ul class=\"toc-item\"><li><span><a href=\"#Módulos-e-Pacotes\" data-toc-modified-id=\"Módulos-e-Pacotes-1.1\"><span class=\"toc-item-num\">1.1&nbsp;&nbsp;</span>Módulos e Pacotes</a></span></li><li><span><a href=\"#Um-pouco-sobre-pacotes\" data-toc-modified-id=\"Um-pouco-sobre-pacotes-1.2\"><span class=\"toc-item-num\">1.2&nbsp;&nbsp;</span>Um pouco sobre pacotes</a></span></li><li><span><a href=\"#Localizando-Módulos\" data-toc-modified-id=\"Localizando-Módulos-1.3\"><span class=\"toc-item-num\">1.3&nbsp;&nbsp;</span>Localizando Módulos</a></span></li></ul></li><li><span><a href=\"#Módulos-personalizados\" data-toc-modified-id=\"Módulos-personalizados-2\"><span class=\"toc-item-num\">2&nbsp;&nbsp;</span>Módulos personalizados</a></span><ul class=\"toc-item\"><li><span><a href=\"#O-módulo-vector.py\" data-toc-modified-id=\"O-módulo-vector.py-2.1\"><span class=\"toc-item-num\">2.1&nbsp;&nbsp;</span>O módulo vector.py</a></span><ul class=\"toc-item\"><li><span><a href=\"#Vector-Add\" data-toc-modified-id=\"Vector-Add-2.1.1\"><span class=\"toc-item-num\">2.1.1&nbsp;&nbsp;</span>Vector Add</a></span></li><li><span><a href=\"#Vector-Subtraction\" data-toc-modified-id=\"Vector-Subtraction-2.1.2\"><span class=\"toc-item-num\">2.1.2&nbsp;&nbsp;</span>Vector Subtraction</a></span></li><li><span><a href=\"#Vector-Multiplication\" data-toc-modified-id=\"Vector-Multiplication-2.1.3\"><span class=\"toc-item-num\">2.1.3&nbsp;&nbsp;</span>Vector Multiplication</a></span></li><li><span><a href=\"#Vector-Division\" data-toc-modified-id=\"Vector-Division-2.1.4\"><span class=\"toc-item-num\">2.1.4&nbsp;&nbsp;</span>Vector Division</a></span></li><li><span><a href=\"#Vector-Magnitude\" data-toc-modified-id=\"Vector-Magnitude-2.1.5\"><span class=\"toc-item-num\">2.1.5&nbsp;&nbsp;</span>Vector Magnitude</a></span></li><li><span><a href=\"#Vector-Normalization\" data-toc-modified-id=\"Vector-Normalization-2.1.6\"><span class=\"toc-item-num\">2.1.6&nbsp;&nbsp;</span>Vector Normalization</a></span></li></ul></li></ul></li></ul></div>"
   ]
  },
  {
   "cell_type": "markdown",
   "metadata": {},
   "source": [
    "# Reuso de Código"
   ]
  },
  {
   "cell_type": "markdown",
   "metadata": {},
   "source": [
    "Se tivéssemos que escrever todos os programas a partir do zero, não poderíamos fazer muito. Parte da diversão da programação é usar algo que outra pessoa escreveu para resolver um problema mais rapidamente. Outro aspecto divertido da programação é escrever o código que outros possam reutilizar em seus programas. Considerando que as funções nos permitem \"compor\" partes de código para que possam ser reutilizadas ao longo de um programa, os módulos fornecem um meio de coletar conjuntos de funções (e como veremos mais a frente, tipos de dados personalizados) juntos para que possam ser usado por qualquer número de programas. "
   ]
  },
  {
   "cell_type": "markdown",
   "metadata": {},
   "source": [
    "## Módulos e Pacotes"
   ]
  },
  {
   "cell_type": "markdown",
   "metadata": {},
   "source": [
    "Um módulo Python, de maneira sucinta, é um arquivo .py. Um módulo pode conter qualquer código Python que nós gostamos. Todos os programas que escrevemos até agora foram contidos em um único arquivo .py e, portanto, são módulos e programas. A principal diferença é que os programas são projetados para serem executados, enquanto os módulos são projetados para serem\n",
    "importados e usados por programas. Um pacote é simplesmente um diretório que contém um conjunto de módulos que podem estar inter-relacionados ou não. Os pacotes funcionam como coleções para organizar módulos de forma hierárquica. Quando queremos usar uma função de um módulo ou pacote, precisamos importá-lo. Existem muitas formas diferentes de importar módulos e pacotes. A sintaxe mais básica é:"
   ]
  },
  {
   "cell_type": "code",
   "execution_count": 1,
   "metadata": {},
   "outputs": [],
   "source": [
    "import numpy"
   ]
  },
  {
   "cell_type": "markdown",
   "metadata": {},
   "source": [
    "após o qual qualquer função em `numpy` pode ser chamada como `numpy.function()`. Você pode mudar internamente o nome do pacote, por exemplo porque ele é longo ou porque este nome conflita com o nome de um objeto seu. No exemplo abaixo nos alteramos o nome de numpy para np, o que é bastante padrão na computação científica:"
   ]
  },
  {
   "cell_type": "code",
   "execution_count": null,
   "metadata": {},
   "outputs": [],
   "source": [
    "import numpy as np"
   ]
  },
  {
   "cell_type": "markdown",
   "metadata": {},
   "source": [
    "Todas as funções em `numpy` podem ser chamadas internamente como `np.function()`.\n",
    "Os pacotes também podem ter subpacotes. Por exemplo, o pacote `numpy` tem um subpacote chamado `random`, que tem um conjunto de funções para lidar com variáveis aleatórias. Se o pacote numpy for importado com `import numpy as np`, as funções no sub-pacote `random` podem ser chamadas como `np.random.function()`."
   ]
  },
  {
   "cell_type": "markdown",
   "metadata": {},
   "source": [
    "## Um pouco sobre pacotes"
   ]
  },
  {
   "cell_type": "markdown",
   "metadata": {},
   "source": [
    "Python é uma ótima linguagem de programação de propósito geral por conta própria, mas com a ajuda de algums pacotes populares (numpy, scipy, matplotlib) torna-se um ambiente poderoso para a computação científica.\n",
    "`Numpy`, que significa Numerical Python, é a principal biblioteca usada na computação científica em Python. Ela fornece um objeto de vetores multidimensionais (matrizes) de alto desempenho e ferramentas para trabalhar com esses vetores."
   ]
  },
  {
   "cell_type": "markdown",
   "metadata": {},
   "source": [
    "Se você precisar apenas de uma função específica, não é necessário importar todo o pacote. Por exemplo, se você quiser usar apenas a função coseno do pacote `numpy`, você pode importá-lo a partir de `numpy` assim:"
   ]
  },
  {
   "cell_type": "code",
   "execution_count": null,
   "metadata": {},
   "outputs": [],
   "source": [
    "from numpy import cos"
   ]
  },
  {
   "cell_type": "markdown",
   "metadata": {},
   "source": [
    "após o qual você pode simplesmente chamar a função coseno como `cos()`. Você pode mesmo renomear as funções quando as importa. Por exemplo:"
   ]
  },
  {
   "cell_type": "code",
   "execution_count": null,
   "metadata": {},
   "outputs": [],
   "source": [
    "from numpy import cos as coseno"
   ]
  },
  {
   "cell_type": "markdown",
   "metadata": {},
   "source": [
    "após o qual você pode chamar a função `coseno()` para calcular o coseno (eu sei, muito bobo, mas isso pode se tornar útil)."
   ]
  },
  {
   "cell_type": "markdown",
   "metadata": {},
   "source": [
    "Onde devemos inserir as declarações de importação? É prática comum colocar todas as instruções de importação no início dos arquivos .py, após a documentação do módulo. Além disso, recomendamos importar os módulos de biblioteca padrão do Python primeiro, depois módulos de biblioteca de terceiros e, finalmente, nossos próprios módulos."
   ]
  },
  {
   "cell_type": "markdown",
   "metadata": {},
   "source": [
    "## Localizando Módulos"
   ]
  },
  {
   "cell_type": "markdown",
   "metadata": {},
   "source": [
    "Quando importamos pela primeira vez um módulo, se ele não for uma \\textit{builtin}, o Python procura o módulo em cada diretório listado na variável de ambiente PYTHONPATH (`sys.path`) que normalmente inclui a pasta corrente em primeiro lugar. Uma conseqüência disso é que se criarmos um módulo ou programa com o mesmo nome de um dos módulos de biblioteca do Python, o nosso será encontrado primeiro, causando inevitavelmente problemas. Para evitar isso, nunca crie um programa ou módulo com o mesmo nome de um dos diretórios (pacotes) ou módulos de nível superior da biblioteca Python (i.e., não inclui os sub-módulos), a menos que você esteja fornecendo sua própria implementação desse módulo e que o substitua deliberadamente."
   ]
  },
  {
   "cell_type": "markdown",
   "metadata": {},
   "source": [
    "Nós podemos incluir o diretório ou diretórios de nossos módulos na variável de ambiente através da biblioteca `sys.path` assim: "
   ]
  },
  {
   "cell_type": "code",
   "execution_count": null,
   "metadata": {},
   "outputs": [],
   "source": [
    "import sys\n",
    "sys.path.append('my_path')\n",
    "\n",
    "import my_lib"
   ]
  },
  {
   "cell_type": "markdown",
   "metadata": {},
   "source": [
    "# Módulos personalizados"
   ]
  },
  {
   "cell_type": "markdown",
   "metadata": {},
   "source": [
    "Como os módulos são apenas arquivos .py eles podem ser criados sem formalidade. Nesta seção, analisaremos a construção de um módulo personalizado. Este módulo mostra algumas técnicas que não vimos antes e é mais típico de módulos maiores e mais complexos."
   ]
  },
  {
   "cell_type": "markdown",
   "metadata": {},
   "source": [
    "## O módulo vector.py"
   ]
  },
  {
   "cell_type": "markdown",
   "metadata": {},
   "source": [
    "O que queremos construir é um módulo que representa um tipo abstrato de dados chamado de vetor euclidiano (também conhecido como vetor geométrico) e operações sobre este. Um vetor é definido como uma entidade que possui tanto a magnitude quanto a direção. O vetor é tipicamente desenhado como uma seta; a direção é indicada por onde a flecha está apontando, e a magnitude pelo comprimento da própria seta. Por questão de simplicidade, vamos trabalhar com vetores de duas dimensões (representados num plano) embora os exemplos podem ser facilmente extendidos para três dimensões."
   ]
  },
  {
   "cell_type": "markdown",
   "metadata": {},
   "source": [
    "Uma outra maneira de pensar em um vetor é a diferença entre dois pontos. Considere como você pode fazer instruções para andar de um ponto para outro. Aqui estão alguns vetores e possíveis traduções:"
   ]
  },
  {
   "cell_type": "markdown",
   "metadata": {},
   "source": [
    "![vector2](img/vector2.png)"
   ]
  },
  {
   "cell_type": "code",
   "execution_count": null,
   "metadata": {},
   "outputs": [],
   "source": [
    "vector(-15, 3)\n",
    "vector(3, 4)\n",
    "vector(2, -1)"
   ]
  },
  {
   "cell_type": "markdown",
   "metadata": {},
   "source": [
    "Antes de continuar a olhar para a módulo vector e seus métodos de soma, subtração etc., vamos examinar estas operações usando a notação encontrada em livros de matemática e física."
   ]
  },
  {
   "cell_type": "markdown",
   "metadata": {},
   "source": [
    "### Vector Add"
   ]
  },
  {
   "cell_type": "markdown",
   "metadata": {},
   "source": [
    "Digamos que eu tenho os seguintes dois vetores:"
   ]
  },
  {
   "cell_type": "markdown",
   "metadata": {},
   "source": [
    "![vector3](img/vector3.png)"
   ]
  },
  {
   "cell_type": "markdown",
   "metadata": {},
   "source": [
    "Cada vetor tem dois componentes, $x$ e $y$. Para adicionar dois vetores juntos, simplesmente adicionamos ambos $x$ e os dois $y$:"
   ]
  },
  {
   "cell_type": "markdown",
   "metadata": {},
   "source": [
    "![vector4](img/vector4.png)"
   ]
  },
  {
   "cell_type": "markdown",
   "metadata": {},
   "source": [
    "### Vector Subtraction"
   ]
  },
  {
   "cell_type": "markdown",
   "metadata": {},
   "source": [
    "![vector5](img/vector5.png)"
   ]
  },
  {
   "cell_type": "markdown",
   "metadata": {},
   "source": [
    "### Vector Multiplication"
   ]
  },
  {
   "cell_type": "markdown",
   "metadata": {},
   "source": [
    "![vector6](img/vector6.png)"
   ]
  },
  {
   "cell_type": "markdown",
   "metadata": {},
   "source": [
    "### Vector Division"
   ]
  },
  {
   "cell_type": "markdown",
   "metadata": {},
   "source": [
    "A divisão funciona como a multiplicação - simplesmente substituímos o sinal de multiplicação ($*$) pelo sinal de divisão ($/$)."
   ]
  },
  {
   "cell_type": "markdown",
   "metadata": {},
   "source": [
    "![vector7](img/vector7.png)"
   ]
  },
  {
   "cell_type": "markdown",
   "metadata": {},
   "source": [
    "### Vector Magnitude"
   ]
  },
  {
   "cell_type": "markdown",
   "metadata": {},
   "source": [
    "A multiplicação e a divisão, como acabamos de ver, são meios pelos quais o comprimento do vetor pode ser alterado sem afetar a direção. Talvez você esteja se perguntando: \"OK, então, como eu sei qual é o comprimento de um vetor? Conheço os componentes (x e y), mas qual o comprimento (em pixels) é a seta real? \"Compreender como calcular o comprimento (também conhecido como magnitude) de um vetor é incrivelmente útil e importante."
   ]
  },
  {
   "cell_type": "markdown",
   "metadata": {},
   "source": [
    "Observe nos diagramas anteriores como o vetor, desenhado como uma seta e dois componentes (x e y), cria um triângulo reto. Os lados são os componentes e a hipotenusa é a própria flecha. Armado com o theorema de Pitágoras podemos calcular a magnitude de v da seguinte maneira:"
   ]
  },
  {
   "cell_type": "markdown",
   "metadata": {},
   "source": [
    "$|v| = \\sqrt{x^2 + y^2}$"
   ]
  },
  {
   "cell_type": "markdown",
   "metadata": {},
   "source": [
    "### Vector Normalization"
   ]
  },
  {
   "cell_type": "markdown",
   "metadata": {},
   "source": [
    "Para normalizar um vetor, simplesmente dividimos cada componente por sua magnitude. Isso é bastante intuitivo. Digamos que um vetor tem comprimento 5. Bem, 5 dividido por 5 é 1. Então, olhando para o nosso triângulo retângulo, então precisamos escalar a hipotenusa para baixo dividindo-se por 5. Nesse processo os lados diminuirão, divididos por 5 também."
   ]
  },
  {
   "cell_type": "markdown",
   "metadata": {},
   "source": [
    "![vector8](img/vector8.png)"
   ]
  },
  {
   "cell_type": "markdown",
   "metadata": {},
   "source": [
    "Existem muitas operações matemáticas que são comumente usadas com vetores, mas para nosso exemplo, vamos ficar por aqui."
   ]
  },
  {
   "cell_type": "markdown",
   "metadata": {},
   "source": [
    "A estrutura deste módulo (e a maioria dos outros) difere pouco do de um programa. A primeira linha é a linha `shebang` e, em seguida, temos alguns comentários (normalmente, os direitos autorais e as informações da licença). Em seguida, é comum ter uma seqüência de citações entre aspas triplas que fornece uma visão geral do conteúdo do módulo, muitas vezes incluindo alguns exemplos de uso - esta é a `docstring` do módulo. Aqui está o início do arquivo `vector.py` (mas com as linhas de comentários de licença omitidas):"
   ]
  },
  {
   "cell_type": "markdown",
   "metadata": {},
   "source": []
  },
  {
   "cell_type": "markdown",
   "metadata": {},
   "source": [
    "Sempre que um módulo é importado, o Python cria uma variável para o módulo chamado `__name__` e armazena o nome do módulo nesta variável. O nome de um módulo é simplesmente o nome do seu arquivo .py, mas sem a extensão. Então, neste exemplo, quando o módulo for importado `__name__` terá o valor `\"vector\"`, e a condição `if` não será atendida, então as últimas linhas de teste do módulo não serão executadas. Isto significa que estas últimas linhas têm praticamente nenhum custo quando o módulo é importado.\n",
    "Sempre que um arquivo .py é executado, o Python cria uma variável para o programa chamado `__name__` e define-o para a string `\"__main__\"`. Então, se fosse executar o `vector.py` como se fosse um programa, o Python configurará `__name__` para `\"__main__\"` e a condição `if` irá avaliar para `True` e as últimas linhas de teste do módulo serão executadas."
   ]
  },
  {
   "cell_type": "code",
   "execution_count": null,
   "metadata": {},
   "outputs": [],
   "source": []
  }
 ],
 "metadata": {
  "kernelspec": {
   "display_name": "Python 3",
   "language": "python",
   "name": "python3"
  },
  "language_info": {
   "codemirror_mode": {
    "name": "ipython",
    "version": 3
   },
   "file_extension": ".py",
   "mimetype": "text/x-python",
   "name": "python",
   "nbconvert_exporter": "python",
   "pygments_lexer": "ipython3",
   "version": "3.6.4"
  },
  "latex_envs": {
   "LaTeX_envs_menu_present": true,
   "autoclose": false,
   "autocomplete": true,
   "bibliofile": "biblio.bib",
   "cite_by": "apalike",
   "current_citInitial": 1,
   "eqLabelWithNumbers": true,
   "eqNumInitial": 1,
   "hotkeys": {
    "equation": "Ctrl-E",
    "itemize": "Ctrl-I"
   },
   "labels_anchors": false,
   "latex_user_defs": false,
   "report_style_numbering": false,
   "user_envs_cfg": false
  },
  "toc": {
   "nav_menu": {},
   "number_sections": true,
   "sideBar": true,
   "skip_h1_title": false,
   "toc_cell": true,
   "toc_position": {
    "height": "509px",
    "left": "0px",
    "right": "20px",
    "top": "110px",
    "width": "186px"
   },
   "toc_section_display": "none",
   "toc_window_display": false
  }
 },
 "nbformat": 4,
 "nbformat_minor": 2
}
