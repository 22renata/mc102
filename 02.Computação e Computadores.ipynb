{
 "cells": [
  {
   "cell_type": "markdown",
   "metadata": {},
   "source": [
    "# Computação e Computadores - Breve Histórico"
   ]
  },
  {
   "cell_type": "markdown",
   "metadata": {},
   "source": [
    "A resolução de problemas complexos pela execução sistemática de operações simples e diretas data de milhares de anos. Filósofos da antiga Grecia, Egíto e China descobriram muitos fatos importantes sobre números e seus relacionamentos. Eles desenvolveram métodos que ainda hoje são usados para determinar se um número é primo ou como encontrar o maior denominador comum de um par de números."
   ]
  },
  {
   "cell_type": "markdown",
   "metadata": {},
   "source": [
    "Esta idéia de resolver computacionalmente um problema complexo pela execução repetida e sistemática de uma série de operações simples e diretas já estava bem estabelecida no século XIX. Os matemáticos desenvolveram técnicas para calcular entradas em tabelas usando apenas as operações mais básicas de aritmética, como adição e subtração, onde o valor em uma linha da tabela pode ser determinado usando valores de linhas preenchidas anteriormente. Muitas tabelas foram produzidas por grupos de pessoas que não tinham habilidades matemáticas avançadas, mas foram contratadas e treinadas para preencher uma tabela fazendo uma seqüência específica de adições e subtrações. Antes de meados do século XX, a palavra \"computador\" era um título de trabalho, referindo-se a qualquer pessoa envolvida no cálculo sistemático de valores como os encontrados em tabelas matemáticas. O matemático Babbage percebeu que as simples operações realizadas por computadores humanos eram de natureza mecânica, e ele sonhava com um dia onde uma máquina seria capaz de executar as etapas em uma computação de forma automática.\n"
   ]
  },
  {
   "cell_type": "markdown",
   "metadata": {},
   "source": [
    "<img src=\"img/Babbage.png\" alt=\"Drawing\" style=\"width: 500px;\"/>\n",
    "<p><small>Chambers's Mathematical Tables, New Edition, Londres, 1901. Antes de haver computadores para calcular funções matemáticas, se uma pessoa quisesse saber o valor de uma função trigonométrica, eles iriam olhar em uma tabela de senos e cosenos. Por exemplo, para encontrar o valor de cos30◦20', a pessoa procurava a página de 30◦, então buscava a linha de 20' e olhava na coluna rotulada como \"coseno\".</small></p>"
   ]
  },
  {
   "cell_type": "markdown",
   "metadata": {},
   "source": [
    "Hoje, a computação é tão familiar que damos por certo. Um navegador, um topógrafo, um arquiteto ou qualquer outra pessoa que precise saber o valor de uma função matemática simplesmente insere um número em uma calculadora e pressiona um botão rotulado com o nome da função. A computação também está no cerne de aplicativos de computador que nos ajudam com tarefas comuns que, aparentemente, têm pouco ou nada a ver com a matemática, como usar um processador de texto para escrever um artigo, organizar uma biblioteca de música ou reproduzir uma música gravada."
   ]
  },
  {
   "cell_type": "markdown",
   "metadata": {},
   "source": [
    "Os primeiros computadores eletrônicos foram desenvolvidos durante a Segunda Guerra Mundial. Logo após o fim da guerra, a idéia de usar máquinas para automatizar os cálculos em ciência e negócios começou a se espalhar e várias empresas começaram a fabricar máquinas de computação. As máquinas eram muito grandes e muito caras, e foram encontradas apenas nas maiores empresas, agências governamentais ou laboratórios de pesquisas universitárias. Eles foram usados para tarefas tão diversas como calcular as trajetórias de foguetes e mísseis, prever o clima, e aplicativos de processamento de dados empresariais para folha de pagamento e contabilidade."
   ]
  },
  {
   "cell_type": "markdown",
   "metadata": {},
   "source": [
    "Nos últimos cinquenta anos a computação tornou-se uma parte essencial da vida moderna. Todos os dias, escrevemos emails, compartilhamos fotografias, reproduzimos músicas, lemos as notícias e pagamos contas usando nossos computadores pessoais. Os engenheiros usam computadores para projetar carros e aviões, as empresas farmacêuticas usam computadores para desenvolver novos medicamentos, os produtores de filmes geram efeitos especiais e, em alguns casos, filmes animados inteiros usando computadores e empresas de investimento usam modelos computacionais para decidir se as transações complexas são susceptíveis de sucesso. Não surpreendentemente, dado o papel que a astronomia desempenhou na história da computação, os astrônomos modernos também dependem fortemente da computação. Organizações como o Jet Propulsion Laboratory usam computadores para realizar os cálculos que acompanham as localizações de planetas, asteróides e cometas com o objetivo de se manter atento a possíveis ameaças de impactos, como o que envolveu o cometa Shoemaker-Levy e Jupiter em 1994."
   ]
  },
  {
   "cell_type": "markdown",
   "metadata": {},
   "source": [
    "A computação desempenha um papel muito mais extenso na ciência moderna do que o \"cruzamento de dados\" direto envolvido no cálculo de órbitas. A frase ciência computacional refere-se ao uso da computação para ajudar a responder a questões científicas fundamentais. Aqui, a palavra \"computacional\" é um adjetivo que descreve como a ciência é feita. A ciência computacional é, como as abordagens mais tradicionais da ciência teórica e da ciência experimental, uma maneira de tentar resolver importantes problemas científicos. Físicos computacionais usam computadores para estudar a formação de buracos negros, investigar teorias de como os planetas se formam e simular a colisão prevista, nos próximos três bilhões de anos, de nossa galáxia Via Láctea com a galáxia Andrómeda."
   ]
  },
  {
   "cell_type": "markdown",
   "metadata": {},
   "source": [
    "A definição geralmente aceita de uma computação é que é uma seqüência de passos simples e bem definidos que levam à solução de um problema. O problema em si deve ser definido exatamente e sem ambigüidade, e cada passo na computação que resolve o problema deve ser descrito em termos muito específicos. Uma computação é um processo, uma seqüência de operações simples que leva de um estado inicial ao resultado final desejado. O processo pode ser realizado inteiramente por uma pessoa, ou por uma pessoa usando a ajuda de calculadoras mecânicas ou eletrônicas, ou completamente automatizadas por um computador. A escolha de qual tecnologia seria mais efetiva depende da situação."
   ]
  },
  {
   "cell_type": "markdown",
   "metadata": {},
   "source": [
    "# A Estrutura de um Computador Moderno"
   ]
  },
  {
   "cell_type": "markdown",
   "metadata": {},
   "source": [
    "Um sistema de computação moderno consiste em hardware e software. O hardware\n",
    "consiste nos dispositivos físicos necessários para executar algoritmos. O\n",
    "software é o conjunto desses algoritmos, representados como programas em\n",
    "linguagens de programação específicas.  A seguir, nos concentraremos\n",
    "no hardware e no software encontrados em um sistema de computador de mesa\n",
    "típico (desktop, notebook), embora componentes semelhantes também sejam encontrados em outros\n",
    "sistemas de computação, como dispositivos móveis e caixas eletrônicos."
   ]
  },
  {
   "cell_type": "markdown",
   "metadata": {},
   "source": [
    "## Hardware"
   ]
  },
  {
   "cell_type": "markdown",
   "metadata": {},
   "source": [
    "Os componentes básicos do hardware de um computador são as memórias, a unidade de processamento central\n",
    "(CPU) e um conjunto de dispositivos de entrada e saída, conforme mostrado na Figura abaixo."
   ]
  },
  {
   "cell_type": "markdown",
   "metadata": {},
   "source": [
    "<img src=\"img/hardware.png\" alt=\"Drawing\" style=\"width: 500px;\"/>"
   ]
  },
  {
   "cell_type": "markdown",
   "metadata": {},
   "source": [
    "O propósito da maioria dos dispositivos de entrada é converter informações que os seres humanos tratam, como texto, imagens e sons, em informações para o processamento computacional. A finalidade da maioria dos dispositivos de saída é converter os resultados desse processamento de volta para a forma utilizável para os humanos."
   ]
  },
  {
   "cell_type": "markdown",
   "metadata": {},
   "source": [
    "A memória do computador é configurada para representar e armazenar informações\n",
    "em formato eletrônico. Especificamente, as informações são armazenadas como\n",
    "padrões de dígitos binários (1s e 0s). As informações armazenadas na memória\n",
    "podem representar qualquer tipo de dados, como números, texto, imagens ou som,\n",
    "ou as instruções de um programa. Também podemos armazenar na memória um\n",
    "algoritmo codificado como instruções binárias para o computador. Uma vez que a\n",
    "informação é armazenada na memória, normalmente queremos fazer algo com isso -\n",
    "isto é, queremos processá-lo. A parte de um computador responsável pelo\n",
    "processamento de dados é a unidade central de processamento (CPU). Este\n",
    "dispositivo, que às vezes também é chamado de processador, consiste em\n",
    "interruptores eletrônicos dispostos para realizar operações lógicas,\n",
    "aritméticas (ULA) e de controle simples (UC). A CPU executa um algoritmo obtendo suas\n",
    "instruções binárias da memória, descodificando-as e executando-as. Executar uma\n",
    "instrução pode envolver a busca de outras informações binárias - a memória de\n",
    "dados também."
   ]
  },
  {
   "cell_type": "markdown",
   "metadata": {},
   "source": [
    "O processador pode localizar dados na memória principal (RAM) de um computador muito rapidamente. No entanto, esses dados existem apenas enquanto a energia elétrica entra no computador. Se a energia falhar ou estiver desligada, os dados na memória primária são perdidos. Claramente, é necessário um tipo de memória mais permanente para preservar os dados. Esse tipo de memória mais permanente é chamado de memória externa ou secundária, e vem em várias formas. Os meios de armazenamento magnéticos, como fitas e discos rígidos, permitem que padrões de bits sejam armazenados como padrões em um campo magnético. Os meios de armazenamento de semicondutores, como as memória flash, executam a mesma função com uma tecnologia diferente, assim como a mídia de armazenamento óptico, como CDs e DVDs. Alguns desses meios de armazenamento secundários podem conter quantidades muito maiores de informações do que a memória interna de um computador."
   ]
  },
  {
   "cell_type": "markdown",
   "metadata": {},
   "source": [
    "## Software"
   ]
  },
  {
   "cell_type": "markdown",
   "metadata": {},
   "source": [
    "Nós dissemos que um computador é uma máquina de solução de problemas de propósito geral. Para resolver qualquer problema computável, ele deve ser capaz de executar qualquer algoritmo. Como é impossível antecipar todos os problemas para os quais existem soluções algorítmicas, não há como \"gravar\" todos os algoritmos potenciais no hardware de um computador. Em vez disso, nós construímos algumas operações básicas no processador e demandamos que os algoritmos sejam projetados para usá-las. Os algoritmos são convertidos em forma binária e depois carregados, com seus dados, na memória do computador. O processador pode então executar as instruções dos algoritmos executando as operações mais básicas do hardware."
   ]
  },
  {
   "cell_type": "markdown",
   "metadata": {},
   "source": [
    "Todos os programas que estão armazenados na memória para que possam ser executados posteriormente são chamados de **software**. Um programa armazenado na memória do computador deve ser representado em dígitos binários, que também é conhecido como código de máquina. Carregando o código da máquina na memória do computador, um dígito por vez seria uma tarefa tediosa e propensa a erros para seres humanos. Seria conveniente se pudéssemos automatizar esse processo para recuperá-lo sempre. Por esse motivo, cientistas da computação desenvolveram outro programa, chamado de **loader**, para executar esta tarefa. Um **loader** leva um conjunto de instruções de linguagem da máquina como entrada e as carrega nas posições de memória apropriadas. Quando o preocesso estiver concluído, o programa em linguagem de máquina está pronto para ser executado. Obviamente, o **loader** não pode se carregar na memória, então esse é um desses algoritmos que devem ser \"gravados\"na ROM do computador.\n",
    "Agora que existe um **loader**, podemos carregar e executar outros programas que facilitam o desenvolvimento, a execução e o gerenciamento de programas. Este tipo de software é chamado de software de sistema. O exemplo mais importante do software de sistema é o **sistema operacional** de um computador. Você provavelmente já está familiarizado com pelo menos um dos sistemas operacionais mais populares, como Linux, Mac OS da Apple e Microsoft Windows. Um sistema operacional é responsável por gerenciar e agendar vários programas para executarem simultaneamente. Ele também gerencia a memória do computador, incluindo o armazenamento externo, e gerencia as comunicações entre a CPU, os dispositivos de entrada e saída e outros computadores em uma rede. Uma parte importante de qualquer sistema operacional é o seu sistema de arquivos, que permite a nós, usuários humanos, organizar seus dados e programas em armazenamento permanente. Outra função importante de um sistema operacional é fornecer interfaces de usuário - ou seja, maneiras para o usuário interagir com o software do computador. Uma interface baseada em terminal aceita entradas de um teclado e exibe saída de texto em uma tela do monitor. Uma interface gráfica moderna (GUI) organiza a tela do monitor em torno da metáfora de uma área de trabalho, com janelas contendo ícones para pastas, arquivos e aplicativos. Este tipo de interface de usuário também permite ao usuário manipular imagens com um dispositivo apontador, como um mouse."
   ]
  },
  {
   "cell_type": "markdown",
   "metadata": {},
   "source": [
    "Outro grande tipo de software é chamado de software aplicativo, ou simplesmente aplicativo. Um aplicativo é um programa projetado para uma tarefa específica, como editar um documento ou exibir uma página da Web. As aplicações incluem navegadores da Web, processadores de texto, planilhas, gerenciadores de banco de dados, pacotes de design gráfico, sistemas de produção de música e jogos, entre muitos outros. \n",
    "No entanto, o hardware do computador pode executar apenas instruções que estão escritas em sua forma binária e no idioma da máquina. Escrever um programa de linguagem de máquina, no entanto, seria uma tarefa extremamente tediosa e propensa a erros. Para facilitar o processo de redação de programas de computador, cientistas da computação desenvolveram linguagens de programação de alto nível para expressar algoritmos. Essas linguas se parecem com o inglês e permitem ao autor expressar algoritmos de forma que outras pessoas possam entender.\n",
    "Um programador geralmente começa escrevendo declarações de linguagem de alto nível em um editor de texto. O programador executa então outro programa chamado **tradutor** (**compilador**) para converter o código do programa de alto nível em código executável. Como é possível que um programador cometa erros gramaticais, mesmo quando escreve um código de alto nível, o tradutor verifica erros de sintaxe antes de concluir o processo de tradução. Se detectar algum desses erros, o tradutor alerta o programador por meio de mensagens de erro. O programador então tem que rever o programa. Se o processo de transferência for bem-sucedido sem um erro de sintaxe, o programa pode ser executado pelo sistema de tempo de execução (**run-time system**). O sistema de tempo de execução pode executar o programa diretamente no hardware ou executar ainda outro programa chamado **interpretador** ou **máquina virtual** para executar o programa."
   ]
  },
  {
   "cell_type": "markdown",
   "metadata": {},
   "source": [
    "## A Linguagem de Programação Python"
   ]
  },
  {
   "cell_type": "markdown",
   "metadata": {},
   "source": [
    "Guido van Rossum inventou a linguagem de programação Python no início da década de 1990. Python é uma linguagem de programação de alto nível e de propósito geral para resolver problemas em sistemas de computação modernos. A linguagem e muitas ferramentas de suporte são gratuitos e os programas Python podem ser executados em qualquer sistema operacional."
   ]
  },
  {
   "cell_type": "markdown",
   "metadata": {},
   "source": [
    "Python é uma linguagem interpretada. Neste caso, o **compilador** traduz o código python para o que chamamos de bytecode.\n",
    "O bytecode é um código de baixo nível que é executado em uma máquina virtual python (PVM).\n",
    "Quando instalamos o compilador Python em um computador, na verdade instalamos tanto o compilador, o interpretador e a máquina virtual onde os programas em python serão executados. O programa python é também um **interpretador** pois ele pode ser usado para executar diretamente os comandos em Python."
   ]
  },
  {
   "cell_type": "markdown",
   "metadata": {},
   "source": [
    "Um programa em Python é uma seqüência de definições e comandos. As definições são avaliadas e os comandos executados pelo interpretador Python em um shell. Os comandos (instruções ou sentenças) instruem o interpretador para fazer algo. Definições e instruções podem ser digitados diretamente em um shell ou armazenado em um arquivo que é lido no shell e executado."
   ]
  },
  {
   "cell_type": "markdown",
   "metadata": {},
   "source": [
    "### Objetos"
   ]
  },
  {
   "cell_type": "markdown",
   "metadata": {},
   "source": [
    "Os programas em Python manipulam objetos de dados. Os objetos têm um tipo (**class**) que define os tipos de operações que os programas podem fazer com eles.\n",
    "Os objetos são:\n",
    "- escalar (não pode ser subdividido). Ex.: int, float, bool, NoneType\n",
    "- não escalar (tem uma estrutura interna que pode ser acessada). Ex: list, set, dict"
   ]
  },
  {
   "cell_type": "markdown",
   "metadata": {},
   "source": [
    "### Expressões"
   ]
  },
  {
   "cell_type": "markdown",
   "metadata": {},
   "source": [
    "Python combina objetos e operadores para formar expressões. Uma expressão tem um valor e um tipo associado a ele.\n",
    "\n",
    "Sintaxe para uma expressão simples:"
   ]
  },
  {
   "cell_type": "raw",
   "metadata": {},
   "source": [
    "<objeto> <operador> <objeto>"
   ]
  },
  {
   "cell_type": "markdown",
   "metadata": {},
   "source": [
    "### Variáveis e Valores"
   ]
  },
  {
   "cell_type": "markdown",
   "metadata": {},
   "source": [
    "O sinal de igual (=) é usado para se atribuir (assignment) um valor de uma expressão para um nome de variável\n",
    "(também chamado de vinculação ou binding). Ex:"
   ]
  },
  {
   "cell_type": "code",
   "execution_count": 3,
   "metadata": {},
   "outputs": [],
   "source": [
    "pi = 3.14159\n",
    "pi_approx = 22/7"
   ]
  },
  {
   "cell_type": "markdown",
   "metadata": {},
   "source": [
    "- O valor é armazenado na memória do computador\n",
    "- Uma atribuição vincula o nome ao valor\n",
    "- Pode-se recuperar o valor associado ao nome ou variável invocando o nome.\n",
    "- Pode-se re-ligar nomes de variáveis usando novas instruções de atribuição.\n",
    "- O valor anterior pode ainda estar armazenado na memória, mas perdeu o identificador para ele.\n",
    "\n",
    "Ex:"
   ]
  },
  {
   "cell_type": "code",
   "execution_count": 5,
   "metadata": {},
   "outputs": [],
   "source": [
    "pi = 3.14\n",
    "raio = 2.2\n",
    "area = pi * (raio ** 2)\n",
    "print(area)\n",
    "raio = raio + 1\n",
    "print(area)"
   ]
  },
  {
   "cell_type": "markdown",
   "metadata": {},
   "source": [
    "Note que o valor da área não muda até que você diga ao computador para fazer o cálculo novamente"
   ]
  }
 ],
 "metadata": {
  "kernelspec": {
   "display_name": "Python 3",
   "language": "python",
   "name": "python3"
  },
  "language_info": {
   "codemirror_mode": {
    "name": "ipython",
    "version": 3
   },
   "file_extension": ".py",
   "mimetype": "text/x-python",
   "name": "python",
   "nbconvert_exporter": "python",
   "pygments_lexer": "ipython3",
   "version": "3.6.3"
  }
 },
 "nbformat": 4,
 "nbformat_minor": 2
}
