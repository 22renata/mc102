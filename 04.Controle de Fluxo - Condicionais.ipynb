{
 "cells": [
  {
   "cell_type": "markdown",
   "metadata": {
    "toc": true
   },
   "source": [
    "<h1>Table of Contents<span class=\"tocSkip\"></span></h1>\n",
    "<div class=\"toc\" style=\"margin-top: 1em;\"><ul class=\"toc-item\"><li><span><a href=\"#Controle-de-Fluxo\" data-toc-modified-id=\"Controle-de-Fluxo-1\"><span class=\"toc-item-num\">1&nbsp;&nbsp;</span>Controle de Fluxo</a></span><ul class=\"toc-item\"><li><span><a href=\"#Indentação-do-Código\" data-toc-modified-id=\"Indentação-do-Código-1.1\"><span class=\"toc-item-num\">1.1&nbsp;&nbsp;</span>Indentação do Código</a></span></li><li><span><a href=\"#Sentenças-Condicionais\" data-toc-modified-id=\"Sentenças-Condicionais-1.2\"><span class=\"toc-item-num\">1.2&nbsp;&nbsp;</span>Sentenças Condicionais</a></span><ul class=\"toc-item\"><li><span><a href=\"#Exercício:\" data-toc-modified-id=\"Exercício:-1.2.1\"><span class=\"toc-item-num\">1.2.1&nbsp;&nbsp;</span>Exercício:</a></span></li></ul></li><li><span><a href=\"#Expressões-condicionais\" data-toc-modified-id=\"Expressões-condicionais-1.3\"><span class=\"toc-item-num\">1.3&nbsp;&nbsp;</span>Expressões condicionais</a></span><ul class=\"toc-item\"><li><span><a href=\"#Valores-True-e-False\" data-toc-modified-id=\"Valores-True-e-False-1.3.1\"><span class=\"toc-item-num\">1.3.1&nbsp;&nbsp;</span>Valores True e False</a></span></li></ul></li><li><span><a href=\"#Exercicio-1\" data-toc-modified-id=\"Exercicio-1-1.4\"><span class=\"toc-item-num\">1.4&nbsp;&nbsp;</span>Exercicio 1</a></span></li><li><span><a href=\"#Exercício-2\" data-toc-modified-id=\"Exercício-2-1.5\"><span class=\"toc-item-num\">1.5&nbsp;&nbsp;</span>Exercício 2</a></span></li></ul></li></ul></div>"
   ]
  },
  {
   "cell_type": "markdown",
   "metadata": {},
   "source": [
    "# Controle de Fluxo"
   ]
  },
  {
   "cell_type": "markdown",
   "metadata": {},
   "source": [
    "## Indentação do Código"
   ]
  },
  {
   "cell_type": "markdown",
   "metadata": {},
   "source": [
    "Os programas Python são estruturados através de indentação, ou seja, os blocos de código são definidos pelo seu recuo. Ok, é o que esperamos de qualquer código de programa, não é? Sim, mas no caso de Python é um requisito de linguagem, não é uma questão de estilo. Este princípio facilita a leitura e a compreensão do código Python de outras pessoas.\n",
    "\n",
    "Então, como isso funciona? Todas as declarações com a mesma distância à direita pertencem ao mesmo bloco de código, ou seja, as instruções dentro de uma linha de bloco verticalmente. O bloco termina em uma linha menos recuada ou no final do arquivo. Se um bloco tiver de ser mais profundamente aninhado, é simplesmente recuado mais para a direita. Veja a figura abaixo;\n",
    "\n",
    "Há outro aspecto da estruturação em Python, que vocês verão nos exemplos de laços e declarações condicionais a seguir. As senteças que iniciam o laço ou a declaração condicional terminam com dois pontos \":\" $-$ o mesmo é verdadeiro para funções e outras estruturas que introduzem blocos. Então, devemos dizer que as estruturas Python são definidas por dois pontos e indentação."
   ]
  },
  {
   "cell_type": "markdown",
   "metadata": {},
   "source": [
    "![teste](img/identation.png)"
   ]
  },
  {
   "cell_type": "markdown",
   "metadata": {},
   "source": [
    "## Sentenças Condicionais"
   ]
  },
  {
   "cell_type": "markdown",
   "metadata": {},
   "source": [
    "É muito comum em um programa que certos conjuntos de instruções sejam executados de forma condicional, em casos como validar entradas de dados, por exemplo.\n",
    "\n",
    "Sintaxe:\n",
    "```python\n",
    "    if <condição>:\n",
    "        <bloco de código>\n",
    "    elif <condição>:          # 0 ou mais cláusulas elif\n",
    "        <bloco de código>\n",
    "    else:                     # opcional\n",
    "        <bloco de código>\n",
    "```\n",
    "Na qual:\n",
    "\n",
    "+ `<condição>`: sentença que possa ser avaliada como verdadeira ou falsa.\n",
    "+ `<bloco de código>`: sequência de linhas de comando.\n",
    "+ As clausulas `elif` e `else` são opcionais e podem existir vários `elifs` para o mesmo `if`, porém apenas um `else` ao final.\n",
    "\n",
    "Exemplo:"
   ]
  },
  {
   "cell_type": "code",
   "execution_count": null,
   "metadata": {},
   "outputs": [],
   "source": [
    "x = int(input(\"Enter a number for x: \"))\n",
    "y = int(input(\"Enter a number for y: \"))\n",
    "if x == y:\n",
    "    print(\"x and y are equal\")\n",
    "elif x < y:\n",
    "    print(\"x is smaller\")\n",
    "else:\n",
    "    print(\"y is smaller\")\n",
    "print(\"thanks!\")"
   ]
  },
  {
   "cell_type": "markdown",
   "metadata": {},
   "source": [
    "Fluxograma do exemplo:"
   ]
  },
  {
   "cell_type": "markdown",
   "metadata": {},
   "source": [
    "![if](img/if-statement.png)"
   ]
  },
  {
   "cell_type": "markdown",
   "metadata": {},
   "source": [
    "Um exemplo um pouco mais elaborado:"
   ]
  },
  {
   "cell_type": "code",
   "execution_count": 57,
   "metadata": {},
   "outputs": [],
   "source": [
    "from datetime import date\n",
    "import calendar\n",
    "\n",
    "today = calendar.day_name[date.today().weekday()]\n",
    "strike = \"N\"\n",
    "my_lab = \"Wednesday\"\n",
    "\n",
    "if today == \"Tuesday\":\n",
    "    if strike == \"Y\":\n",
    "        print(\"Stay home\")\n",
    "    else:\n",
    "        print(\"Lecture in MC102!\")\n",
    "elif today == \"Thursday\":\n",
    "    print(\"Another lecture in MC102!\")\n",
    "elif today == my_lab:\n",
    "    print(\"Go to lab!\")\n",
    "elif today == \"Monday\" or today == \"Friday\" or today == \"Saturday\":\n",
    "    print(\"no lecture in MC102\")\n",
    "else:\n",
    "    print(\"playday!\")"
   ]
  },
  {
   "cell_type": "markdown",
   "metadata": {},
   "source": [
    "Se o bloco de código for composto de apenas uma linha, ele pode ser escrito após os dois pontos. Exemplo:"
   ]
  },
  {
   "cell_type": "code",
   "execution_count": null,
   "metadata": {},
   "outputs": [],
   "source": [
    "# weather-api é um wrapper para o feed Weather RSS XML do Yahoo.\n",
    "# Para usar o weather-api é preciso instalá-lo:\n",
    "# pip3 install weather-api\n",
    "\n",
    "from weather import Weather\n",
    "clima = Weather()\n",
    "cidade = clima.lookup_by_location('edmonton')\n",
    "condicao = cidade.condition()\n",
    "temperatura = int(condicao.temp())\n",
    "if temperatura < 32: print ('Congelando...')"
   ]
  },
  {
   "cell_type": "markdown",
   "metadata": {},
   "source": [
    "### Exercício:\n",
    "4: A fórmula para converter de Fahrenheit para Celsius é $C = (F - 32) \\times 5/9$. Use esta fórmula para converter a temperatura obtida no exemplo acima para Celsius:"
   ]
  },
  {
   "cell_type": "code",
   "execution_count": null,
   "metadata": {},
   "outputs": [],
   "source": []
  },
  {
   "cell_type": "markdown",
   "metadata": {},
   "source": [
    "## Expressões condicionais"
   ]
  },
  {
   "cell_type": "markdown",
   "metadata": {},
   "source": [
    "o Python suporta a expressão:\n",
    "```python\n",
    "    <variável> = <valor_1> if <condição> else <valor_2>\n",
    "```\n",
    "Na qual `<variável>` receberá `<valor_1>` se `<condição>` for verdadeira e `<valor_2>`  caso contrário."
   ]
  },
  {
   "cell_type": "code",
   "execution_count": 65,
   "metadata": {},
   "outputs": [],
   "source": [
    "Weekend = True if (today == \"Saturday\" or today == \"Sunday\") else False\n",
    "print(Weekend)"
   ]
  },
  {
   "cell_type": "markdown",
   "metadata": {},
   "source": [
    "### Valores True e False"
   ]
  },
  {
   "cell_type": "markdown",
   "metadata": {},
   "source": [
    "Todo valor em python pode ser avaliado como True (Verdadeiro) ou False (Falso). A regra geral é que qualquer valor não-zero ou não vazio irá avaliar para Verdadeiro. Se você nunca tiver certeza, você pode abrir um terminal Python e escrever duas linhas para descobrir se o valor que você está considerando é True ou False. Dê uma olhada nos seguintes exemplos, mantenha-os em mente e teste qualquer valor que você tenha curiosidade."
   ]
  },
  {
   "cell_type": "code",
   "execution_count": 23,
   "metadata": {},
   "outputs": [],
   "source": [
    "if 0:\n",
    "    print(\"This evaluates to True.\")\n",
    "else:\n",
    "    print(\"This evaluates to False.\")"
   ]
  },
  {
   "cell_type": "code",
   "execution_count": null,
   "metadata": {},
   "outputs": [],
   "source": [
    "if 1:\n",
    "    print(\"This evaluates to True.\")\n",
    "else:\n",
    "    print(\"This evaluates to False.\")"
   ]
  },
  {
   "cell_type": "code",
   "execution_count": null,
   "metadata": {},
   "outputs": [],
   "source": [
    "# Test for an empty string\n",
    "if '':\n",
    "    print(\"This evaluates to True.\")\n",
    "else:\n",
    "    print(\"This evaluates to False.\")"
   ]
  },
  {
   "cell_type": "code",
   "execution_count": null,
   "metadata": {},
   "outputs": [],
   "source": [
    "# any other string, including a space\n",
    "if ' ':\n",
    "    print(\"This evaluates to True.\")\n",
    "else:\n",
    "    print(\"This evaluates to False.\")"
   ]
  },
  {
   "cell_type": "markdown",
   "metadata": {},
   "source": [
    "## Exercicio 1"
   ]
  },
  {
   "cell_type": "markdown",
   "metadata": {},
   "source": [
    "Escrever um programa que calcula a área de três tipos de objetos geométricos: quadrado, retângulo e círculo. \n",
    "- Primeiramente deve ser lido um caractere que indica o tipo de objeto a ter a área calculada: ’q’ para quadrado, ’r’ para retângulo e ’c’ para círculo.\n",
    "- Em seguida deverá ser lido as dimensões do objeto:\n",
    "  - Para um quadrado deve ser lido o tamanho de um lado.\n",
    "  - Para um retângulo devem ser lidos os tamanhos de cada lado.\n",
    "  - Para um círculo, deve ser lido o raio.\n",
    "- Em seguida o programa faz o cálculo da área, imprime no terminal e finaliza o programa. Se o usuário digitar um caractere diferente de ’q’, ’r’, e ’c’ o programa deverá imprimir uma mensagem de erro antes de finalizar o programa."
   ]
  },
  {
   "cell_type": "code",
   "execution_count": null,
   "metadata": {},
   "outputs": [],
   "source": []
  },
  {
   "cell_type": "markdown",
   "metadata": {},
   "source": [
    "## Exercício 2"
   ]
  },
  {
   "cell_type": "markdown",
   "metadata": {},
   "source": [
    "Quando ações são vendidas ou compradas por meio de um corretor, a comissão do corretor é muitas vezes calculada usando uma escala que depende do valor das ações negociadas. Escreva um programa que calcule o valor da comissão a partir do valor da transação informado pelo usuário, sabendo-se que o corretor cobra os valores indicados abaixo e que a comissão mínima é de R$ 39,00.\n",
    "\n",
    "- Até R\\$2.500,00, comissão de R\\$30,00 + 1,7%\n",
    "\n",
    "- de R\\$2.500,01 até R\\$6.250,00, comissão de R\\$56,00 + 0,66%\n",
    "\n",
    "- R\\$6.250,01 até R\\$20.000,00, comissão de R\\$76,00 + 0,34%\n",
    "\n",
    "- R\\$20.000,01 até R\\$50.000,00, comissão de R\\$100,00 + 0,22%\n",
    "\n",
    "- R\\$50.000,01 até R\\$500.000,00, comissão de R\\$155,00 + 0,11%\n",
    "\n",
    "- Acima de R\\$500.000,00, comissão de R\\$255,00 + 0,09%"
   ]
  },
  {
   "cell_type": "code",
   "execution_count": null,
   "metadata": {},
   "outputs": [],
   "source": []
  }
 ],
 "metadata": {
  "kernelspec": {
   "display_name": "Python 3",
   "language": "python",
   "name": "python3"
  },
  "language_info": {
   "codemirror_mode": {
    "name": "ipython",
    "version": 3
   },
   "file_extension": ".py",
   "mimetype": "text/x-python",
   "name": "python",
   "nbconvert_exporter": "python",
   "pygments_lexer": "ipython3",
   "version": "3.6.4"
  },
  "latex_envs": {
   "LaTeX_envs_menu_present": true,
   "autoclose": false,
   "autocomplete": true,
   "bibliofile": "biblio.bib",
   "cite_by": "apalike",
   "current_citInitial": 1,
   "eqLabelWithNumbers": true,
   "eqNumInitial": 1,
   "hotkeys": {
    "equation": "Ctrl-E",
    "itemize": "Ctrl-I"
   },
   "labels_anchors": false,
   "latex_user_defs": false,
   "report_style_numbering": false,
   "user_envs_cfg": false
  },
  "toc": {
   "nav_menu": {},
   "number_sections": true,
   "sideBar": true,
   "skip_h1_title": false,
   "toc_cell": true,
   "toc_position": {
    "height": "565px",
    "left": "0px",
    "right": "1068px",
    "top": "111px",
    "width": "212px"
   },
   "toc_section_display": "block",
   "toc_window_display": false
  }
 },
 "nbformat": 4,
 "nbformat_minor": 1
}
