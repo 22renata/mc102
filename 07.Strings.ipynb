{
 "cells": [
  {
   "cell_type": "markdown",
   "metadata": {
    "toc": true
   },
   "source": [
    "<h1>Table of Contents<span class=\"tocSkip\"></span></h1>\n",
    "<div class=\"toc\" style=\"margin-top: 1em;\"><ul class=\"toc-item\"><li><span><a href=\"#Manipulação-de-Strings\" data-toc-modified-id=\"Manipulação-de-Strings-1\"><span class=\"toc-item-num\">1&nbsp;&nbsp;</span>Manipulação de Strings</a></span><ul class=\"toc-item\"><li><span><a href=\"#Comprimento-de-Strings\" data-toc-modified-id=\"Comprimento-de-Strings-1.1\"><span class=\"toc-item-num\">1.1&nbsp;&nbsp;</span>Comprimento de Strings</a></span></li><li><span><a href=\"#Acessando-elementos-de-uma-String\" data-toc-modified-id=\"Acessando-elementos-de-uma-String-1.2\"><span class=\"toc-item-num\">1.2&nbsp;&nbsp;</span>Acessando elementos de uma String</a></span></li><li><span><a href=\"#Slices-de-strings\" data-toc-modified-id=\"Slices-de-strings-1.3\"><span class=\"toc-item-num\">1.3&nbsp;&nbsp;</span>Slices de strings</a></span></li><li><span><a href=\"#Operador-in\" data-toc-modified-id=\"Operador-in-1.4\"><span class=\"toc-item-num\">1.4&nbsp;&nbsp;</span>Operador <strong>in</strong></a></span></li><li><span><a href=\"#Método-strip\" data-toc-modified-id=\"Método-strip-1.5\"><span class=\"toc-item-num\">1.5&nbsp;&nbsp;</span>Método <strong>strip</strong></a></span></li><li><span><a href=\"#Método-find\" data-toc-modified-id=\"Método-find-1.6\"><span class=\"toc-item-num\">1.6&nbsp;&nbsp;</span>Método <strong>find</strong></a></span></li><li><span><a href=\"#Método-replace\" data-toc-modified-id=\"Método-replace-1.7\"><span class=\"toc-item-num\">1.7&nbsp;&nbsp;</span>Método <strong>replace</strong></a></span></li><li><span><a href=\"#Objetos-imutáveis\" data-toc-modified-id=\"Objetos-imutáveis-1.8\"><span class=\"toc-item-num\">1.8&nbsp;&nbsp;</span>Objetos imutáveis</a></span></li><li><span><a href=\"#Strings-e-laços\" data-toc-modified-id=\"Strings-e-laços-1.9\"><span class=\"toc-item-num\">1.9&nbsp;&nbsp;</span>Strings e laços</a></span></li><li><span><a href=\"#Exercicios\" data-toc-modified-id=\"Exercicios-1.10\"><span class=\"toc-item-num\">1.10&nbsp;&nbsp;</span>Exercicios</a></span><ul class=\"toc-item\"><li><span><a href=\"#Letras-em-comum\" data-toc-modified-id=\"Letras-em-comum-1.10.1\"><span class=\"toc-item-num\">1.10.1&nbsp;&nbsp;</span>Letras em comum</a></span></li></ul></li></ul></li></ul></div>"
   ]
  },
  {
   "cell_type": "markdown",
   "metadata": {},
   "source": [
    "# Manipulação de Strings"
   ]
  },
  {
   "cell_type": "markdown",
   "metadata": {},
   "source": [
    "## Comprimento de Strings"
   ]
  },
  {
   "cell_type": "markdown",
   "metadata": {},
   "source": [
    "- **len**( ) é a função usada para se obter o comprimento da cadeia de caracteres. Ex:"
   ]
  },
  {
   "cell_type": "code",
   "execution_count": 10,
   "metadata": {},
   "outputs": [],
   "source": [
    "s = \"abc\"\n",
    "len(s)"
   ]
  },
  {
   "cell_type": "markdown",
   "metadata": {},
   "source": [
    "## Acessando elementos de uma String"
   ]
  },
  {
   "cell_type": "markdown",
   "metadata": {},
   "source": [
    "Cada um dos caracteres de uma string corresponde a um número de índice, começando com o número de índice 0 e indice superior = len( ) - 1.\n",
    "Se tivermos uma string longa e quisermos identificar um item próximo ao fim, também podemos contar de trás para frente, isto é, a partir do final da string, começando pelo índice -1 e terminando em $-$ len( ).\n",
    "\n",
    "Ao referenciar números de índice, podemos isolar um dos caracteres em uma string. Fazemos isso colocando os índices entre colchetes ( \"[\" & \"]\"). Com isso, pode-se obter o valor/caracter em um determinado índice ou posição. Ex:\n",
    "\n",
    "<table>\n",
    "<tr>\n",
    "  <td>s</td>\n",
    "  <td>=</td>\n",
    "  <td>\"abc\"</td>\n",
    "</tr>\n",
    "<tr></tr>\n",
    "<tr>\n",
    "  <td>índice</td>\n",
    "  <td>:</td>\n",
    "  <td>0 1 2</td>\n",
    "</tr>\n",
    "<tr></tr>\n",
    "<tr>\n",
    "  <td>índice</td>\n",
    "  <td>:</td>\n",
    "  <td>-3-2-1</td>\n",
    "</tr>\n",
    "</table>\n",
    "\n",
    " - a indexação sempre começa em $0$ na forma direta.\n",
    " - último elemento sempre tem índice $-1$ na forma reversa."
   ]
  },
  {
   "cell_type": "code",
   "execution_count": null,
   "metadata": {},
   "outputs": [],
   "source": [
    "print(s[0])\n",
    "print(s[1])\n",
    "print(s[2])\n",
    "print(s[3])\n",
    "print(s[-1])\n",
    "print(s[-2])\n",
    "print(s[-3])"
   ]
  },
  {
   "cell_type": "markdown",
   "metadata": {},
   "source": [
    "## Slices de strings"
   ]
  },
  {
   "cell_type": "markdown",
   "metadata": {},
   "source": [
    "- pode-se fatiar (slice) strings usando [start: stop: step]\n",
    "- pode-se fornecer dois números apenas, [start: stop], sendo que step = 1, por padrão\n",
    "- pode-se também omitir os números e deixar apenas dois pontos ($:$). Neste caso, o valor padrão para start = 0 e para stop = len( )."
   ]
  },
  {
   "cell_type": "code",
   "execution_count": null,
   "metadata": {},
   "outputs": [],
   "source": [
    "s = \"abcdefgh\"\n",
    "print(s[3:6])\n",
    "print(s[3:6:2])\n",
    "print(s[::])\n",
    "print(s[::-1])\n",
    "print(s[4:1:-2])"
   ]
  },
  {
   "cell_type": "markdown",
   "metadata": {},
   "source": [
    "## Operador **in**"
   ]
  },
  {
   "cell_type": "markdown",
   "metadata": {},
   "source": [
    "O operador **in** verifica se uma substring é parte de uma outra string:"
   ]
  },
  {
   "cell_type": "code",
   "execution_count": null,
   "metadata": {},
   "outputs": [],
   "source": [
    "'tho' in 'Python'"
   ]
  },
  {
   "cell_type": "code",
   "execution_count": null,
   "metadata": {},
   "outputs": [],
   "source": [
    "'thor' in 'Python'"
   ]
  },
  {
   "cell_type": "markdown",
   "metadata": {},
   "source": [
    "## Método **strip**"
   ]
  },
  {
   "cell_type": "markdown",
   "metadata": {},
   "source": [
    "O método **strip** retorna uma string sem os brancos e caracteres de mudança de\n",
    "linha no início e final de uma string:"
   ]
  },
  {
   "cell_type": "code",
   "execution_count": null,
   "metadata": {},
   "outputs": [],
   "source": [
    "aa = ' \\n  abcndef   \\n'\n",
    "aa"
   ]
  },
  {
   "cell_type": "code",
   "execution_count": null,
   "metadata": {},
   "outputs": [],
   "source": [
    "print(\"<\", aa, \">\")"
   ]
  },
  {
   "cell_type": "code",
   "execution_count": null,
   "metadata": {},
   "outputs": [],
   "source": [
    "aa.strip()"
   ]
  },
  {
   "cell_type": "markdown",
   "metadata": {},
   "source": [
    "## Método **find**"
   ]
  },
  {
   "cell_type": "markdown",
   "metadata": {},
   "source": [
    "O método **find** retorna onde a substring começa na string. Este retorna $-1$ quando a substring não ocorre na string:"
   ]
  },
  {
   "cell_type": "code",
   "execution_count": null,
   "metadata": {},
   "outputs": [],
   "source": [
    "p = 'python'\n",
    "p.find('tho')"
   ]
  },
  {
   "cell_type": "code",
   "execution_count": null,
   "metadata": {},
   "outputs": [],
   "source": [
    "p.find('thor')"
   ]
  },
  {
   "cell_type": "markdown",
   "metadata": {},
   "source": [
    "## Método **replace**"
   ]
  },
  {
   "cell_type": "markdown",
   "metadata": {},
   "source": [
    "O método **replace** serve para trocar todas as ocorrências de uma\n",
    "substring por outra em uma string. Note que como strings são imutáveis, uma nova string é retornada."
   ]
  },
  {
   "cell_type": "code",
   "execution_count": null,
   "metadata": {},
   "outputs": [],
   "source": [
    "s = \"abcabcdfgabc abc a b c\"\n",
    "s.replace(\"abc\",\"\")"
   ]
  },
  {
   "cell_type": "markdown",
   "metadata": {},
   "source": [
    "## Objetos imutáveis"
   ]
  },
  {
   "cell_type": "markdown",
   "metadata": {},
   "source": [
    "Strings são imutáveis, isto é, não podem ser modificados"
   ]
  },
  {
   "cell_type": "code",
   "execution_count": 18,
   "metadata": {},
   "outputs": [],
   "source": [
    "s = \"hello\"\n",
    "s[0] = 'y'\n",
    "s = 'y' + s[1:len(s)]\n",
    "print(s)"
   ]
  },
  {
   "cell_type": "markdown",
   "metadata": {},
   "source": [
    "<img src=\"img/imutable.png\" alt=\"Drawing\" style=\"width: 400px;\"/>"
   ]
  },
  {
   "cell_type": "markdown",
   "metadata": {},
   "source": [
    "## Strings e laços"
   ]
  },
  {
   "cell_type": "markdown",
   "metadata": {},
   "source": [
    "Os dois trechos de código abaixo iteram sobre um string e produzem o mesmo resultado. No entanto, o segundo é considerado mais \"pythonico\", isto é, mais elegante, mais \"clean\":"
   ]
  },
  {
   "cell_type": "code",
   "execution_count": 1,
   "metadata": {},
   "outputs": [],
   "source": [
    "s = \"abcdefgh\"\n",
    "\n",
    "for index in range(len(s)):\n",
    "    if s[index] == 'i' or s[index] == 'u':\n",
    "        print(\"There is an i or u\")\n",
    "        \n",
    "for char in s:\n",
    "    if char == 'i' or char == 'u':\n",
    "        print(\"There is an i or u\")"
   ]
  },
  {
   "cell_type": "markdown",
   "metadata": {},
   "source": [
    "## Exercicios"
   ]
  },
  {
   "cell_type": "markdown",
   "metadata": {},
   "source": [
    "### Letras em comum"
   ]
  },
  {
   "cell_type": "markdown",
   "metadata": {},
   "source": [
    "Conte o número de letras em comum entre duas strings. Use a bultin `isalpha` para\n",
    "descobrir se um caracter é letra ou não. Ex.:\n",
    "```python\n",
    "x = \"A\"\n",
    "x.isalpha() == true\n",
    "y = \"3\"\n",
    "y.isaplha() == false\n",
    "```"
   ]
  },
  {
   "cell_type": "code",
   "execution_count": null,
   "metadata": {
    "code_folding": [
     3
    ]
   },
   "outputs": [],
   "source": [
    "s1 = \"Unicamp u rock\"\n",
    "s2 = \"I rule Unicamp\"\n",
    "common = 0\n",
    "for char1 in s1:\n",
    "    if char1.isalpha():\n",
    "        for char2 in s2:\n",
    "            if char2 == char1:\n",
    "                common = common + 1\n",
    "                break\n",
    "print(\"common letters: \", common)"
   ]
  },
  {
   "cell_type": "code",
   "execution_count": null,
   "metadata": {},
   "outputs": [],
   "source": []
  }
 ],
 "metadata": {
  "kernelspec": {
   "display_name": "Python 3",
   "language": "python",
   "name": "python3"
  },
  "language_info": {
   "codemirror_mode": {
    "name": "ipython",
    "version": 3
   },
   "file_extension": ".py",
   "mimetype": "text/x-python",
   "name": "python",
   "nbconvert_exporter": "python",
   "pygments_lexer": "ipython3",
   "version": "3.6.4"
  },
  "latex_envs": {
   "LaTeX_envs_menu_present": true,
   "autoclose": false,
   "autocomplete": true,
   "bibliofile": "biblio.bib",
   "cite_by": "apalike",
   "current_citInitial": 1,
   "eqLabelWithNumbers": true,
   "eqNumInitial": 1,
   "hotkeys": {
    "equation": "Ctrl-E",
    "itemize": "Ctrl-I"
   },
   "labels_anchors": false,
   "latex_user_defs": false,
   "report_style_numbering": false,
   "user_envs_cfg": false
  },
  "toc": {
   "nav_menu": {},
   "number_sections": true,
   "sideBar": true,
   "skip_h1_title": false,
   "toc_cell": true,
   "toc_position": {
    "height": "565px",
    "left": "0px",
    "right": "1068px",
    "top": "111px",
    "width": "212px"
   },
   "toc_section_display": "block",
   "toc_window_display": false
  }
 },
 "nbformat": 4,
 "nbformat_minor": 1
}
