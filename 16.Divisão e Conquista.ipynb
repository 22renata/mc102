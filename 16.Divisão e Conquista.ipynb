{
 "cells": [
  {
   "cell_type": "markdown",
   "metadata": {
    "toc": true
   },
   "source": [
    "<h1>Table of Contents<span class=\"tocSkip\"></span></h1>\n",
    "<div class=\"toc\" style=\"margin-top: 1em;\"><ul class=\"toc-item\"><li><span><a href=\"#Divisão-e-Conquista\" data-toc-modified-id=\"Divisão-e-Conquista-1\"><span class=\"toc-item-num\">1&nbsp;&nbsp;</span>Divisão e Conquista</a></span><ul class=\"toc-item\"><li><span><a href=\"#Quick-Sort\" data-toc-modified-id=\"Quick-Sort-1.1\"><span class=\"toc-item-num\">1.1&nbsp;&nbsp;</span>Quick Sort</a></span><ul class=\"toc-item\"><li><span><a href=\"#Análise-da-Complexidade\" data-toc-modified-id=\"Análise-da-Complexidade-1.1.1\"><span class=\"toc-item-num\">1.1.1&nbsp;&nbsp;</span>Análise da Complexidade</a></span></li><li><span><a href=\"#Algoritmo-Recursivo\" data-toc-modified-id=\"Algoritmo-Recursivo-1.1.2\"><span class=\"toc-item-num\">1.1.2&nbsp;&nbsp;</span>Algoritmo Recursivo</a></span></li><li><span><a href=\"#Exercícios\" data-toc-modified-id=\"Exercícios-1.1.3\"><span class=\"toc-item-num\">1.1.3&nbsp;&nbsp;</span>Exercícios</a></span></li></ul></li><li><span><a href=\"#Merge-Sort\" data-toc-modified-id=\"Merge-Sort-1.2\"><span class=\"toc-item-num\">1.2&nbsp;&nbsp;</span>Merge Sort</a></span></li></ul></li></ul></div>"
   ]
  },
  {
   "cell_type": "markdown",
   "metadata": {},
   "source": [
    "# Divisão e Conquista"
   ]
  },
  {
   "cell_type": "markdown",
   "metadata": {},
   "source": [
    "Os algoritmos de classificação que estudamos têm tempos de execução $\\large{O}$\n",
    "($n^2$). Existem várias variações nesses algoritmos de classificação, alguns\n",
    "dos quais são marginalmente mais rápidos, mas eles também são $\\large{O}$\n",
    "($n^2$) nos casos médios e piores. Hoje iremos estudar alguns algoritmos\n",
    "melhores que são $\\large{O}$ ($n log_{2} n$). O segredo para esses melhores\n",
    "algoritmos é o uso da estratégia de divisão e conquista que\n",
    "empregamos, por exemplo, na busca binária. Ou seja, cada algoritmo encontra uma maneira de\n",
    "quebrar a lista em sublistas menores. Essas sublistas são então ordenadas\n",
    "recursivamente. Idealmente, se o número dessas subdivisões é $log_{2} (n)$ e a\n",
    "quantidade de trabalho necessário para reorganizar os dados em cada subdivisão\n",
    "é $n$, então a complexidade total de tal algoritmo de ordenação é $\\large{O}$\n",
    "($n log_{2} n$). Na tabela abaixo, você pode ver que a taxa de crescimento do\n",
    "trabalho de um algoritmo $\\large{O}$ ($n log_{2} n$) é muito mais lenta que a\n",
    "de um algoritmo $\\large{O}$ ($n^2$)."
   ]
  },
  {
   "cell_type": "markdown",
   "metadata": {},
   "source": [
    "|$n$ |$n Log_{2} n$| $n^2$|\n",
    "| :--: | :--: | :--: |\n",
    "|512 |4,608| 262,144|\n",
    "|1,024| 10,240 |1,048,576|\n",
    "|2,048| 22,458| 4,194,304|\n",
    "|8,192| 106,496| 67,108,864|\n",
    "|16,384| 229,376| 268,435,456|\n",
    "|32,768| 491,520| 1,073,741,824|"
   ]
  },
  {
   "cell_type": "markdown",
   "metadata": {},
   "source": [
    "Recapitulando, a estratégia de Divisão e Conquista pode ser feito em três amplos passos:"
   ]
  },
  {
   "cell_type": "markdown",
   "metadata": {},
   "source": [
    "- Dividir:\n",
    "O passo de divisão quebra o problema original em subproblemas que são instâncias menores do problema original.\n",
    "\n",
    "- Conquistar:\n",
    "O passo de conquistar resolve os subproblemas de forma recursiva. No passo recursivo, os subproblemas são resolvidos, até o caso base, que é o ponto em que o problema não pode ser mais dividido.\n",
    "\n",
    "- Combinar:\n",
    "Neste passo, combina-s os subproblemas resolvidos para resolver o problema original."
   ]
  },
  {
   "cell_type": "markdown",
   "metadata": {},
   "source": [
    "## Quick Sort"
   ]
  },
  {
   "cell_type": "markdown",
   "metadata": {},
   "source": [
    "Aqui está um esboço da estratégia de Divisão e Conquista utilizada no algoritmo conhecido como quicksort:\n",
    "\n",
    "- Comece selecionando o item no ponto médio da lista. Chamamos esse item de pivô. (Mais tarde, discutiremos maneiras alternativas de escolher o pivô).\n",
    "\n",
    "- Particione os itens na lista para que todos os itens inferiores ao pivô fiquem à esquerda do pivô, e o resto, à sua direita. A posição final do próprio pivô varia, dependendo dos itens reais envolvidos. Mas onde quer que o pivô termine, essa é a sua posição final na lista totalmente ordenada.\n",
    "\n",
    "- Dividir e conquistar. Reaplicar o processo de forma recursiva às sublistas formadas pela divisão da lista no pivô. Uma sublista consiste em todos os itens à esquerda do pivô (agora os menores itens que o pivô) e a outra sublista tem todos os itens à direita (agora os maiores).\n",
    "\n",
    "- O processo termina toda vez que encontramos uma sublista com menos de dois itens."
   ]
  },
  {
   "cell_type": "markdown",
   "metadata": {},
   "source": [
    "Vejamos uma animação da aplicação do algoritmo:"
   ]
  },
  {
   "cell_type": "markdown",
   "metadata": {},
   "source": [
    "<video controls src=\"videos/quick.mp4\" />"
   ]
  },
  {
   "cell_type": "markdown",
   "metadata": {},
   "source": [
    "A parte mais complicada do algoritmo é a operação de partição dos itens em uma sublista. Existem duas maneiras principais de fazer isso. Informalmente, o que se segue é uma descrição do método mais fácil, pois se aplica a qualquer sublista:\n",
    "\n",
    "1. Troque o pivô com o último item na sublista.\n",
    "\n",
    "2. Estabeleça um limite entre os itens que são conhecidos como inferiores ao pivô e ao resto dos itens. Inicialmente, esse limite é posicionado imediatamente antes do primeiro item.\n",
    "\n",
    "3. Iniciando com o primeiro item na sublista, explore a sublista. Toda vez que um item menor que o pivô é encontrado, troque-o com o primeiro item após o limite e avance o limite.\n",
    "\n",
    "4. Termine, trocando o pivô com o primeiro item após o limite."
   ]
  },
  {
   "cell_type": "markdown",
   "metadata": {},
   "source": [
    "Depois que uma sublista foi particionada, reaplicamos o processo às suas sublistas à esquerda e à direita e assim por diante, até que as sublistas tenham um comprimento de um."
   ]
  },
  {
   "cell_type": "markdown",
   "metadata": {},
   "source": [
    "### Análise da Complexidade"
   ]
  },
  {
   "cell_type": "markdown",
   "metadata": {},
   "source": [
    "Apresentamos agora uma análise informal da complexidade do Quick Sort. Durante a primeira operação de partição, examinamos todos os itens desde o início da lista até o fim. Assim, a quantidade de trabalho durante esta operação é proporcional a $n$, o comprimento da lista.\n",
    "A quantidade de trabalho após esta partição é proporcional ao comprimento da sublista à esquerda mais o comprimento da sublistra à direita, que em conjunto produzem $n-1$. E quando essas sublistas são divididas, existem quatro partes cujo comprimento combinado é aproximadamente $n$, então o trabalho combinado é proporcional a $n$ novamente. Como a lista é dividida em mais partes, o trabalho total permanece proporcional a $n$.\n",
    "Para completar a análise, precisamos determinar quantas vezes as listas são particionadas. Vamos fazer a suposição otimista de que, cada vez, a linha divisória entre as novas sublistas se torna tão próxima do centro da sublista atual quanto possível. Na prática, este não é geralmente o caso. Você já sabe, a partir da discussão do algoritmo de busca binária, que quando você divide uma lista pela metade repetidamente, você chega a um único elemento nas etapas em $log_{2} n$. Assim, o algoritmo é $\\large{O}$ ($n log_{2} n$) no melhor caso.\n",
    "Para o desempenho do pior caso, considere o caso de uma lista que já está ordenada. Se o elemento de pivô escolhido for o primeiro elemento, então, há $n-1$ elementos à direita na primeira partição, $n-2$ elementos à direita na segunda partição, e assim por diante."
   ]
  },
  {
   "cell_type": "markdown",
   "metadata": {},
   "source": [
    "Embora nenhum elemento seja trocado, o número total de partições é $n-1$ e o número total de comparações realizadas é $1/2 n^2 - 1/2 n$, o mesmo número no Selection Sort e no Bubble Sort. Assim, no pior caso, o algoritmo Quick Sort é $\\large{O}$ ($n^2$).\n",
    "Se Quick Sort for implementado como um algoritmo recursivo, a análise também deve considerar o uso de memória para a pilha de chamadas. Cada chamada recursiva requer uma quantidade constante de memória para um frame da pilha, e há duas chamadas recursivas após cada partição. Assim, o uso de memória é $\\large{O}$ ($log_{2} n$) no melhor caso e $\\large{O}$ ($n$) no pior dos casos.\n",
    "Embora o desempenho do pior caso do Quick Sort seja raro, os programadores certamente preferem evitá-lo. Escolher o pivô na primeira ou última posição não é uma estratégia sábia. Outros métodos de escolha do pivô, como selecionar uma posição aleatória ou escolher a mediana dos primeiros, médios e últimos elementos, podem ajudar a aproximar o desempenho para $\\large{O}$ ($n log_{2} n$)."
   ]
  },
  {
   "cell_type": "markdown",
   "metadata": {},
   "source": [
    "### Algoritmo Recursivo"
   ]
  },
  {
   "cell_type": "code",
   "execution_count": 1,
   "metadata": {},
   "outputs": [],
   "source": [
    "def quicksort(lst):\n",
    "    quicksortHelper(lst, 0, len(lst) - 1)\n",
    "    \n",
    "def quicksortHelper(lst, left, right):\n",
    "    if left < right:\n",
    "        pivotLocation = partition(lst, left, right)\n",
    "        quicksortHelper(lst, left, pivotLocation - 1)\n",
    "        quicksortHelper(lst, pivotLocation + 1, right)\n",
    "    \n",
    "def partition(lst, left, right):\n",
    "    # Find the pivot and exchange it with the last item\n",
    "    middle = (left + right) // 2\n",
    "    pivot = lst[middle]\n",
    "    lst[middle] = lst[right]\n",
    "    lst[right] = pivot\n",
    "    # Set boundary point to first position\n",
    "    boundary = left\n",
    "    # Move items less than pivot to the left\n",
    "    for index in range(left, right):\n",
    "        if lst[index] < pivot:\n",
    "            lst[index], lst[boundary] = lst[boundary], lst[index]\n",
    "            boundary += 1\n",
    "    # Exchange the pivot item and the boundary item\n",
    "    lst[boundary], lst[right] = lst[right], lst[boundary]\n",
    "    return boundary"
   ]
  },
  {
   "cell_type": "code",
   "execution_count": null,
   "metadata": {},
   "outputs": [],
   "source": [
    "from random import randint\n",
    "\n",
    "lst = []\n",
    "for count in range(20):\n",
    "    lst.append(randint(1, 100))\n",
    "print(lst)\n",
    "quicksort(lst)\n",
    "print(lst)"
   ]
  },
  {
   "cell_type": "markdown",
   "metadata": {},
   "source": [
    "### Exercícios\n",
    "\n",
    "1. Aplique o algoritmo de particionamento sobre o vetor [13, 19, 9, 5, 12, 21, 7, 4, 11, 2, 6, 6] com pivô igual a 6.\n",
    "\n",
    "2. Qual o valor retornado pelo algoritmo de particionamento se todos os elementos do vetor tiverem valores iguais?\n",
    "\n",
    "3.  Faça uma execução passo-a-passo do Quick Sort com o vetor [4, 3, 6, 7, 9, 10, 5, 8].\n",
    "\n",
    "4. Modifique o algoritmo Quick Sort para ordenar vetores em ordem decrescente."
   ]
  },
  {
   "cell_type": "markdown",
   "metadata": {},
   "source": [
    "## Merge Sort"
   ]
  },
  {
   "cell_type": "markdown",
   "metadata": {},
   "source": [
    "<video controls src=\"videos/merge.mp4\" />"
   ]
  },
  {
   "cell_type": "code",
   "execution_count": null,
   "metadata": {},
   "outputs": [],
   "source": []
  }
 ],
 "metadata": {
  "kernelspec": {
   "display_name": "Python 3",
   "language": "python",
   "name": "python3"
  },
  "language_info": {
   "codemirror_mode": {
    "name": "ipython",
    "version": 3
   },
   "file_extension": ".py",
   "mimetype": "text/x-python",
   "name": "python",
   "nbconvert_exporter": "python",
   "pygments_lexer": "ipython3",
   "version": "3.6.4"
  },
  "latex_envs": {
   "LaTeX_envs_menu_present": true,
   "autoclose": false,
   "autocomplete": true,
   "bibliofile": "biblio.bib",
   "cite_by": "apalike",
   "current_citInitial": 1,
   "eqLabelWithNumbers": true,
   "eqNumInitial": 1,
   "hotkeys": {
    "equation": "Ctrl-E",
    "itemize": "Ctrl-I"
   },
   "labels_anchors": false,
   "latex_user_defs": false,
   "report_style_numbering": false,
   "user_envs_cfg": false
  },
  "toc": {
   "nav_menu": {},
   "number_sections": true,
   "sideBar": true,
   "skip_h1_title": false,
   "toc_cell": true,
   "toc_position": {},
   "toc_section_display": "block",
   "toc_window_display": false
  }
 },
 "nbformat": 4,
 "nbformat_minor": 2
}
