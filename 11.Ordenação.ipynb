{
 "cells": [
  {
   "cell_type": "markdown",
   "metadata": {
    "toc": true
   },
   "source": [
    "<h1>Table of Contents<span class=\"tocSkip\"></span></h1>\n",
    "<div class=\"toc\" style=\"margin-top: 1em;\"><ul class=\"toc-item\"><li><span><a href=\"#Ordenação\" data-toc-modified-id=\"Ordenação-1\"><span class=\"toc-item-num\">1&nbsp;&nbsp;</span>Ordenação</a></span><ul class=\"toc-item\"><li><span><a href=\"#Selection-sort\" data-toc-modified-id=\"Selection-sort-1.1\"><span class=\"toc-item-num\">1.1&nbsp;&nbsp;</span>Selection sort</a></span></li><li><span><a href=\"#Bubble-sort\" data-toc-modified-id=\"Bubble-sort-1.2\"><span class=\"toc-item-num\">1.2&nbsp;&nbsp;</span>Bubble sort</a></span></li><li><span><a href=\"#Insertion-sort\" data-toc-modified-id=\"Insertion-sort-1.3\"><span class=\"toc-item-num\">1.3&nbsp;&nbsp;</span>Insertion sort</a></span></li><li><span><a href=\"#Quick-sort\" data-toc-modified-id=\"Quick-sort-1.4\"><span class=\"toc-item-num\">1.4&nbsp;&nbsp;</span>Quick sort</a></span></li><li><span><a href=\"#Merge-sort\" data-toc-modified-id=\"Merge-sort-1.5\"><span class=\"toc-item-num\">1.5&nbsp;&nbsp;</span>Merge sort</a></span></li></ul></li></ul></div>"
   ]
  },
  {
   "cell_type": "markdown",
   "metadata": {},
   "source": [
    "# Ordenação"
   ]
  },
  {
   "cell_type": "markdown",
   "metadata": {},
   "source": [
    "Vamos estudar alguns algoritmos para o seguinte problema:\n",
    "\n",
    "- Dado uma coleção de elementos com uma relação de ordem entre si, devemos gerar uma saída com os elementos ordenados.\n",
    "\n",
    "Antes porém, vamos estabelecer (pelo menos um motivo) por que é útil ter dados que estão ordenados. Em suma, os dados ordenados tornam o processamento de dados muito mais rápido.\n",
    "\n",
    "Mas como medimos o que é \"rápido\" vs. o que é \"lento?\" A chave para analisar o tempo que um programa leva para executar é contar o número de operações que ele executará para um determinado tamanho de entrada. Os cientistas raramente se preocupam com algoritmos rápidos ou lentos para entradas muito pequenas: quase sempre são rápidos se a entrada for pequena. No entanto, ao processar grandes entradas (por exemplo, milhões de usuários que avaliam centenas ou mesmo milhares de dados), a velocidade torna-se crítica."
   ]
  },
  {
   "cell_type": "markdown",
   "metadata": {},
   "source": [
    "Vamos analisar quanto tempo leva para calcular o número de objetos iguais entre duas listas usando a função abaixo:"
   ]
  },
  {
   "cell_type": "code",
   "execution_count": null,
   "metadata": {},
   "outputs": [],
   "source": [
    "def numMatches(list1, list2):\n",
    "    ''' return the number of elements that match between\n",
    "        list1 and list2 '''\n",
    "    count = 0\n",
    "    for item in list1:\n",
    "        if item in list2:\n",
    "            count += 1\n",
    "    return count"
   ]
  },
  {
   "cell_type": "markdown",
   "metadata": {},
   "source": [
    "Para efeito de análise, vamos supor que as listas em questão tem comprimento 4, isto é, `len(list1) == len(list2) == 4`. Inicialmente, pegue o primeiro elemento da primeira lista e pergunte se este elemento está na segunda lista. O comando `in` é um pouco enganador porque esconde um número significativo de comparações. Como o Python verifica se um item está em uma lista? É necessário comparar esse item com cada item da lista! Então, neste caso, o primeiro item da primeira lista é comparado a cada item na segunda lista para determinar se está nessa lista ou não."
   ]
  },
  {
   "cell_type": "markdown",
   "metadata": {},
   "source": [
    "\"Espere!\", Você diz. Se o item estiver realmente na lista, ele não precisa verificar os quatro itens, e pode parar de verificar quando ele encontra o item em questão. Isso é exatamente correto, mas na verdade não importa em nossa análise. Para uma análise como essa, os cientistas da computação são bastante pessimistas. Eles raramente se importam com o que acontece quando as coisas funcionam bem -- o que eles importam é o que pode acontecer no pior dos casos. Nesse caso, o pior caso é quando o item não está na lista e o Python tem que compará-lo com cada item da lista para determinar que o elemento não está lá. Uma vez que o que nos interessa é o comportamento do pior caso, realizaremos nossa análise como se estivéssemos lidando com o pior caso.\n",
    "\n",
    "Então, de volta à análise: Para o primeiro item na lista, a Python fez quatro comparações aos itens na segunda lista -- comandos que foram escondidos no comando `in`. Agora, nosso programa passa para o segundo item na primeira lista, onde novamente faz quatro comparações com a segunda lista. Da mesma forma, faz quatro comparações para cada um dos terceiro e quarto elementos na primeira lista, o que nos leva a um total de $4 + 4 + 4 + 4 = 4 * 4 = 16$ comparações. Isso provavelmente não soa como um número tão ruim. Afinal, seu computador pode fazer 16 comparações em menos de um segundo. Mas e se nossas listas fossem mais longas? E se a lista1 tivess $100$ elementos e a lista 2, $1000$ elementos (alto, mas não muito)? Isto posto, o sistema teria que fazer $1000$ comparações (para os itens na segunda lista) para cada um dos $100$ itens na primeira lista para um total de $100 * 1000 = 10^5$ comparações. Ainda não é enorme, mas espero que você possa ver onde isso está nos levando. Em geral, o algoritmo de \\textit{match}  que escrevemos acima leva $N * M$ comparações, onde $N$ é o tamanho da primeira lista e $M$ é o tamanho da segunda lista. Por simplicidade, podemos assumir que as duas listas sempre terão o mesmo comprimento, $N$, caso em que ele faz as $N^2$ comparações."
   ]
  },
  {
   "cell_type": "markdown",
   "metadata": {},
   "source": [
    "A boa notícia é que podemos fazer significativamente melhor, mas temos que fazer uma suposição sobre as próprias listas. E se nossas listas fossem ordenadas alfabeticamente? Como isso pode tornar nosso algoritmo de \\textit{match}  mais rápido? A resposta é que podemos manter as listas \"sincronizadas\", por assim dizer, e \"caminhar\" através de ambas as listas ao mesmo tempo, em vez de selecionar um único elemento da primeira lista e compará-lo com todos os elementos na segunda. Por exemplo, se as listas são compostas de strings (nomes de bandas) ordenados lexcograficamente e, se você está olhando para o primeiro elemento da primeira lista e este string é igual a \"Black Eyed Peas\" e o primeiro elemento da segunda lista é \"Counting Crows\", você sabe que o string \"Black Eyed Peas\" não aparecem na segunda lista , porque C já passou B. Então, você pode simplesmente descartar o \"Black Eyed Peas\" e passar para a próxima banda na primeira lista."
   ]
  },
  {
   "cell_type": "markdown",
   "metadata": {},
   "source": [
    "## Selection sort"
   ]
  },
  {
   "cell_type": "markdown",
   "metadata": {},
   "source": [
    "<video controls src=\"videos/selection.mp4\" />"
   ]
  },
  {
   "cell_type": "markdown",
   "metadata": {},
   "source": [
    "## Bubble sort"
   ]
  },
  {
   "cell_type": "markdown",
   "metadata": {},
   "source": [
    "<video controls src=\"videos/bubble.mp4\" />"
   ]
  },
  {
   "cell_type": "markdown",
   "metadata": {},
   "source": [
    "## Insertion sort"
   ]
  },
  {
   "cell_type": "markdown",
   "metadata": {},
   "source": [
    "<video controls src=\"videos/insertion.mp4\" />"
   ]
  },
  {
   "cell_type": "markdown",
   "metadata": {},
   "source": [
    "## Quick sort"
   ]
  },
  {
   "cell_type": "markdown",
   "metadata": {},
   "source": [
    "<video controls src=\"videos/quick.mp4\" />"
   ]
  },
  {
   "cell_type": "markdown",
   "metadata": {},
   "source": [
    "## Merge sort"
   ]
  },
  {
   "cell_type": "markdown",
   "metadata": {},
   "source": [
    "<video controls src=\"videos/merge.mp4\" />"
   ]
  },
  {
   "cell_type": "code",
   "execution_count": null,
   "metadata": {},
   "outputs": [],
   "source": []
  }
 ],
 "metadata": {
  "kernelspec": {
   "display_name": "Python 3",
   "language": "python",
   "name": "python3"
  },
  "language_info": {
   "codemirror_mode": {
    "name": "ipython",
    "version": 3
   },
   "file_extension": ".py",
   "mimetype": "text/x-python",
   "name": "python",
   "nbconvert_exporter": "python",
   "pygments_lexer": "ipython3",
   "version": "3.6.4"
  },
  "latex_envs": {
   "LaTeX_envs_menu_present": true,
   "autoclose": false,
   "autocomplete": true,
   "bibliofile": "biblio.bib",
   "cite_by": "apalike",
   "current_citInitial": 1,
   "eqLabelWithNumbers": true,
   "eqNumInitial": 1,
   "hotkeys": {
    "equation": "Ctrl-E",
    "itemize": "Ctrl-I"
   },
   "labels_anchors": false,
   "latex_user_defs": false,
   "report_style_numbering": false,
   "user_envs_cfg": false
  },
  "toc": {
   "nav_menu": {},
   "number_sections": true,
   "sideBar": true,
   "skip_h1_title": false,
   "toc_cell": true,
   "toc_position": {},
   "toc_section_display": "block",
   "toc_window_display": false
  }
 },
 "nbformat": 4,
 "nbformat_minor": 2
}
