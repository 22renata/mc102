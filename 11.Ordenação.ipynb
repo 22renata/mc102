{
 "cells": [
  {
   "cell_type": "markdown",
   "metadata": {
    "toc": true
   },
   "source": [
    "<h1>Table of Contents<span class=\"tocSkip\"></span></h1>\n",
    "<div class=\"toc\" style=\"margin-top: 1em;\"><ul class=\"toc-item\"><li><span><a href=\"#Ordenação\" data-toc-modified-id=\"Ordenação-1\"><span class=\"toc-item-num\">1&nbsp;&nbsp;</span>Ordenação</a></span><ul class=\"toc-item\"><li><span><a href=\"#Selection-sort\" data-toc-modified-id=\"Selection-sort-1.1\"><span class=\"toc-item-num\">1.1&nbsp;&nbsp;</span>Selection sort</a></span></li><li><span><a href=\"#Bubble-sort\" data-toc-modified-id=\"Bubble-sort-1.2\"><span class=\"toc-item-num\">1.2&nbsp;&nbsp;</span>Bubble sort</a></span></li><li><span><a href=\"#Insertion-sort\" data-toc-modified-id=\"Insertion-sort-1.3\"><span class=\"toc-item-num\">1.3&nbsp;&nbsp;</span>Insertion sort</a></span></li><li><span><a href=\"#Quick-sort\" data-toc-modified-id=\"Quick-sort-1.4\"><span class=\"toc-item-num\">1.4&nbsp;&nbsp;</span>Quick sort</a></span></li><li><span><a href=\"#Merge-sort\" data-toc-modified-id=\"Merge-sort-1.5\"><span class=\"toc-item-num\">1.5&nbsp;&nbsp;</span>Merge sort</a></span></li></ul></li></ul></div>"
   ]
  },
  {
   "cell_type": "markdown",
   "metadata": {},
   "source": [
    "# Ordenação"
   ]
  },
  {
   "cell_type": "markdown",
   "metadata": {},
   "source": [
    "Vamos estudar alguns algoritmos para o seguinte problema:\n",
    "\n",
    "- Dado uma coleção de elementos com uma relação de ordem entre si, devemos gerar uma saída com os elementos ordenados.\n",
    "\n",
    "Antes porém, vamos estabelecer (pelo menos um motivo) por que é útil ter dados que estão ordenados. Em suma, os dados ordenados tornam o processamento de dados muito mais rápido.\n",
    "\n",
    "Mas como medimos o que é \"rápido\" vs. o que é \"lento?\" A chave para analisar o tempo que um programa leva para executar é contar o número de operações que ele executará para um determinado tamanho de entrada. Os cientistas raramente se preocupam com algoritmos rápidos ou lentos para entradas muito pequenas: quase sempre são rápidos se a entrada for pequena. No entanto, ao processar grandes entradas (por exemplo, milhões de usuários que avaliam centenas ou mesmo milhares de dados), a velocidade torna-se crítica."
   ]
  },
  {
   "cell_type": "markdown",
   "metadata": {},
   "source": [
    "Vamos analisar quanto tempo leva para calcular o número de objetos iguais entre duas listas usando a função abaixo:"
   ]
  },
  {
   "cell_type": "code",
   "execution_count": null,
   "metadata": {},
   "outputs": [],
   "source": [
    "def numMatches(list1, list2):\n",
    "    ''' return the number of elements that match between\n",
    "        list1 and list2 '''\n",
    "    count = 0\n",
    "    for item in list1:\n",
    "        if item in list2:\n",
    "            count += 1\n",
    "    return count"
   ]
  },
  {
   "cell_type": "markdown",
   "metadata": {},
   "source": [
    "Para efeito de análise, vamos supor que as listas em questão tem comprimento 4, isto é, `len(list1) == len(list2) == 4`. Inicialmente, pegue o primeiro elemento da primeira lista e pergunte se este elemento está na segunda lista. O comando `in` é um pouco enganador porque esconde um número significativo de comparações. Como o Python verifica se um item está em uma lista? É necessário comparar esse item com cada item da lista! Então, neste caso, o primeiro item da primeira lista é comparado a cada item na segunda lista para determinar se está nessa lista ou não."
   ]
  },
  {
   "cell_type": "markdown",
   "metadata": {},
   "source": [
    "\"Espere!\", Você diz. Se o item estiver realmente na lista, ele não precisa verificar os quatro itens, e pode parar de verificar quando ele encontra o item em questão. Isso é exatamente correto, mas na verdade não importa em nossa análise. Para uma análise como essa, os cientistas da computação são bastante pessimistas. Eles raramente se importam com o que acontece quando as coisas funcionam bem -- o que eles importam é o que pode acontecer no pior dos casos. Nesse caso, o pior caso é quando o item não está na lista e o Python tem que compará-lo com cada item da lista para determinar que o elemento não está lá. Uma vez que o que nos interessa é o comportamento do pior caso, realizaremos nossa análise como se estivéssemos lidando com o pior caso.\n",
    "\n",
    "Então, de volta à análise: Para o primeiro item na lista, a Python fez quatro comparações aos itens na segunda lista -- comandos que foram escondidos no comando `in`. Agora, nosso programa passa para o segundo item na primeira lista, onde novamente faz quatro comparações com a segunda lista. Da mesma forma, faz quatro comparações para cada um dos terceiro e quarto elementos na primeira lista, o que nos leva a um total de $4 + 4 + 4 + 4 = 4 * 4 = 16$ comparações. Isso provavelmente não soa como um número tão ruim. Afinal, seu computador pode fazer 16 comparações em menos de um segundo. Mas e se nossas listas fossem mais longas? E se a lista1 tivess $100$ elementos e a lista 2, $1000$ elementos (alto, mas não muito)? Isto posto, o sistema teria que fazer $1000$ comparações (para os itens na segunda lista) para cada um dos $100$ itens na primeira lista para um total de $100 * 1000 = 10^5$ comparações. Ainda não é enorme, mas espero que você possa ver onde isso está nos levando. Em geral, o algoritmo de \\textit{match}  que escrevemos acima leva $N * M$ comparações, onde $N$ é o tamanho da primeira lista e $M$ é o tamanho da segunda lista. Por simplicidade, podemos assumir que as duas listas sempre terão o mesmo comprimento, $N$, caso em que ele faz as $N^2$ comparações."
   ]
  },
  {
   "cell_type": "markdown",
   "metadata": {},
   "source": [
    "A boa notícia é que podemos fazer significativamente melhor, mas temos que fazer uma suposição sobre as próprias listas. E se nossas listas fossem ordenadas alfabeticamente? Como isso pode tornar nosso algoritmo de \\textit{match}  mais rápido? A resposta é que podemos manter as listas \"sincronizadas\", por assim dizer, e \"caminhar\" através de ambas as listas ao mesmo tempo, em vez de selecionar um único elemento da primeira lista e compará-lo com todos os elementos na segunda. Por exemplo, se as listas são compostas de strings (por exemplo, nomes de bandas) ordenados lexcograficamente e, se você está olhando para o primeiro elemento da primeira lista e este string é igual a \"Black Eyed Peas\" e o primeiro elemento da segunda lista é \"Counting Crows\", você sabe que o string \"Black Eyed Peas\" não aparecem na segunda lista , porque C é lexicograficamente maior que B. Então, você pode simplesmente descartar o \"Black Eyed Peas\" e passar para a próxima banda na primeira lista."
   ]
  },
  {
   "cell_type": "markdown",
   "metadata": {},
   "source": [
    "Veja como seria o algoritmo. Lembre-se que assumimos que as listas estão ordenadas. \n",
    "\n",
    "- Inicialize um contador em 0\n",
    "- Defina o item atual em cada lista para ser o primeiro item em cada lista\n",
    "- Repita o procedimento a seguir até chegar ao final de uma das duas listas:\n",
    " - Compare os itens atuais em cada lista.\n",
    " - Se forem iguais, incremente o contador e avance o item atual de ambas as listas para os próximos itens nas listas.\n",
    " - Caso contrário, se o item atual na primeira lista for alfabeticamente menor do que o item atual na segunda lista, avance o item atual na primeira lista.\n",
    " - Caso contrário, avance o item atual na segunda lista.\n",
    "- O contador detém o número de \\textit{matches}.\n",
    "\n",
    "Antes de olhar para o código abaixo, pergunte a si mesmo: \"Que tipo de laço devo usar aqui? Um laço `for` ou `while`?\n",
    "\n",
    "Aqui está o código Python correspondente:"
   ]
  },
  {
   "cell_type": "code",
   "execution_count": null,
   "metadata": {
    "code_folding": [
     0
    ]
   },
   "outputs": [],
   "source": [
    "def numMatches(list1, list2):\n",
    "    '''return the number of elements that match between two sorted lists'''\n",
    "    matches = 0\n",
    "    i = 0\n",
    "    j = 0\n",
    "    while i < len(list1) and j < len(list2):\n",
    "        if list1[i] == list2[j]:\n",
    "            matches += 1\n",
    "            i += 1\n",
    "            j += 1\n",
    "        elif list1[i] < list2[j]:\n",
    "            i += 1\n",
    "        else:\n",
    "            j += 1\n",
    "    return matches\n",
    "\n",
    "\n",
    "print(numMatches(['a', 'l', 'i', 's', 'o', 'n'], ['a', 'k', 'h', 'i', 'l']))"
   ]
  },
  {
   "cell_type": "markdown",
   "metadata": {},
   "source": [
    "Agora, a questão permanece: esta abordagem é realmente mais rápida do que a abordagem anterior para comparar os elementos em duas listas? A resposta é definitivamente sim. Voltemos a olhar o número de comparações que deveriam ser feitas para comparar duas listas com 4 elementos cada. Imagine que nenhum dos elementos coincida e que as listas são exatamente entrelaçadas alfabeticamente. Ou seja, primeiro o elemento da lista 1 é menor, então o elemento na lista 2 é menor, e assim por diante, como nas listas [\"Amy Winehouse\", \"Coldplay\", \"Madonna\", \"Red Hot Chili Peppers\"] e [\"Black Eyed Peas\", \"Dave Matthews Band\", \"Maroon 5\", \"Stevie Nicks\"]\n",
    "\n",
    "Com estas duas listas, o código acima nunca irá disparar na primeira condição if -- sempre aumentará i ou j, mas não ambos. Além disso, ele ficará sem elementos em uma lista, logo antes de ficar sem elementos na segunda. Essencialmente, o algoritmo irá analisar todos os elementos em ambas as listas.\n",
    "\n",
    "No começo, pode parecer que não fizemos nenhuma melhoria. Afinal, ainda não estamos olhando todos os elementos de ambas as listas? Aha, mas agora há uma diferença importante! Enquanto antes de ver todos os elementos da segunda lista para cada elemento na primeira lista, aqui estamos olhando apenas todos os elementos da segunda lista uma vez. Em outras palavras, cada vez que \"caminhamos\"no laço, i ou j é incrementado mas nunca são diminuídos. Então, i ou j irão chegar ao final da lista depois que todos os elementos dessa lista terem sido analisados e os elementos menos 1 da outra lista serem analisados. Então, neste exemplo, isso significa que faremos exatamente 7 comparações. Em geral, se as listas são de comprimento $N$, o número de comparações que este algoritmo fará é $N + N-1$ ou $2N - 1$. Então, mesmo para o caso em que uma lista tem 100 elementos e a segunda tem 1000, isso é apenas cerca de 1100 comparações, uma melhoria significativa em relação ao $10^5$ da abordagem anterior!\n",
    "Os cientistas da computação chamam este segundo algoritmo de um algoritmo de tempo linear (em notação matemática, $\\large{O}$ $(n)$ ) porque a equação que descreve o número de comparações é linear. O primeiro algoritmo é chamado de algoritmo de tempo quadrático ( $\\large{O}$ $(n^2)$ ) porque sua equação é quadrática."
   ]
  },
  {
   "cell_type": "markdown",
   "metadata": {},
   "source": [
    "## Selection sort"
   ]
  },
  {
   "cell_type": "markdown",
   "metadata": {},
   "source": [
    "Agora que temos pelo menos um motivo para classificar os dados (há muitos outros -- você provavelmente pode pensar em vários deles), vejamos um primeiro algoritmo, chamado \"Selection sort\", para realizar a classificação e vamos analisar sua complexidade em termos de tempo.\n",
    "\n",
    "Nos nossos exemplos a seguir usaremos um lista de números como a coleção. É claro que quaisquer números possuem uma relação de ordem entre si. Apesar de usarmos inteiros, os algoritmos servem para ordenar qualquer coleção de elementos que possam ser comparados."
   ]
  },
  {
   "cell_type": "markdown",
   "metadata": {},
   "source": [
    "A idéia do algoritmo \"selection sort\" é a seguinte:\n",
    "- Ache o menor elemento a partir da posição $0$. Troque então este elemento com o elemento da posição $0$\n",
    "- Ache o menor elemento a partir da posição $1$. Troque então este elemento com o elemento da posição $1$\n",
    "- Ache o menor elemento a partir da posição $2$. Troque então este elemento com o elemento da posição $2$\n",
    "\n",
    "E assim sucessivamente...\n",
    "\n",
    "Este algoritmo é chamado de \"selection sort\" porque ele prossegue selecionando repetidamente o elemento mínimo restante e movendo-o para a próxima posição na lista. Vejamos uma animação da execução do algoritmo:"
   ]
  },
  {
   "cell_type": "markdown",
   "metadata": {},
   "source": [
    "<video controls src=\"videos/selection.mp4\" />"
   ]
  },
  {
   "cell_type": "code",
   "execution_count": 3,
   "metadata": {
    "code_folding": [
     0
    ]
   },
   "outputs": [],
   "source": [
    "def selectionSort(vet):\n",
    "    for i in range(len(vet) - 1):\n",
    "        min = i\n",
    "        \n",
    "        for j in range(i, len(vet)):\n",
    "            if vet[min] > vet[j]:\n",
    "                min = j\n",
    "        if min != i:\n",
    "            vet[i], vet[min] = vet[min], vet[i]"
   ]
  },
  {
   "cell_type": "code",
   "execution_count": null,
   "metadata": {},
   "outputs": [],
   "source": [
    "lista = [3, 44, 38, 5, 47, 15, 36, 26, 27, 2, 46, 4, 19, 50, 48]\n",
    "selectionSort(lista)\n",
    "lista"
   ]
  },
  {
   "cell_type": "markdown",
   "metadata": {},
   "source": [
    "O algoritmo \"selection sort\" conforme descrito aqui, tem duas propriedades que geralmente são desejáveis em algoritmos de classificação.\n",
    "\n",
    "A primeira propriedade é que o algoritmo é realizado \"in-place\". Isso significa que ele usa essencialmente nenhum armazenamento extra além do necessário para a entrada (a lista não triada nesse caso). Um pouco de armazenamento extra pode ser usado (por exemplo, uma variável temporária para manter o índice para o menor elemento). A propriedade importante é que o armazenamento extra necessário não deve aumentar à medida que o tamanho da entrada aumenta.\n",
    "\n",
    "A segunda é que o algoritmo de classificação é estável. Isso significa que dois elementos que são iguais mantêm sua ordem relativa inicial. Isso se torna importante se houver informações adicionais anexadas aos valores que estão sendo classificados (por exemplo, se estamos ordenando uma lista de pessoas usando uma função de comparação que compara suas datas de nascimento). Os algoritmos de classificação estáveis garantem que a classificação de uma lista já ordenada deixa a ordem da lista inalterada, mesmo na presença de elementos que são tratados como iguais pela comparação."
   ]
  },
  {
   "cell_type": "markdown",
   "metadata": {},
   "source": [
    "\"Selection sort\" é apenas um dos muitos algoritmos de classificação, alguns dos quais são mais rápidos do que outros. O algoritmo realiza uma troca por cada passagem na lista. Para fazer isso, ele procura o menor valor realizando uma passagem pela lista e, depois de completar a passagem, o coloca no local apropriado. Após a segunda passagem, o próximo menor elemento está no lugar. Este processo continua e requer $n-1$ passagens para classificar $n$ itens, uma vez que o item final deve estar no lugar após $n-1$ passos. Sua complexidade portanto é expressa como $\\large{O}$ $(n^2)$."
   ]
  },
  {
   "cell_type": "markdown",
   "metadata": {},
   "source": [
    "## Bubble sort"
   ]
  },
  {
   "cell_type": "markdown",
   "metadata": {},
   "source": [
    "O algoritmo \"Bubble sort\" faz várias passagens através de uma lista. Ele compara itens adjacentes e troca aqueles que estão fora de ordem. Cada passagem pela lista coloca o próximo maior valor no seu devido lugar. Em essência, cada item \"borbulha\" até o local onde pertence.\n",
    "Se houver $n$ itens na lista, existem $n-1$ pares de itens que precisam ser comparados na primeira passagem. É importante notar que, uma vez que o maior valor da lista faz parte de um par, ele será continuamente movido até a passagem estar completa.\n",
    "\n",
    "No início da segunda passagem, o maior valor está agora no lugar. Existem $n-1$ itens para ordenar, o que significa que haverá $n-2$ pares. Uma vez que cada passagem coloca o próximo maior valor no lugar, o número total de passes necessários será $n-1$. Depois de completar as $n-1$ passagens, o menor item deve estar na posição correta, sem necessidade de processamento adicional. A simulação abaixo mostra a função completa do \"Bubble sort\"."
   ]
  },
  {
   "cell_type": "markdown",
   "metadata": {},
   "source": [
    "<video controls src=\"videos/bubble.mp4\" />"
   ]
  },
  {
   "cell_type": "code",
   "execution_count": 18,
   "metadata": {
    "code_folding": [
     0
    ]
   },
   "outputs": [],
   "source": [
    "def bubbleSort (vet):\n",
    "    for i in range(len(vet) - 1):\n",
    "        for j in range(0, len(vet) - i - 1):\n",
    "            if vet[j] > vet[j + 1]:\n",
    "                vet[j], vet[j + 1] = vet[j + 1], vet[j]"
   ]
  },
  {
   "cell_type": "code",
   "execution_count": null,
   "metadata": {},
   "outputs": [],
   "source": [
    "lista = [3, 44, 38, 5, 47, 15, 36, 26, 27, 2, 46, 4, 19, 50, 48]\n",
    "bubbleSort(lista)\n",
    "lista"
   ]
  },
  {
   "cell_type": "markdown",
   "metadata": {},
   "source": [
    "Para analisar o \"Bubble sort\", devemos notar que, independentemente de como os itens estão dispostos na lista inicial, as $n-1$ passagens serão feitas para classificar uma lista de tamanho $n$. O número total de comparações é a soma dos primeiros $n-1$ inteiros. Lembre-se de que a soma dos $n$ primeiros inteiros é $\\frac{1}{2}n^2 + \\frac{1}{2}n$. A soma dos $n-1$ primeiros inteiros é $\\frac{1}{2}n^2 + \\frac{1}{2}n - n$, que é $\\frac{1}{2}n^2 - \\frac{1}{2}n$. Isso ainda é uma comparação de $\\large{O}$ $(n^2)$. No melhor dos casos, se a lista já estiver ordenada, nenhuma troca será feita. No entanto, no pior caso, cada comparação causará uma troca. Em média, trocamos metade do tempo."
   ]
  },
  {
   "cell_type": "markdown",
   "metadata": {},
   "source": [
    "O algoritmo \"Bubble sort\" é muitas vezes considerado o método de classificação mais ineficiente, pois deve trocar itens antes que a localização final seja conhecida. Essas operações de câmbio \"desperdiçadas\" são muito onerosas. No entanto, como o \"bubble sort\" faz passar toda a parte não ordenada da lista, ele tem a capacidade de fazer algo que a maioria dos algoritmos de classificação não pode. Em particular, se durante uma passagem não houver trocas, então sabemos que a lista deve estar ordenada. O algoritmo pode ser modificado para parar cedo se achar que a lista foi ordenada. Isso significa que, para listas que exigem apenas algumas passagens, o \"buble sort\" pode ter uma vantagem na medida em que reconhecerá a lista ordenada e irá parar. O código abaixo mostra esta modificação, que é muitas vezes referida como a \"short bubble sort\"."
   ]
  },
  {
   "cell_type": "code",
   "execution_count": 22,
   "metadata": {
    "code_folding": [
     0
    ]
   },
   "outputs": [],
   "source": [
    "def bubbleSort (vet):\n",
    "    for i in range(len(vet) - 1, 0, -1):\n",
    "        exchange = False\n",
    "        for j in range(i):\n",
    "            if vet[j] > vet[j + 1]:\n",
    "                vet[j], vet[j + 1] = vet[j + 1], vet[j]\n",
    "                exchange = True\n",
    "        if not exchange:\n",
    "            break"
   ]
  },
  {
   "cell_type": "markdown",
   "metadata": {},
   "source": [
    "## Insertion sort"
   ]
  },
  {
   "cell_type": "markdown",
   "metadata": {},
   "source": [
    "Nosso \"Bubble sort\" modificado funciona melhor do que o \"Selection sort\" para listas que já estão classificadas. Mas nosso \"Bubble sort\" modificado ainda pode funcionar mal se muitos itens estiverem fora de ordem na lista. Outro algoritmo, denominado \"Insertion sort\" tenta explorar a ordem parcial da lista de maneira diferente. A estratégia é a seguinte:\n",
    "- No i-ésimo passo pela lista, onde $i$ varia de $1$ a $n-1$, o i-ésimo item deve ser inserido em seu lugar apropriado entre os primeiros $i$ itens na lista.\n",
    "- Após o i-ésimo passo, os primeiros \"i\" itens devem estar ordenados.\n",
    "\n",
    "Este processo é análogo ao modo como muitas pessoas organizam cartas em suas mãos. Ou seja, se você mantiver as primeiras $i-1$ cartas em ordem, você escolhe a i-ésima carta e compara com esses cartas até que seu local apropriado seja encontrado.\n",
    "\n",
    "Tal como acontece com os outros algoritmos de ordenação, o \"Insertion sort\" consiste em dois laços. O laço externo atravessa as posições de $1$ a $n-1$. Para cada posição $i$ neste laço, você salva o item e inicia o laço interno na posição $i-1$. Para cada posição $j$ neste laço, você move o item para $j+1$ até encontrar o ponto de inserção para o item salvo (item $i$).\n",
    "A simulação abaixo mostra a função completa para o \"Insertion sort\":"
   ]
  },
  {
   "cell_type": "markdown",
   "metadata": {},
   "source": [
    "<video controls src=\"videos/insertion.mp4\" />"
   ]
  },
  {
   "cell_type": "code",
   "execution_count": 1,
   "metadata": {
    "code_folding": [
     0
    ]
   },
   "outputs": [],
   "source": [
    "def insertionSort(vet):\n",
    "    for i in range (1, len(vet)):\n",
    "        aux = vet[i]\n",
    "        j = i - 1\n",
    "        while j >= 0 and vet[j] > aux:  # Poe elementos v[j] > v[i]\n",
    "            vet[j + 1] = vet[j]         # para frente e\n",
    "            j -= 1                      # decrementa j\n",
    "        vet[j + 1] = aux                # poe v[i] na pos. correta"
   ]
  },
  {
   "cell_type": "code",
   "execution_count": null,
   "metadata": {},
   "outputs": [],
   "source": [
    "lista = [3, 44, 38, 5, 47, 15, 36, 26, 27, 2, 46, 4, 19, 50, 48]\n",
    "insertionSort(lista)\n",
    "lista"
   ]
  },
  {
   "cell_type": "markdown",
   "metadata": {},
   "source": [
    "Mais uma vez, a análise se concentra no laço interno. O laço externo executa $n-1$ vezes. No pior caso, quando todos os dados estão fora de ordem, o laço interno é iniciado uma vez na primeira passagem pelo laço externo, duas vezes na segunda passagem, e assim por diante, para um total de $\\frac{1}{2}n^2 - \\frac{1}{2}n$ vezes. Assim, o comportamento do pior caso do tipo de inserção é $\\large{O}$ $(n^2)$.\n",
    "\n",
    "Quanto mais itens na lista estiverem em ordem, melhor fica o \"Insertion sort\" até, no melhor caso de uma lista ordenada, ter o comportamento linear. No caso médio, no entanto, o \"Insertion sort\" ainda é quadrático. "
   ]
  }
 ],
 "metadata": {
  "kernelspec": {
   "display_name": "Python 3",
   "language": "python",
   "name": "python3"
  },
  "language_info": {
   "codemirror_mode": {
    "name": "ipython",
    "version": 3
   },
   "file_extension": ".py",
   "mimetype": "text/x-python",
   "name": "python",
   "nbconvert_exporter": "python",
   "pygments_lexer": "ipython3",
   "version": "3.6.4"
  },
  "latex_envs": {
   "LaTeX_envs_menu_present": true,
   "autoclose": false,
   "autocomplete": true,
   "bibliofile": "biblio.bib",
   "cite_by": "apalike",
   "current_citInitial": 1,
   "eqLabelWithNumbers": true,
   "eqNumInitial": 1,
   "hotkeys": {
    "equation": "Ctrl-E",
    "itemize": "Ctrl-I"
   },
   "labels_anchors": false,
   "latex_user_defs": false,
   "report_style_numbering": false,
   "user_envs_cfg": false
  },
  "toc": {
   "nav_menu": {},
   "number_sections": true,
   "sideBar": true,
   "skip_h1_title": false,
   "toc_cell": true,
   "toc_position": {},
   "toc_section_display": "block",
   "toc_window_display": false
  }
 },
 "nbformat": 4,
 "nbformat_minor": 2
}
