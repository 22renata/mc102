{
 "cells": [
  {
   "cell_type": "markdown",
   "metadata": {
    "slideshow": {
     "slide_type": "skip"
    },
    "toc": true
   },
   "source": [
    "<h1>Table of Contents<span class=\"tocSkip\"></span></h1>\n",
    "<div class=\"toc\"><ul class=\"toc-item\"><li><span><a href=\"#Polinômios-como-dicionários\" data-toc-modified-id=\"Polinômios-como-dicionários-1\"><span class=\"toc-item-num\">1&nbsp;&nbsp;</span>Polinômios como dicionários</a></span><ul class=\"toc-item\"><li><span><a href=\"#Avaliação-de-Polinômios\" data-toc-modified-id=\"Avaliação-de-Polinômios-1.1\"><span class=\"toc-item-num\">1.1&nbsp;&nbsp;</span>Avaliação de Polinômios</a></span></li></ul></li><li><span><a href=\"#Plotando-funções\" data-toc-modified-id=\"Plotando-funções-2\"><span class=\"toc-item-num\">2&nbsp;&nbsp;</span>Plotando funções</a></span><ul class=\"toc-item\"><li><span><a href=\"#Matplotlib\" data-toc-modified-id=\"Matplotlib-2.1\"><span class=\"toc-item-num\">2.1&nbsp;&nbsp;</span>Matplotlib</a></span></li><li><span><a href=\"#Decorando-o-gráfico\" data-toc-modified-id=\"Decorando-o-gráfico-2.2\"><span class=\"toc-item-num\">2.2&nbsp;&nbsp;</span>Decorando o gráfico</a></span></li><li><span><a href=\"#Plotando-múltiplas-curvas\" data-toc-modified-id=\"Plotando-múltiplas-curvas-2.3\"><span class=\"toc-item-num\">2.3&nbsp;&nbsp;</span>Plotando múltiplas curvas</a></span></li></ul></li></ul></div>"
   ]
  },
  {
   "cell_type": "markdown",
   "metadata": {
    "slideshow": {
     "slide_type": "slide"
    }
   },
   "source": [
    "# Polinômios como dicionários\n",
    "\n",
    "Considere o polinômio: $p(x) = -1 + x^{2} + 3x^{7}$"
   ]
  },
  {
   "cell_type": "markdown",
   "metadata": {
    "slideshow": {
     "slide_type": "fragment"
    }
   },
   "source": [
    "Os dados associados a este polinômio podem ser vistos como um conjunto de pares de coeficientes de potência, neste caso o coeficiente -1 pertence à potência 0, o coeficiente 1 pertence à potência 2 e o coeficiente 3 pertence à potência 7. Um dicionário pode ser usado para mapear uma potência para um coeficiente:"
   ]
  },
  {
   "cell_type": "code",
   "execution_count": null,
   "metadata": {
    "slideshow": {
     "slide_type": "fragment"
    }
   },
   "outputs": [],
   "source": [
    "p1 = {0: -1, 2: 1, 7: 3}"
   ]
  },
  {
   "cell_type": "markdown",
   "metadata": {
    "slideshow": {
     "slide_type": "slide"
    }
   },
   "source": [
    "É claro que uma lista também pode ser usada, mas, nesse caso, devemos preencher todos os coeficientes zero também, já que o índice deve corresponder à potência:"
   ]
  },
  {
   "cell_type": "code",
   "execution_count": null,
   "metadata": {
    "slideshow": {
     "slide_type": "fragment"
    }
   },
   "outputs": [],
   "source": [
    "p2 = [-1, 0, 1, 0, 0, 0, 0, 3]"
   ]
  },
  {
   "cell_type": "markdown",
   "metadata": {
    "slideshow": {
     "slide_type": "slide"
    }
   },
   "source": [
    "A vantagem de um dicionário é que precisamos armazenar apenas os coeficientes não nulos. Para o polinômio $1 + x^{100}$ o dicionário contém dois elementos enquanto a lista contém 101 elementos. Outra grande vantagem de usar um dicionário para representar um polinômio do que uma lista é que os potências negativas são facilmente permitidas, por exemplo:"
   ]
  },
  {
   "cell_type": "code",
   "execution_count": null,
   "metadata": {
    "slideshow": {
     "slide_type": "fragment"
    }
   },
   "outputs": [],
   "source": [
    "p3 = {-3: 0.5, 4: 2}"
   ]
  },
  {
   "cell_type": "markdown",
   "metadata": {
    "slideshow": {
     "slide_type": "fragment"
    }
   },
   "source": [
    "pode representar $\\frac{1}{2}x^{-3} + 2x^{4}$. Com uma representação em lista, as potências negativas exigiriam muito mais book-keeping."
   ]
  },
  {
   "cell_type": "markdown",
   "metadata": {
    "slideshow": {
     "slide_type": "slide"
    }
   },
   "source": [
    "## Avaliação de Polinômios\n",
    "\n",
    "A seguinte função pode ser usada para avaliar um polinômio representado como um dicionário:"
   ]
  },
  {
   "cell_type": "code",
   "execution_count": null,
   "metadata": {
    "slideshow": {
     "slide_type": "fragment"
    }
   },
   "outputs": [],
   "source": [
    "def eval_poly_dict(poly, x):\n",
    "    sum = 0.0\n",
    "    for power in poly:\n",
    "        sum += poly[power] * x ** power\n",
    "    return sum"
   ]
  },
  {
   "cell_type": "code",
   "execution_count": null,
   "metadata": {
    "slideshow": {
     "slide_type": "fragment"
    }
   },
   "outputs": [],
   "source": [
    "print(eval_poly_dict(p1, 2))"
   ]
  },
  {
   "cell_type": "markdown",
   "metadata": {
    "slideshow": {
     "slide_type": "slide"
    }
   },
   "source": [
    "Uma implementação mais compacta pode usar a função sum do Python para somar os elementos de uma lista:"
   ]
  },
  {
   "cell_type": "code",
   "execution_count": null,
   "metadata": {
    "slideshow": {
     "slide_type": "fragment"
    }
   },
   "outputs": [],
   "source": [
    " def eval_poly_dict2(poly, x):\n",
    "    return sum([poly[power]* x ** power for power in poly])"
   ]
  },
  {
   "cell_type": "code",
   "execution_count": null,
   "metadata": {
    "slideshow": {
     "slide_type": "fragment"
    }
   },
   "outputs": [],
   "source": [
    "print(eval_poly_dict2(p1, 2))"
   ]
  },
  {
   "cell_type": "markdown",
   "metadata": {
    "slideshow": {
     "slide_type": "slide"
    }
   },
   "source": [
    "Podemos, de fato, descartar os colchetes e armazenar todos os números de potência\n",
    "```\n",
    "poly[power] * x ** power \n",
    "```\n",
    "em uma lista, porque a soma pode adicionar diretamente elementos de um iterador, como\n",
    "``` \n",
    "for power in poly:\n",
    "```"
   ]
  },
  {
   "cell_type": "code",
   "execution_count": null,
   "metadata": {
    "slideshow": {
     "slide_type": "fragment"
    }
   },
   "outputs": [],
   "source": [
    " def eval_poly_dict2(poly, x):\n",
    "    return sum(poly[power]* x ** power for power in poly)"
   ]
  },
  {
   "cell_type": "code",
   "execution_count": null,
   "metadata": {
    "slideshow": {
     "slide_type": "fragment"
    }
   },
   "outputs": [],
   "source": [
    "print(eval_poly_dict2(p1, 2))"
   ]
  },
  {
   "cell_type": "markdown",
   "metadata": {
    "slideshow": {
     "slide_type": "slide"
    }
   },
   "source": [
    "# Plotando funções\n",
    "\n",
    "A visualização de uma função f(x) é feita desenhando a curva y=f(x) em um sistema de coordenadas xy. Quando usamos um computador para fazer essa tarefa, dizemos que traçamos a curva. Tecnicamente, plotamos uma curva desenhando linhas retas entre n pontos na curva. Quanto mais pontos usamos, mais suave a curva aparece.\n",
    "Suponha que queremos plotar a função $f(x)$ para $a <= x <= b$. Primeiro nós selecionamos $n$ coordenadas $x$ no intervalo $[a, b]$, digamos que nomeamos estes $x_{0}, x_{1}, ... x_{n-1}$. Então nós calculamos $y_{i}=f(x_{i}$ para $i = 0, 1, ... n-1$. Os pontos\n",
    " $(x_{i}, y_{i}), i = 0, 1, ... n-1$, agora formam a curva $y=f(x)$. Normalmente, escolhemos as coordenadas $x_{i}$ para serem espaçadas igualmente, ou seja,\n"
   ]
  },
  {
   "cell_type": "markdown",
   "metadata": {
    "slideshow": {
     "slide_type": "slide"
    }
   },
   "source": [
    "$x_{i} = a + ih$, $\\ \\  $ onde $\\ \\   h = \\frac{b - a}{n - 1}$\n",
    "\n",
    "Se armazenarmos os valores $x_{i}$ e $y_{i}$ em duas matrizes x e y, podemos traçar a curva por um comando como plot (x, y).\n",
    "Às vezes, os nomes da variável independente e da função diferem de x e f, mas o procedimento de plotagem é o mesmo. Nosso exemplo de plotagem de curvas demonstra esse fato envolvendo uma função de t."
   ]
  },
  {
   "cell_type": "markdown",
   "metadata": {
    "slideshow": {
     "slide_type": "slide"
    }
   },
   "source": [
    "## Matplotlib\n",
    "\n",
    "O pacote padrão para plotagem de curvas em Python é o Matplotlib. Voce pode instalá-lo usando o como pip:\n",
    "````\n",
    "pip install matplotlib\n",
    "````\n",
    "Vamos traçar a curva $y=t^{2} exp(-t^{2})$ para valores de $t$ entre 0 e 3 usando o matplotlib. Primeiro, geramos coordenadas igualmente espaçadas para $t$, digamos 51 valores (50 intervalos). Então calculamos os valores y correspondentes nesses pontos, antes de chamarmos o comando ```plot(t, y)``` para fazer o gráfico da curva. Aqui está o programa completo:"
   ]
  },
  {
   "cell_type": "code",
   "execution_count": null,
   "metadata": {
    "slideshow": {
     "slide_type": "slide"
    }
   },
   "outputs": [],
   "source": [
    "from numpy import *\n",
    "from matplotlib.pyplot import *\n",
    "\n",
    "def f(t):\n",
    "    return t**2*exp(-t**2)\n",
    "\n",
    "t = linspace(0, 3, 51)\n",
    "y = zeros(len(t))\n",
    "for i in range(len(t)):\n",
    "    y[i] = f(t[i])\n",
    "plot(t, y)\n",
    "show()"
   ]
  },
  {
   "cell_type": "markdown",
   "metadata": {
    "slideshow": {
     "slide_type": "slide"
    }
   },
   "source": [
    "Para incluir a plotagem em documentos eletrônicos, precisamos de uma cópia impressa da figura em PDF, PNG ou outro formato de imagem. A função ```savefig``` salva o gráfico em arquivos em vários formatos de imagem:"
   ]
  },
  {
   "cell_type": "code",
   "execution_count": null,
   "metadata": {
    "slideshow": {
     "slide_type": "fragment"
    }
   },
   "outputs": [],
   "source": [
    "savefig('tmp1.pdf') # produz arquivo no formato PDF\n",
    "savefig('tmp1.png') # produz arquivo no formato PNG"
   ]
  },
  {
   "cell_type": "markdown",
   "metadata": {
    "slideshow": {
     "slide_type": "slide"
    }
   },
   "source": [
    "## Decorando o gráfico\n",
    "\n",
    "Os eixos x e y nos gráficos de curvas podem ter rótulos, no exemplo t e y, respectivamente. Além disso, a curva pode ser identificada com um rótulo ou legenda, como é frequentemente chamado. Um título acima do grafico também é comum. Além disso, podemos querer controlar a extensão dos eixos (embora a maioria dos programas de plotagem ajuste automaticamente os eixos para o intervalo dos dados). Todas essas coisas são facilmente adicionadas após o comando de plotagem:"
   ]
  },
  {
   "cell_type": "code",
   "execution_count": null,
   "metadata": {
    "slideshow": {
     "slide_type": "slide"
    }
   },
   "outputs": [],
   "source": [
    "plot(t, y)\n",
    "xlabel('t')\n",
    "ylabel('y')\n",
    "legend(['t^2*exp(-t^2)'])\n",
    "axis([0, 3, -0.05, 0.6])            # [tmin, tmax, ymin, ymax]\n",
    "title('Matplotlib Demo')\n",
    "savefig('tmp2.pdf')\n",
    "show()"
   ]
  },
  {
   "cell_type": "markdown",
   "metadata": {
    "slideshow": {
     "slide_type": "slide"
    }
   },
   "source": [
    "## Plotando múltiplas curvas\n",
    "\n",
    "Uma tarefa comum de plotagem é comparar duas ou mais curvas, o que requer que várias curvas sejam desenhadas no mesmo gráfico. Suponha que queremos plotar as duas funções $f_{1}(t)=t^{2}exp(-t^{2})$ e $f_{2}(t)=t^{4}exp(-t^{2})$. Podemos, então, apenas emitir dois comandos de plotagem, um para cada função. Para tal, chamamos a função do matplotlib  ```hold('on')``` após o primeiro comando de plotagem para indicar que os comandos de plotagem subsequentes devem desenhar as curvas no primeiro gráfico:"
   ]
  },
  {
   "cell_type": "code",
   "execution_count": null,
   "metadata": {
    "slideshow": {
     "slide_type": "slide"
    }
   },
   "outputs": [],
   "source": [
    "from numpy import *\n",
    "from matplotlib.pyplot import *\n",
    "\n",
    "def f1(t):\n",
    "    return t**2*exp(-t**2)\n",
    "\n",
    "def f2(t):\n",
    "    return t**2*f1(t)\n",
    "\n",
    "t = linspace(0, 3, 51)\n",
    "y1 = f1(t)\n",
    "y2 = f2(t)\n",
    "plot(t, y1, 'r-')\n",
    "hold('on')\n",
    "plot(t, y2, 'bo')\n",
    "xlabel('t')\n",
    "ylabel('y')\n",
    "legend(['t^2*exp(-t^2)', 't^4*exp(-t^2)'])\n",
    "title('Plotando duas curvas no mesmo gráfico’)\n",
    "show()"
   ]
  },
  {
   "cell_type": "markdown",
   "metadata": {
    "slideshow": {
     "slide_type": "slide"
    }
   },
   "source": [
    "Nesses comandos de plotagem, também especificamos o tipo de linha: r- significa linha vermelha (r) (-), enquanto bo significa um círculo azul (b) (o) em cada ponto de dados. As legendas de cada curva são especificadas em uma lista onde a seqüência de strings corresponde à seqüência de comandos de plotagem. Chamar a função ```hold('off')``` faz com que o próximo comando de plotagem crie um novo gráfico."
   ]
  }
 ],
 "metadata": {
  "kernelspec": {
   "display_name": "Python 3",
   "language": "python",
   "name": "python3"
  },
  "language_info": {
   "codemirror_mode": {
    "name": "ipython",
    "version": 3
   },
   "file_extension": ".py",
   "mimetype": "text/x-python",
   "name": "python",
   "nbconvert_exporter": "python",
   "pygments_lexer": "ipython3",
   "version": "3.7.0"
  },
  "latex_envs": {
   "LaTeX_envs_menu_present": true,
   "autoclose": false,
   "autocomplete": true,
   "bibliofile": "biblio.bib",
   "cite_by": "apalike",
   "current_citInitial": 1,
   "eqLabelWithNumbers": true,
   "eqNumInitial": 1,
   "hotkeys": {
    "equation": "Ctrl-E",
    "itemize": "Ctrl-I"
   },
   "labels_anchors": false,
   "latex_user_defs": false,
   "report_style_numbering": false,
   "user_envs_cfg": false
  },
  "toc": {
   "base_numbering": 1,
   "nav_menu": {},
   "number_sections": true,
   "sideBar": true,
   "skip_h1_title": false,
   "title_cell": "Table of Contents",
   "title_sidebar": "Contents",
   "toc_cell": true,
   "toc_position": {},
   "toc_section_display": "block",
   "toc_window_display": false
  }
 },
 "nbformat": 4,
 "nbformat_minor": 2
}
