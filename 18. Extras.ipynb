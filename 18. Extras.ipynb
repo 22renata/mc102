{
 "cells": [
  {
   "cell_type": "markdown",
   "metadata": {},
   "source": [
    "# Funções anônimas: lambda\n",
    "Além da declaração `def`, o Python também fornece um construtor que gera objetos de função, chamada de `lambda`. Como `def`, essa expressão cria uma função a ser chamada posteriormente, mas retorna a função em vez de atribuí-la a um nome. É por isso que as funções lambdas às vezes são conhecidos como funções anônimas (ou seja, sem nome)."
   ]
  },
  {
   "cell_type": "markdown",
   "metadata": {},
   "source": [
    "A forma geral da função lambda é a palavra-chave `lambda`, seguida por um ou mais argumentos (exatamente como a lista de argumentos que você coloca entre parênteses em um cabeçalho `def`), seguida por uma expressão após dois pontos:\n",
    "```\n",
    "lambda argument1, argument2, ... argumentN: expressão usando argumentos\n",
    "```\n",
    "Os objetos de função retornados pela execução de expressões lambda funcionam exatamente da mesma forma que os criados e atribuídos por `defs`, mas há algumas diferenças que tornam as funções lambdas úteis em funções especializadas:"
   ]
  },
  {
   "cell_type": "markdown",
   "metadata": {},
   "source": [
    "**lambda é uma expressão, não uma declaração**\n",
    "\n",
    "Por causa disso, uma função `lambda` pode aparecer em lugares em que um `def` não é permitido pela sintaxe do Python - por exemplo, dentro de um literal de lista ou de uma chamada de função. Com `def`, as funções podem ser referenciadas pelo nome, mas devem ser criadas em outro lugar. Como uma expressão, `lambda` retorna um valor (uma nova função) que pode ser atribuído opcionalmente a um nome. Em contraste, a instrução `def` sempre atribui a nova função ao nome no cabeçalho, em vez de retorná-la como resultado."
   ]
  },
  {
   "cell_type": "markdown",
   "metadata": {},
   "source": [
    "**O corpo de lambda é uma expressão única, não um bloco de declarações**\n",
    "\n",
    "O corpo do `lambda` é semelhante ao que você colocaria na declaração de retorno de um `def`; você simplesmente digita o resultado como uma expressão nua, em vez de explicitamente retorná-lo. Por ser limitado a uma expressão, um `lambda` é menos genérico que um `def` - você só pode expressar a lógica em um corpo lambda sem usar instruções como if. Isso ocorre por construção, para limitar o aninhamento de programa: o `lambda` é projetado para codificar funções simples e o `def` manipula tarefas maiores."
   ]
  },
  {
   "cell_type": "code",
   "execution_count": 1,
   "metadata": {},
   "outputs": [
    {
     "data": {
      "text/plain": [
       "9"
      ]
     },
     "execution_count": 1,
     "metadata": {},
     "output_type": "execute_result"
    }
   ],
   "source": [
    "def func(x, y, z):\n",
    "    return x + y + z\n",
    "\n",
    "func(2, 3, 4)"
   ]
  },
  {
   "cell_type": "code",
   "execution_count": 2,
   "metadata": {},
   "outputs": [
    {
     "data": {
      "text/plain": [
       "9"
      ]
     },
     "execution_count": 2,
     "metadata": {},
     "output_type": "execute_result"
    }
   ],
   "source": [
    "f = lambda x, y, z: x + y + z\n",
    "\n",
    "f(2, 3, 4)"
   ]
  },
  {
   "cell_type": "markdown",
   "metadata": {},
   "source": [
    "lambda é comumente usado para codificar tabelas de \"execução\", que são listas ou dicionários de ações a serem executadas sob demanda. Por exemplo:"
   ]
  },
  {
   "cell_type": "code",
   "execution_count": 3,
   "metadata": {},
   "outputs": [
    {
     "name": "stdout",
     "output_type": "stream",
     "text": [
      "4\n",
      "8\n",
      "16\n",
      "9\n"
     ]
    }
   ],
   "source": [
    "L = [lambda x: x ** 2, lambda x: x ** 3, lambda x: x ** 4]\n",
    "\n",
    "for f in L:\n",
    "    print(f(2))\n",
    "    \n",
    "print(L[0](3))"
   ]
  },
  {
   "cell_type": "markdown",
   "metadata": {},
   "source": [
    "A expressão `lambda` é mais útil como um atalho para `def`, quando você precisa inserir pequenos pedaços de código executável em locais onde as declarações são sintaticamente ilegais. O trecho de código anterior, por exemplo, constrói uma lista de três funções incorporando expressões `lambda` dentro de um literal de lista; um `def` não funcionará dentro de uma lista literal, porque é uma declaração, não uma expressão. A codificação `def` equivalente exigiria nomes de funções temporários (que poderiam colidir com outros nomes) e definições de funções fora do contexto de uso pretendido (que pode estar distante):"
   ]
  },
  {
   "cell_type": "code",
   "execution_count": 4,
   "metadata": {},
   "outputs": [
    {
     "name": "stdout",
     "output_type": "stream",
     "text": [
      "4\n",
      "8\n",
      "16\n",
      "9\n"
     ]
    }
   ],
   "source": [
    "def f1(x):\n",
    "    return x ** 2\n",
    "\n",
    "def f2(x):\n",
    "    return x ** 3\n",
    "\n",
    "def f3(x):\n",
    "    return x ** 4\n",
    "\n",
    "L = [f1, f2, f3]\n",
    "for f in L:\n",
    "    print(f(2))\n",
    "    \n",
    "print(L[0](3))"
   ]
  },
  {
   "cell_type": "code",
   "execution_count": null,
   "metadata": {},
   "outputs": [],
   "source": []
  }
 ],
 "metadata": {
  "kernelspec": {
   "display_name": "Python 3",
   "language": "python",
   "name": "python3"
  },
  "language_info": {
   "codemirror_mode": {
    "name": "ipython",
    "version": 3
   },
   "file_extension": ".py",
   "mimetype": "text/x-python",
   "name": "python",
   "nbconvert_exporter": "python",
   "pygments_lexer": "ipython3",
   "version": "3.6.5"
  },
  "latex_envs": {
   "LaTeX_envs_menu_present": true,
   "autoclose": false,
   "autocomplete": true,
   "bibliofile": "biblio.bib",
   "cite_by": "apalike",
   "current_citInitial": 1,
   "eqLabelWithNumbers": true,
   "eqNumInitial": 1,
   "hotkeys": {
    "equation": "Ctrl-E",
    "itemize": "Ctrl-I"
   },
   "labels_anchors": false,
   "latex_user_defs": false,
   "report_style_numbering": false,
   "user_envs_cfg": false
  },
  "toc": {
   "nav_menu": {},
   "number_sections": true,
   "sideBar": true,
   "skip_h1_title": false,
   "toc_cell": false,
   "toc_position": {},
   "toc_section_display": "block",
   "toc_window_display": false
  }
 },
 "nbformat": 4,
 "nbformat_minor": 2
}
