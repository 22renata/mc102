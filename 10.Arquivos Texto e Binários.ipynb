{
 "cells": [
  {
   "cell_type": "markdown",
   "metadata": {
    "toc": true
   },
   "source": [
    "<h1>Table of Contents<span class=\"tocSkip\"></span></h1>\n",
    "<div class=\"toc\" style=\"margin-top: 1em;\"><ul class=\"toc-item\"><li><span><a href=\"#Arquivos-Texto\" data-toc-modified-id=\"Arquivos-Texto-1\"><span class=\"toc-item-num\">1&nbsp;&nbsp;</span>Arquivos Texto</a></span><ul class=\"toc-item\"><li><span><a href=\"#Escrevendo-em-um-arquivo-texto\" data-toc-modified-id=\"Escrevendo-em-um-arquivo-texto-1.1\"><span class=\"toc-item-num\">1.1&nbsp;&nbsp;</span>Escrevendo em um arquivo texto</a></span></li><li><span><a href=\"#Escrevendo-números-em-um-arquivo-texto\" data-toc-modified-id=\"Escrevendo-números-em-um-arquivo-texto-1.2\"><span class=\"toc-item-num\">1.2&nbsp;&nbsp;</span>Escrevendo números em um arquivo texto</a></span></li><li><span><a href=\"#Lendo-dados-de-um-arquivo-texto\" data-toc-modified-id=\"Lendo-dados-de-um-arquivo-texto-1.3\"><span class=\"toc-item-num\">1.3&nbsp;&nbsp;</span>Lendo dados de um arquivo texto</a></span></li><li><span><a href=\"#Lendo-números-de-um-arquivo-texto\" data-toc-modified-id=\"Lendo-números-de-um-arquivo-texto-1.4\"><span class=\"toc-item-num\">1.4&nbsp;&nbsp;</span>Lendo números de um arquivo texto</a></span></li></ul></li><li><span><a href=\"#Arquivos-Binários\" data-toc-modified-id=\"Arquivos-Binários-2\"><span class=\"toc-item-num\">2&nbsp;&nbsp;</span>Arquivos Binários</a></span><ul class=\"toc-item\"><li><span><a href=\"#ToDo\" data-toc-modified-id=\"ToDo-2.1\"><span class=\"toc-item-num\">2.1&nbsp;&nbsp;</span>ToDo</a></span></li></ul></li><li><span><a href=\"#Acessando-e-manipulando-arquivos-e-diretórios-em-disco\" data-toc-modified-id=\"Acessando-e-manipulando-arquivos-e-diretórios-em-disco-3\"><span class=\"toc-item-num\">3&nbsp;&nbsp;</span>Acessando e manipulando arquivos e diretórios em disco</a></span></li></ul></div>"
   ]
  },
  {
   "cell_type": "markdown",
   "metadata": {},
   "source": [
    "# Arquivos Texto"
   ]
  },
  {
   "cell_type": "markdown",
   "metadata": {},
   "source": [
    "Até agora, nós vimos no curso, exemplos de programas que obtiveram os dados de\n",
    "entrada de usuários via teclado. A maioria desses programas pode receber seus\n",
    "dados de entrada de arquivos de texto também. Um arquivo de texto é um objeto de\n",
    "software que armazena dados em um meio permanente, como um disco, CD ou memória\n",
    "flash. Quando comparado à entrada de dados via teclado, as\n",
    "principais vantagens de se obter dados de entrada de um arquivo são as seguintes:\n",
    "- O conjunto de dados pode ser muito maior.\n",
    "- Os dados podem ser inseridos muito mais rapidamente e com menos chance de erro.\n",
    "- Os dados podem ser usados repetidamente com o mesmo programa ou com diferentes programas."
   ]
  },
  {
   "cell_type": "markdown",
   "metadata": {},
   "source": [
    "Um nome e caminho únicos são usados por usuários ou em programas ou scripts\n",
    "para acessar um arquivo de texto para fins de leitura e modificação.\n",
    "As tarefas básicas envolvidas na manipulação de arquivos são ler dados de\n",
    "arquivos e escrever ou anexar dados a arquivos.\n",
    "\n",
    "Leitura e escrita em arquivos em Python são muito fáceis de gerenciar.  No nosso\n",
    "primeiro exemplo, vamos mostrar como ler dados de um arquivo. A maneira de\n",
    "dizer ao Python que queremos ler de um arquivo é usar a função `open`. O\n",
    "primeiro parâmetro é o nome do arquivo que queremos ler e com o segundo\n",
    "parâmetro, atribuído ao valor \"r\", afirmamos que queremos ler do arquivo."
   ]
  },
  {
   "cell_type": "code",
   "execution_count": 2,
   "metadata": {},
   "outputs": [],
   "source": [
    "fobj = open(\"files/poema.txt\", \"r\")"
   ]
  },
  {
   "cell_type": "markdown",
   "metadata": {},
   "source": [
    "O \"r\" é opcional. Um comando `open` com apenas um nome de arquivo é aberto\n",
    "para leitura por padrão. A função `open` retorna um objeto de arquivo, que\n",
    "oferece métodos e atributos de arquivo."
   ]
  },
  {
   "cell_type": "code",
   "execution_count": null,
   "metadata": {},
   "outputs": [],
   "source": [
    "dir(fobj)"
   ]
  },
  {
   "cell_type": "markdown",
   "metadata": {},
   "source": [
    "Depois de termos finalizado o trabalho com um arquivo, devemos fechá-lo\n",
    "novamente usando o método do objeto do arquivo `close`:"
   ]
  },
  {
   "cell_type": "code",
   "execution_count": 4,
   "metadata": {},
   "outputs": [],
   "source": [
    "fobj.close()"
   ]
  },
  {
   "cell_type": "markdown",
   "metadata": {},
   "source": [
    "Agora vamos finalmente abrir e ler os dados contidos em um arquivo. O método `rstrip` no exemplo a seguir é usado para retirar os espaços em branco (incluindo o caracter de nova linha ou \\textit{newline}) do lado direito da string \"line\":"
   ]
  },
  {
   "cell_type": "code",
   "execution_count": null,
   "metadata": {},
   "outputs": [],
   "source": [
    "fobj = open(\"files/poema.txt\")\n",
    "for line in fobj:\n",
    "    print(line.rstrip())\n",
    "fobj.close()"
   ]
  },
  {
   "cell_type": "markdown",
   "metadata": {},
   "source": [
    "## Escrevendo em um arquivo texto"
   ]
  },
  {
   "cell_type": "markdown",
   "metadata": {},
   "source": [
    "O seguinte código abre um objeto de arquivo de escrita em um arquivo chamado\n",
    "\"files/myfile.txt\". Se o arquivo não existir, ele será criado com o nome do\n",
    "caminho fornecido. Se o arquivo já existe, o Python o abre. Quando os dados são\n",
    "gravados no arquivo e o arquivo é fechado (`close`), todos os dados anteriormente\n",
    "existentes no arquivo são apagados.  Os dados de seqüência de caracteres (strings) são\n",
    "escritos (ou gravados) para um arquivo usando o método de gravação com o objeto de\n",
    "arquivo. O método de escrita espera um único argumento de string. Se você\n",
    "quiser que o texto de saída termine com uma nova linha, você deve incluir o\n",
    "caractere de escape `\\n` na string. O exemplo a seguir escreve duas linhas de\n",
    "texto no arquivo:"
   ]
  },
  {
   "cell_type": "code",
   "execution_count": 12,
   "metadata": {},
   "outputs": [],
   "source": [
    "f = open(\"files/myfile.txt\", 'w')\n",
    "f.write(\"First line.\\nSecond line.\\n\")\n",
    "f.close()"
   ]
  },
  {
   "cell_type": "markdown",
   "metadata": {},
   "source": [
    "Assim como na leitura, quando todas as saídas forem concluídas, o arquivo deve\n",
    "ser fechado usando o método `close`. A falha ao fechar um arquivo de saída pode\n",
    "resultar na perda de dados."
   ]
  },
  {
   "cell_type": "markdown",
   "metadata": {},
   "source": [
    "## Escrevendo números em um arquivo texto"
   ]
  },
  {
   "cell_type": "markdown",
   "metadata": {},
   "source": [
    "Os dados em um arquivo de texto podem ser vistos como caracteres, palavras,\n",
    "números ou linhas de texto, dependendo do formato do arquivo de texto e dos\n",
    "propósitos para os quais os dados são usados. Quando os dados são tratados como\n",
    "números (inteiros ou pontos flutuantes), eles devem ser separados por espaços\n",
    "em brancos, tabulações ou carateres de mudança de linha. Veja no exemplo abaixo\n",
    "como se parece um arquivo de texto contendo seis números de ponto flutuante\n",
    "quando examinado com um editor de texto. Observe que este formato inclui um\n",
    "espaço ou uma nova linha como um separador de itens no texto."
   ]
  },
  {
   "cell_type": "raw",
   "metadata": {},
   "source": [
    "34.6 22.33 66.75\n",
    "77.12 21.44 99.01"
   ]
  },
  {
   "cell_type": "markdown",
   "metadata": {},
   "source": [
    "Todos os dados de saída ou entrada de um arquivo de texto devem ser strings.\n",
    "Assim, os números devem ser convertidos em strings antes da saída, e essas\n",
    "strings devem ser convertidas de volta em números após a entrada.  Em Python,\n",
    "os valores da maioria dos tipos de dados podem ser convertidos em strings\n",
    "usando a função `str`. As strings resultantes são então escritas em um arquivo\n",
    "com espaço ou uma nova linha como um caractere separador.\n",
    "\n",
    "O próximo trecho de código ilustra a saída de inteiros para um arquivo de\n",
    "texto. Quinhentos inteiros aleatórios entre 1 e 500 são gerados e escritos em\n",
    "um arquivo de texto chamado \"files/integers.txt\". O caractere de \\textit{newline} é o\n",
    "separador."
   ]
  },
  {
   "cell_type": "code",
   "execution_count": 14,
   "metadata": {},
   "outputs": [],
   "source": [
    "import random\n",
    "f = open(\"files/integers.txt\", 'w')\n",
    "for count in range(500):\n",
    "    number = random.randint(1, 500)\n",
    "    f.write(str(number) + \"\\n\")\n",
    "f.close()"
   ]
  },
  {
   "cell_type": "markdown",
   "metadata": {},
   "source": [
    "## Lendo dados de um arquivo texto"
   ]
  },
  {
   "cell_type": "markdown",
   "metadata": {},
   "source": [
    "Existem várias maneiras de ler dados de um arquivo de entrada. A maneira mais simples é usar o método `read` para inserir todo o conteúdo do arquivo como uma seqüência única em um objeto string. Se o arquivo contiver várias linhas de texto, os caracteres de nova linha (\\textit{newline})  serão incorporados nesta string. O exemplo a seguir mostra como usar o método `read`:"
   ]
  },
  {
   "cell_type": "code",
   "execution_count": null,
   "metadata": {},
   "outputs": [],
   "source": [
    "f = open(\"files/myfile.txt\", 'r')\n",
    "text = f.read()\n",
    "text"
   ]
  },
  {
   "cell_type": "code",
   "execution_count": null,
   "metadata": {},
   "outputs": [],
   "source": [
    "print(text)"
   ]
  },
  {
   "cell_type": "markdown",
   "metadata": {},
   "source": [
    "Após a conclusão da entrada, outra chamada para ler retornará uma string vazia, para indicar que o final do arquivo foi atingido. Para repetir a leitura em uma entrada, o arquivo deve ser reaberto. Não é necessário fechar o arquivo."
   ]
  },
  {
   "cell_type": "markdown",
   "metadata": {},
   "source": [
    "Alternativamente, uma aplicação pode ler e processar o texto, uma linha de cada vez. Um laço `for` cumpre isso muito bem. O laço `for` exibe um objeto de arquivo como uma seqüência de linhas de texto. Em cada iteração do laço, a variável de iteração está vinculada à próxima linha de texto na seqüência. No exemplo a seguir, reabrimos o nosso arquivo de exemplo e visitamos as linhas de texto nele contidas:"
   ]
  },
  {
   "cell_type": "code",
   "execution_count": null,
   "metadata": {},
   "outputs": [],
   "source": [
    "f = open(\"files/myfile.txt\", 'r')\n",
    "for line in f:\n",
    "    print(line)"
   ]
  },
  {
   "cell_type": "markdown",
   "metadata": {},
   "source": [
    "Observe que a impressão exibi uma nova linha extra. Isso ocorre porque cada linha de entrada de texto do arquivo mantém seu caractere de \\textit{newline}."
   ]
  },
  {
   "cell_type": "markdown",
   "metadata": {},
   "source": [
    "Podemos usar o método `readline` nos casos em que desejamos ler um número especifico de linhas de um arquivo (digamos, a primeira linha somente). O método `readline` consome uma linha de entrada e retorna essa string (incluindo o \\textit{newline}). Se readline encontrar o final do arquivo, ele retorna a string vazia. Revisitamos o exemplo anterior e usamos o laço `while` para inserir todas as linhas de texto com readline:"
   ]
  },
  {
   "cell_type": "code",
   "execution_count": null,
   "metadata": {},
   "outputs": [],
   "source": [
    "f = open(\"files/myfile.txt\", 'r')\n",
    "while True:\n",
    "    line = f.readline()\n",
    "    if line == \"\":\n",
    "        break\n",
    "    print(line)"
   ]
  },
  {
   "cell_type": "markdown",
   "metadata": {},
   "source": [
    "## Lendo números de um arquivo texto"
   ]
  },
  {
   "cell_type": "markdown",
   "metadata": {},
   "source": [
    "Todas as operações de entrada de arquivo retornam dados para o programa como strings. Se essas strings representarem outros tipos de dados, como números inteiros ou números de ponto flutuante, o programador deve convertê-los para os tipos apropriados antes de manipulá-los. Em Python, as representações de seqüência de números inteiros e números de ponto flutuante podem ser convertidas para os próprios números usando as funções `int` e `float`, respectivamente."
   ]
  },
  {
   "cell_type": "markdown",
   "metadata": {},
   "source": [
    "Ao ler dados de um arquivo, outra consideração importante é o formato dos itens de dados no arquivo. Anteriormente, mostramos um exemplo de código que emitia números inteiros, escolhidos de forma aleatória, separados por caracteres de \\textit{newline} para um arquivo de texto. Durante a entrada, esses dados podem ser lidos com um simples laço `for`. Este laço acessa uma linha de texto em cada iteração. Para converter esta linha para o inteiro contido nele, o programador executa o método `strip` para remover o \\textit{newline} e, em seguida, executa a função `int` para obter o valor inteiro.\n",
    "O exemplo abaixo ilustra essa técnica. Ele abre o arquivo de inteiros aleatórios escrito anteriormente, lê-os e imprime sua soma."
   ]
  },
  {
   "cell_type": "code",
   "execution_count": null,
   "metadata": {},
   "outputs": [],
   "source": [
    "f = open(\"files/integers.txt\", 'r')\n",
    "sum = 0\n",
    "for line in f:\n",
    "    line = line.strip()\n",
    "    number = int(line)\n",
    "    sum += number\n",
    "print(\"The sum is\", sum)"
   ]
  },
  {
   "cell_type": "markdown",
   "metadata": {},
   "source": [
    "Obter números de um arquivo de texto no qual eles são separados por espaços é um pouco mais complicado. Podemos continuar lendo as linhas em um laço `for`, como antes. Mas cada linha agora pode conter vários números inteiros separados por espaços. Você pode usar o método de seqüência `split` para obter uma lista das cadeias de caracteres que representam esses números inteiros e, em seguida, processar cada seqüência desta lista com outro laço for.\n",
    "\n",
    "Modificamos o exemplo anterior para lidar com números inteiros separados por espaços e/ou caracteres de \\textit{newline}."
   ]
  },
  {
   "cell_type": "code",
   "execution_count": null,
   "metadata": {},
   "outputs": [],
   "source": [
    "f = open(\"files/integers.txt\", 'r')\n",
    "sum = 0\n",
    "for line in f:\n",
    "    wordlist = line.split()\n",
    "    for word in wordlist:\n",
    "        number = int(word)\n",
    "        sum += number \n",
    "print(\"The sum is\", sum)"
   ]
  },
  {
   "cell_type": "markdown",
   "metadata": {},
   "source": [
    "# Arquivos Binários"
   ]
  },
  {
   "cell_type": "markdown",
   "metadata": {},
   "source": [
    "## ToDo"
   ]
  },
  {
   "cell_type": "markdown",
   "metadata": {},
   "source": [
    "# Acessando e manipulando arquivos e diretórios em disco"
   ]
  },
  {
   "cell_type": "markdown",
   "metadata": {},
   "source": [
    "Os arquivos são organizados em diretórios (também chamados de “pastas”). Cada programa em execução tem um “diretório atual”, que é o diretório-padrão da maior parte das operações. Nos exemplos anteriores, nós abrimos os arquivos tanto para leitura quanto para escrita na pasta \"files\" dentro do diretório atual, que no nosso caso é o diretório onde estão armazenados os cadernos de lições.\n",
    "\n",
    "O módulo `os` de python fornece funções para trabalhar com arquivos e diretórios (“os” é a abreviação de “sistema operacional” em inglês). Por exemplo, `os.getcwd` devolve o nome do diretório atual:"
   ]
  },
  {
   "cell_type": "code",
   "execution_count": null,
   "metadata": {},
   "outputs": [],
   "source": [
    "import os\n",
    "cwd = os.getcwd()\n",
    "cwd"
   ]
  },
  {
   "cell_type": "markdown",
   "metadata": {},
   "source": [
    "cwd é a abreviação de “diretório de trabalho atual” em inglês. O resultado neste exemplo é o diretório-padrão do caderno de aulas de MC102 que o jupyter notebook está acessando."
   ]
  },
  {
   "cell_type": "markdown",
   "metadata": {},
   "source": [
    "A tabela abaixo fornece algumas das principais funções do módulo os:"
   ]
  },
  {
   "cell_type": "markdown",
   "metadata": {},
   "source": [
    "| função       | Descrição |\n",
    "| :---         | :---      |\n",
    "| chdir (path) |   Altera o diretório de trabalho atual para o diretório indicado pela variável 'path' |\n",
    "| getcwd ()    |  Retorna o caminho (path) do diretório de trabalho atual |\n",
    "| listdir (path)| Retorna uma lista dos nomes no diretório indicado por 'path' |\n",
    "| mkdir (path) |  Cria um novo diretório e o coloca no diretório de trabalho atual |\n",
    "| remove (path)|  Remove o arquivo indicado por 'path' do diretório de trabalho atual |\n",
    "| rename (old, new) | Renomeia o arquivo ou diretório de 'antigo' para 'novo'|\n",
    "| rmdir (path) |  Remove o diretório de nome 'path' do diretório de trabalho atual|"
   ]
  },
  {
   "cell_type": "markdown",
   "metadata": {},
   "source": [
    "Por exemplo, se quisermos alterar o diretório atual para a pasta 'files' escrevemos:"
   ]
  },
  {
   "cell_type": "code",
   "execution_count": null,
   "metadata": {},
   "outputs": [],
   "source": [
    "os.chdir(cwd + \"/files\")\n",
    "cwd = os.getcwd()\n",
    "cwd"
   ]
  },
  {
   "cell_type": "markdown",
   "metadata": {},
   "source": [
    "Uma string como '/Users/marcio/Unicamp/MC102/Python/lectures/files', que identifica um arquivo ou diretório, é chamada de caminho (path).\n",
    "\n",
    "Um nome de arquivo simples, como \"poema.txt\", também é considerado um caminho, mas é um caminho relativo, porque se relaciona ao diretório atual. Se o diretório atual é '/home/marcio/Unicamp/MC102/Python/lectures/files', o nome de arquivo 'poema.txt' se refere ao arquivo '/home/marcio/Unicamp/MC102/Python/lectures/files/memo.txt'.\n",
    "\n",
    "Um caminho que começa com \"/\" não depende do diretório atual; isso é chamado de caminho absoluto. Para encontrar o caminho absoluto para um arquivo, você pode usar `os.path.abspath`:"
   ]
  },
  {
   "cell_type": "code",
   "execution_count": null,
   "metadata": {},
   "outputs": [],
   "source": [
    "os.path.abspath(\"poema.txt\")"
   ]
  },
  {
   "cell_type": "markdown",
   "metadata": {},
   "source": [
    "`os.path` fornece outras funções para trabalhar com nomes de arquivo e caminhos. Por exemplo:"
   ]
  },
  {
   "cell_type": "markdown",
   "metadata": {},
   "source": [
    "| Função | Descrição |\n",
    "| :---          | :---    |\n",
    "| join (path, name) | Une dois ou mais componentes do nome do caminho, inserindo '/' se necessário.| \n",
    "| exists (path) | Retorna True se o caminho existe e False caso contrário |\n",
    "| isdir (path) |  Retorna True se 'path' é um nome de diretório e False caso contrário |\n",
    "| isfile (path) | Retorna True se 'path' é um nome de arquivo e False caso contrário |"
   ]
  },
  {
   "cell_type": "markdown",
   "metadata": {},
   "source": [
    "Para demonstrar essas funções, o exemplo seguinte “passeia” por um diretório, exibe os nomes de todos os arquivos e chama a si mesmo recursivamente em todos os diretórios:"
   ]
  },
  {
   "cell_type": "code",
   "execution_count": 28,
   "metadata": {},
   "outputs": [],
   "source": [
    "def walk(dirname):\n",
    "    for name in os.listdir(dirname):\n",
    "        path = os.path.join(dirname, name)\n",
    "        if os.path.isfile(path):\n",
    "            print(path)\n",
    "        else:\n",
    "            walk(path)"
   ]
  },
  {
   "cell_type": "code",
   "execution_count": null,
   "metadata": {},
   "outputs": [],
   "source": [
    "walk(cwd)"
   ]
  }
 ],
 "metadata": {
  "kernelspec": {
   "display_name": "Python 3",
   "language": "python",
   "name": "python3"
  },
  "language_info": {
   "codemirror_mode": {
    "name": "ipython",
    "version": 3
   },
   "file_extension": ".py",
   "mimetype": "text/x-python",
   "name": "python",
   "nbconvert_exporter": "python",
   "pygments_lexer": "ipython3",
   "version": "3.6.4"
  },
  "latex_envs": {
   "LaTeX_envs_menu_present": true,
   "autoclose": false,
   "autocomplete": true,
   "bibliofile": "biblio.bib",
   "cite_by": "apalike",
   "current_citInitial": 1,
   "eqLabelWithNumbers": true,
   "eqNumInitial": 1,
   "hotkeys": {
    "equation": "Ctrl-E",
    "itemize": "Ctrl-I"
   },
   "labels_anchors": false,
   "latex_user_defs": false,
   "report_style_numbering": false,
   "user_envs_cfg": false
  },
  "toc": {
   "nav_menu": {},
   "number_sections": true,
   "sideBar": true,
   "skip_h1_title": false,
   "toc_cell": true,
   "toc_position": {},
   "toc_section_display": "block",
   "toc_window_display": false
  }
 },
 "nbformat": 4,
 "nbformat_minor": 2
}
