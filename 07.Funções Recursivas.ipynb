{
 "cells": [
  {
   "cell_type": "markdown",
   "metadata": {},
   "source": [
    "# Funções Recursivas"
   ]
  },
  {
   "cell_type": "markdown",
   "metadata": {},
   "source": [
    "Uma função é chamada de recursiva se o corpo da função chama a própria função, direta ou indiretamente. Ou seja, o processo de execução do corpo de uma função recursiva pode, por sua vez, exigir a aplicação dessa função novamente. As funções recursivas não usam nenhuma sintaxe especial em Python, mas requerem algum esforço para entender e criar.\n",
    "\n",
    "Um padrão comum pode ser encontrado no corpo de muitas funções recursivas. O\n",
    "corpo começa com um caso base, uma declaração condicional que define o\n",
    "comportamento da função para as entradas que são mais fáceis de processar. No\n",
    "caso do fatorial de um número inteiro positivo, o caso base é o fatorial de $1$,\n",
    "que, por definição tem o valor $1$. Note que algumas funções recursivas poderão ter\n",
    "múltiplos casos base.\n",
    "\n",
    "Os casos base são seguidos por uma ou mais chamadas recursivas. As chamadas\n",
    "recursivas sempre têm um certo caráter: eles simplificam o problema original. As\n",
    "funções recursivas expressam a computação, simplificando os problemas de forma\n",
    "incremental.\n",
    "\n",
    "As funções recursivas muitas vezes resolvem os problemas de maneira diferente\n",
    "das abordagens iterativas. Considere a função\n",
    "para calcular o fatorial de $4$, isto é,  $4! = 4*3*2*1 = 24$.\n",
    "Uma implementação natural usando uma declaração while acumula o total\n",
    "multiplicando juntos cada inteiro positivo até n."
   ]
  },
  {
   "cell_type": "code",
   "execution_count": null,
   "metadata": {},
   "outputs": [],
   "source": [
    "def fact_iter (n):\n",
    "    total, k = 1, 1\n",
    "    while k <= n:\n",
    "        total, k = total * k, k + 1\n",
    "    return total\n",
    "\n",
    "fact_iter (4)"
   ]
  },
  {
   "cell_type": "markdown",
   "metadata": {},
   "source": [
    "Por outro lado, uma implementação recursiva de fatorial pode expressar o\n",
    "fatorial de $n$ (ou $n!$) em termos do fatorial de $n-1$, isto é, $(n-1)!$, e o caso base\n",
    "da recursão é a forma mais simples do problema: $1! = 1$."
   ]
  },
  {
   "cell_type": "code",
   "execution_count": null,
   "metadata": {},
   "outputs": [],
   "source": [
    "%%tutor -l python3\n",
    "def fact(n):\n",
    "    if n == 1:\n",
    "        return 1\n",
    "    else:\n",
    "        return n * fact(n-1)\n",
    "\n",
    "fact(4)"
   ]
  },
  {
   "cell_type": "markdown",
   "metadata": {},
   "source": [
    "Essas duas funções fatoriais diferem conceitualmente. A função iterativa constrói o resultado a partir do caso base $1$, para o total final, multiplicando-se sucessivamente cada termo. A função recursiva, por outro lado, constrói o resultado diretamente do termo final, $n$, e o resultado do problema mais simples, fatorial $(n-1)$.\n",
    "\n",
    "À medida que a recursão \"desenrola\" através de sucessivas aplicações da função fatorial para instâncias de problemas mais simples e simples, o resultado é eventualmente construído a partir do caso base. A recursão termina passando o argumento $1$ para a função fatorial; o resultado de cada chamada depende do próximo até o caso base ser atingido."
   ]
  },
  {
   "cell_type": "code",
   "execution_count": null,
   "metadata": {},
   "outputs": [],
   "source": []
  }
 ],
 "metadata": {
  "kernelspec": {
   "display_name": "Python 3",
   "language": "python",
   "name": "python3"
  },
  "language_info": {
   "codemirror_mode": {
    "name": "ipython",
    "version": 3
   },
   "file_extension": ".py",
   "mimetype": "text/x-python",
   "name": "python",
   "nbconvert_exporter": "python",
   "pygments_lexer": "ipython3",
   "version": "3.6.4"
  },
  "latex_envs": {
   "LaTeX_envs_menu_present": true,
   "autoclose": false,
   "autocomplete": true,
   "bibliofile": "biblio.bib",
   "cite_by": "apalike",
   "current_citInitial": 1,
   "eqLabelWithNumbers": true,
   "eqNumInitial": 1,
   "hotkeys": {
    "equation": "Ctrl-E",
    "itemize": "Ctrl-I"
   },
   "labels_anchors": false,
   "latex_user_defs": false,
   "report_style_numbering": false,
   "user_envs_cfg": false
  },
  "toc": {
   "nav_menu": {},
   "number_sections": true,
   "sideBar": true,
   "skip_h1_title": false,
   "toc_cell": false,
   "toc_position": {},
   "toc_section_display": "block",
   "toc_window_display": false
  }
 },
 "nbformat": 4,
 "nbformat_minor": 2
}
