{
 "cells": [
  {
   "cell_type": "markdown",
   "metadata": {},
   "source": [
    "# Controle de Fluxo"
   ]
  },
  {
   "cell_type": "markdown",
   "metadata": {},
   "source": [
    "## Indentação do Código"
   ]
  },
  {
   "cell_type": "markdown",
   "metadata": {},
   "source": [
    "Os programas Python são estruturados através de indentação, ou seja, os blocos de código são definidos pelo seu recuo. Ok, é o que esperamos de qualquer código de programa, não é? Sim, mas no caso de Python é um requisito de linguagem, não é uma questão de estilo. Este princípio facilita a leitura e a compreensão do código Python de outras pessoas.\n",
    "\n",
    "Então, como isso funciona? Todas as declarações com a mesma distância à direita pertencem ao mesmo bloco de código, ou seja, as instruções dentro de uma linha de bloco verticalmente. O bloco termina em uma linha menos recuada ou no final do arquivo. Se um bloco tiver de ser mais profundamente aninhado, é simplesmente recuado mais para a direita. Veja a figura abaixo;\n",
    "\n",
    "Há outro aspecto da estruturação em Python, que vocês verão nos exemplos de laços e declarações condicionais a seguir. As senteças que iniciam o laço ou a declaração condicional terminam com dois pontos \":\" $-$ o mesmo é verdadeiro para funções e outras estruturas que introduzem blocos. Então, devemos dizer que as estruturas Python são definidas por dois pontos e indentação."
   ]
  },
  {
   "cell_type": "markdown",
   "metadata": {},
   "source": [
    "![teste](img/identation.png)"
   ]
  },
  {
   "cell_type": "markdown",
   "metadata": {},
   "source": [
    "## Sentenças Condicionais"
   ]
  },
  {
   "cell_type": "markdown",
   "metadata": {},
   "source": [
    "É muito comum em um programa que certos conjuntos de instruções sejam executados de forma condicional, em casos como validar entradas de dados, por exemplo.\n",
    "\n",
    "Sintaxe:\n",
    "\n",
    "    if <condição>:\n",
    "        <bloco de código>\n",
    "    elif <condição>:          # 0 ou mais cláusulas elif\n",
    "        <bloco de código>\n",
    "    else:                     # opcional\n",
    "        <bloco de código>\n",
    "\n",
    "Na qual:\n",
    "\n",
    "+ `<condição>`: sentença que possa ser avaliada como verdadeira ou falsa.\n",
    "+ `<bloco de código>`: sequência de linhas de comando.\n",
    "+ As clausulas `elif` e `else` são opcionais e podem existir vários `elifs` para o mesmo `if`, porém apenas um else ao final.\n",
    "+ Parênteses só são necessários para evitar ambiguidades.\n",
    "\n",
    "Fluxograma de Exemplo:"
   ]
  },
  {
   "cell_type": "markdown",
   "metadata": {},
   "source": [
    "![if](img/if-statement.png)"
   ]
  },
  {
   "cell_type": "markdown",
   "metadata": {},
   "source": [
    "Exemplo em python:"
   ]
  },
  {
   "cell_type": "code",
   "execution_count": 57,
   "metadata": {},
   "outputs": [],
   "source": [
    "from datetime import date\n",
    "import calendar\n",
    "\n",
    "today = calendar.day_name[date.today().weekday()]\n",
    "strike = \"N\"\n",
    "my_lab = \"Wednesday\"\n",
    "\n",
    "if today == \"Tuesday\":\n",
    "    if strike == \"Y\":\n",
    "        print(\"Stay home\")\n",
    "    else:\n",
    "        print(\"Lecture in MC102!\")\n",
    "elif today == \"Thursday\":\n",
    "    print(\"Another lecture in MC102!\")\n",
    "elif today == my_lab:\n",
    "    print(\"Go to lab!\")\n",
    "elif today == \"Monday\" or today == \"Friday\" or today == \"Saturday\":\n",
    "    print(\"no lecture in MC102\")\n",
    "else:\n",
    "    print(\"playday!\")"
   ]
  },
  {
   "cell_type": "markdown",
   "metadata": {},
   "source": [
    "Se o bloco de código for composto de apenas uma linha, ele pode ser escrito após os dois pontos. Exemplo:"
   ]
  },
  {
   "cell_type": "code",
   "execution_count": 18,
   "metadata": {},
   "outputs": [],
   "source": [
    "from weather import Weather\n",
    "clima = Weather()\n",
    "cidade = clima.lookup_by_location('edmonton')\n",
    "condicao = cidade.condition()\n",
    "temperatura = int(condicao.temp())\n",
    "if temperatura < 32: print ('Congelando...')"
   ]
  },
  {
   "cell_type": "markdown",
   "metadata": {},
   "source": [
    "### Exercício:\n",
    "4: A fórmula para converter de Fahrenheit para Celsius é $C = (F - 32) \\times 5/9$. Use esta fórmula para converter a temperatura obtida acima para Celsius:"
   ]
  },
  {
   "cell_type": "code",
   "execution_count": null,
   "metadata": {},
   "outputs": [],
   "source": []
  },
  {
   "cell_type": "markdown",
   "metadata": {},
   "source": [
    "## Expressões condicionais"
   ]
  },
  {
   "cell_type": "markdown",
   "metadata": {},
   "source": [
    "o Python suporta a expressão:\n",
    "\n",
    "    <variável> = <valor 1> if <condição> else <valor 2>\n",
    "\n",
    "Na qual `<variável>` receberá `<valor 1>` se `<condição>` for verdadeira e `<valor 2>`  caso contrário."
   ]
  },
  {
   "cell_type": "code",
   "execution_count": 65,
   "metadata": {},
   "outputs": [],
   "source": [
    "Weekend = True if (today == \"Saturday\" or today == \"Sunday\") else False\n",
    "print(Weekend)"
   ]
  },
  {
   "cell_type": "markdown",
   "metadata": {},
   "source": [
    "### Valores True e False"
   ]
  },
  {
   "cell_type": "markdown",
   "metadata": {},
   "source": [
    "Todo valor em python pode ser avaliado como True (Verdadeiro) ou False (Falso). A regra geral é que qualquer valor não-zero ou não vazio irá avaliar para Verdadeiro. Se você nunca tiver certeza, você pode abrir um terminal Python e escrever duas linhas para descobrir se o valor que você está considerando é True ou False. Dê uma olhada nos seguintes exemplos, mantenha-os em mente e teste qualquer valor que você tenha curiosidade."
   ]
  },
  {
   "cell_type": "code",
   "execution_count": 23,
   "metadata": {},
   "outputs": [],
   "source": [
    "if 0:\n",
    "    print(\"This evaluates to True.\")\n",
    "else:\n",
    "    print(\"This evaluates to False.\")"
   ]
  },
  {
   "cell_type": "code",
   "execution_count": null,
   "metadata": {},
   "outputs": [],
   "source": [
    "if 1:\n",
    "    print(\"This evaluates to True.\")\n",
    "else:\n",
    "    print(\"This evaluates to False.\")"
   ]
  },
  {
   "cell_type": "code",
   "execution_count": null,
   "metadata": {},
   "outputs": [],
   "source": [
    "# Test for an empty string\n",
    "if '':\n",
    "    print(\"This evaluates to True.\")\n",
    "else:\n",
    "    print(\"This evaluates to False.\")"
   ]
  },
  {
   "cell_type": "code",
   "execution_count": null,
   "metadata": {},
   "outputs": [],
   "source": [
    "# any other string, including a space\n",
    "if ' ':\n",
    "    print(\"This evaluates to True.\")\n",
    "else:\n",
    "    print(\"This evaluates to False.\")"
   ]
  },
  {
   "cell_type": "markdown",
   "metadata": {},
   "source": [
    "## Iterações"
   ]
  },
  {
   "cell_type": "markdown",
   "metadata": {},
   "source": [
    "A execução repetida de um conjunto de instruções é chamada de iteração. Python tem duas instruções para iteração - a declaração **for**, e a instrução **while**."
   ]
  },
  {
   "cell_type": "markdown",
   "metadata": {},
   "source": [
    "* Laços **while**:"
   ]
  },
  {
   "cell_type": "markdown",
   "metadata": {},
   "source": [
    "Executa um bloco de código atendendo a uma condição.\n",
    "\n",
    "Sintaxe:\n",
    "\n",
    "    while <condição>:\n",
    "        <bloco de código>\n",
    "        continue\n",
    "        break\n",
    "    else:\n",
    "        <bloco de código>\n",
    "            \n",
    "O bloco de código dentro do laço *while* é repetido enquanto a condição do laço estiver sendo avaliada como verdadeira."
   ]
  },
  {
   "cell_type": "markdown",
   "metadata": {},
   "source": [
    "![while](img/while-statement.png)"
   ]
  },
  {
   "cell_type": "markdown",
   "metadata": {},
   "source": [
    "Exemplo: Calcule quantas vezes o dígito 0 aparece no número inteiro calculado abaixo."
   ]
  },
  {
   "cell_type": "code",
   "execution_count": 66,
   "metadata": {},
   "outputs": [],
   "source": [
    "num = 2**100\n",
    "print(num)"
   ]
  },
  {
   "cell_type": "code",
   "execution_count": 67,
   "metadata": {},
   "outputs": [],
   "source": [
    "count = 0\n",
    "\n",
    "while num > 0:             # O que acontece se mudarmos a condição para >=0?\n",
    "    if num % 10 == 0:\n",
    "        count = count + 1\n",
    "    num = num // 10\n",
    "\n",
    "print(count)"
   ]
  },
  {
   "cell_type": "markdown",
   "metadata": {},
   "source": [
    "Exemplo: Jogo de Adivinhação"
   ]
  },
  {
   "cell_type": "code",
   "execution_count": null,
   "metadata": {},
   "outputs": [],
   "source": [
    "import random                      # Import the random module \n",
    "\n",
    "number = random.randrange(1, 100) # Get random number between 1 and 100\n",
    "guesses = 0\n",
    "guess = int(input(\"Adivinhe meu número entre 1 e 100:\"))\n",
    "\n",
    "while guess != number:\n",
    "    guesses += 1\n",
    "    if guess > number:\n",
    "        print(guess, \"está acima.\") \n",
    "    elif guess < number:\n",
    "        print(guess, \" está abaixo.\")\n",
    "    guess = int(input(\"tente novamente: \"))\n",
    "\n",
    "print(\"\\nÓtimo, você acertou em\", guesses, \" tentativas!\")"
   ]
  },
  {
   "cell_type": "markdown",
   "metadata": {},
   "source": [
    "Exercício: Repita o Jogo de adivinhação dando a opção do jogador de desistir, por exemplo, escolhendo o número $0$.\n",
    "- Dica: Use os comandos **break** & **else**"
   ]
  },
  {
   "cell_type": "code",
   "execution_count": null,
   "metadata": {},
   "outputs": [],
   "source": []
  },
  {
   "cell_type": "markdown",
   "metadata": {},
   "source": [
    "* Laços **For**:"
   ]
  },
  {
   "cell_type": "markdown",
   "metadata": {},
   "source": [
    "É a estrutura de repetição mais usada no Python. A instrução aceita não só sequências estáticas, mas também sequências geradas por iteradores. Iteradores são estruturas que permitem iterações, ou seja, acesso aos itens de uma coleção de elementos, de forma sequencial. Nós estudaremos iteradores mais à frente.\n",
    "\n",
    "Durante a execução de um laço *for*, a variável aponta para um elemento da sequência. A cada iteração, a variável é atualizada, para que o bloco de código do *for* processe o elemento correspondente.\n",
    "\n",
    "As cláusula opcional *break* interrompe o laço e a cláusula opcional *continue* passa para a próxima iteração. O código dentro do *else* (opcional) é executado ao final do laço, a não ser que o laço tenha sido interrompido por *break*.\n",
    "\n",
    "Sintaxe:\n",
    "\n",
    "    for <variable> in <sequência>:\n",
    "        <bloco de código>\n",
    "        continue\n",
    "        break\n",
    "    else:\n",
    "        <bloco de código>\n",
    "            \n",
    "Fluxograma:"
   ]
  },
  {
   "cell_type": "markdown",
   "metadata": {},
   "source": [
    "![for](img/for-statement.png)"
   ]
  },
  {
   "cell_type": "markdown",
   "metadata": {},
   "source": [
    "Exemplo: Vamos resolver o mesmo problema anterior usando o tipo `str` ao invés de `int`."
   ]
  },
  {
   "cell_type": "code",
   "execution_count": 68,
   "metadata": {},
   "outputs": [],
   "source": [
    "num = 2**100\n",
    "count = 0\n",
    "for digit in str(num):\n",
    "    #print(digit, type(digit))\n",
    "    if digit == \"0\":\n",
    "        count = count + 1\n",
    "\n",
    "print(count)"
   ]
  },
  {
   "cell_type": "markdown",
   "metadata": {},
   "source": [
    "   - solução usando funções Builtin:"
   ]
  },
  {
   "cell_type": "code",
   "execution_count": 69,
   "metadata": {},
   "outputs": [],
   "source": [
    "num = 2**100\n",
    "count = str.count(str(num), \"0\")\n",
    "print(count)"
   ]
  },
  {
   "cell_type": "markdown",
   "metadata": {},
   "source": [
    "## Escolhendo entre for e while"
   ]
  },
  {
   "cell_type": "markdown",
   "metadata": {},
   "source": [
    "Use um laço **for**, se você souber, antes de iniciar o laço, o número máximo de vezes que você precisará executar o corpo do laço. Por exemplo, se você estiver percorrendo uma lista de elementos, você sabe que o número máximo de iterações do laço que você pode precisar é \"todos os elementos da lista\". Problemas como: \"itere este modelo de previsão de tempo para 1000 ciclos\", ou \"pesquise esta lista de palavras\", ou ainda, \"encontre todos os números primos até 10000\", sugerem que um laço **for** é o mais adequado.\n",
    "\n",
    "Em contrapartida, se você precisar repetir alguma computação até que alguma condição seja atendida, e você não pode calcular antecipadamente quando isso acontecerá, como fizemos no \"programa de advinhação\", você precisará de um laço **while**.\n",
    "\n",
    "Chamamos de \"iteração definida\" o primeiro caso $-$ temos alguns limites definidos para o que é necessário. O último caso é chamado de \"iteração indefinida\" $-$ não temos certeza de quantas iterações precisamos $-$ nem podemos estabelecer um limite superior!"
   ]
  }
 ],
 "metadata": {
  "kernelspec": {
   "display_name": "Python 3",
   "language": "python",
   "name": "python3"
  },
  "language_info": {
   "codemirror_mode": {
    "name": "ipython",
    "version": 3
   },
   "file_extension": ".py",
   "mimetype": "text/x-python",
   "name": "python",
   "nbconvert_exporter": "python",
   "pygments_lexer": "ipython3",
   "version": "3.6.4"
  },
  "latex_envs": {
   "LaTeX_envs_menu_present": true,
   "autoclose": false,
   "autocomplete": true,
   "bibliofile": "biblio.bib",
   "cite_by": "apalike",
   "current_citInitial": 1,
   "eqLabelWithNumbers": true,
   "eqNumInitial": 1,
   "hotkeys": {
    "equation": "Ctrl-E",
    "itemize": "Ctrl-I"
   },
   "labels_anchors": false,
   "latex_user_defs": false,
   "report_style_numbering": false,
   "user_envs_cfg": false
  },
  "toc": {
   "nav_menu": {},
   "number_sections": true,
   "sideBar": true,
   "skip_h1_title": false,
   "toc_cell": false,
   "toc_position": {
    "height": "565px",
    "left": "0px",
    "right": "1068px",
    "top": "111px",
    "width": "212px"
   },
   "toc_section_display": "block",
   "toc_window_display": true
  }
 },
 "nbformat": 4,
 "nbformat_minor": 1
}
