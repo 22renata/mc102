{
 "cells": [
  {
   "cell_type": "markdown",
   "metadata": {
    "toc": true
   },
   "source": [
    "<h1>Table of Contents<span class=\"tocSkip\"></span></h1>\n",
    "<div class=\"toc\" style=\"margin-top: 1em;\"><ul class=\"toc-item\"><li><span><a href=\"#Controle-de-Fluxo\" data-toc-modified-id=\"Controle-de-Fluxo-1\"><span class=\"toc-item-num\">1&nbsp;&nbsp;</span>Controle de Fluxo</a></span><ul class=\"toc-item\"><li><span><a href=\"#Indentação-do-Código\" data-toc-modified-id=\"Indentação-do-Código-1.1\"><span class=\"toc-item-num\">1.1&nbsp;&nbsp;</span>Indentação do Código</a></span></li><li><span><a href=\"#Sentenças-Condicionais\" data-toc-modified-id=\"Sentenças-Condicionais-1.2\"><span class=\"toc-item-num\">1.2&nbsp;&nbsp;</span>Sentenças Condicionais</a></span><ul class=\"toc-item\"><li><span><a href=\"#Exercício:\" data-toc-modified-id=\"Exercício:-1.2.1\"><span class=\"toc-item-num\">1.2.1&nbsp;&nbsp;</span>Exercício:</a></span></li></ul></li><li><span><a href=\"#Expressões-condicionais\" data-toc-modified-id=\"Expressões-condicionais-1.3\"><span class=\"toc-item-num\">1.3&nbsp;&nbsp;</span>Expressões condicionais</a></span><ul class=\"toc-item\"><li><span><a href=\"#Valores-True-e-False\" data-toc-modified-id=\"Valores-True-e-False-1.3.1\"><span class=\"toc-item-num\">1.3.1&nbsp;&nbsp;</span>Valores True e False</a></span></li></ul></li><li><span><a href=\"#Exercicio-1\" data-toc-modified-id=\"Exercicio-1-1.4\"><span class=\"toc-item-num\">1.4&nbsp;&nbsp;</span>Exercicio 1</a></span></li><li><span><a href=\"#Exercício-2\" data-toc-modified-id=\"Exercício-2-1.5\"><span class=\"toc-item-num\">1.5&nbsp;&nbsp;</span>Exercício 2</a></span></li></ul></li><li><span><a href=\"#Iterações\" data-toc-modified-id=\"Iterações-2\"><span class=\"toc-item-num\">2&nbsp;&nbsp;</span>Iterações</a></span><ul class=\"toc-item\"><li><span><a href=\"#Laços-while\" data-toc-modified-id=\"Laços-while-2.1\"><span class=\"toc-item-num\">2.1&nbsp;&nbsp;</span>Laços <strong>while</strong></a></span><ul class=\"toc-item\"><li><span><a href=\"#Questões\" data-toc-modified-id=\"Questões-2.1.1\"><span class=\"toc-item-num\">2.1.1&nbsp;&nbsp;</span>Questões</a></span></li></ul></li><li><span><a href=\"#Laços-For\" data-toc-modified-id=\"Laços-For-2.2\"><span class=\"toc-item-num\">2.2&nbsp;&nbsp;</span>Laços <strong>For</strong></a></span></li><li><span><a href=\"#A-função-range\" data-toc-modified-id=\"A-função-range-2.3\"><span class=\"toc-item-num\">2.3&nbsp;&nbsp;</span>A função range</a></span><ul class=\"toc-item\"><li><span><a href=\"#Exercício\" data-toc-modified-id=\"Exercício-2.3.1\"><span class=\"toc-item-num\">2.3.1&nbsp;&nbsp;</span>Exercício</a></span></li></ul></li><li><span><a href=\"#Escolhendo-entre-for-e-while\" data-toc-modified-id=\"Escolhendo-entre-for-e-while-2.4\"><span class=\"toc-item-num\">2.4&nbsp;&nbsp;</span>Escolhendo entre for e while</a></span><ul class=\"toc-item\"><li><span><a href=\"#Exercício:-Potenciação\" data-toc-modified-id=\"Exercício:-Potenciação-2.4.1\"><span class=\"toc-item-num\">2.4.1&nbsp;&nbsp;</span>Exercício: Potenciação</a></span></li><li><span><a href=\"#Exercício:-A-sequencia-$3n-+-1$.\" data-toc-modified-id=\"Exercício:-A-sequencia-$3n-+-1$.-2.4.2\"><span class=\"toc-item-num\">2.4.2&nbsp;&nbsp;</span>Exercício: A sequencia $3n + 1$.</a></span></li></ul></li><li><span><a href=\"#Variáveis-Indicadoras\" data-toc-modified-id=\"Variáveis-Indicadoras-2.5\"><span class=\"toc-item-num\">2.5&nbsp;&nbsp;</span>Variáveis Indicadoras</a></span><ul class=\"toc-item\"><li><span><a href=\"#Exercício\" data-toc-modified-id=\"Exercício-2.5.1\"><span class=\"toc-item-num\">2.5.1&nbsp;&nbsp;</span>Exercício</a></span></li></ul></li><li><span><a href=\"#Variáveis-Contadoras\" data-toc-modified-id=\"Variáveis-Contadoras-2.6\"><span class=\"toc-item-num\">2.6&nbsp;&nbsp;</span>Variáveis Contadoras</a></span><ul class=\"toc-item\"><li><span><a href=\"#Questões\" data-toc-modified-id=\"Questões-2.6.1\"><span class=\"toc-item-num\">2.6.1&nbsp;&nbsp;</span>Questões</a></span></li></ul></li><li><span><a href=\"#Strings-e-laços\" data-toc-modified-id=\"Strings-e-laços-2.7\"><span class=\"toc-item-num\">2.7&nbsp;&nbsp;</span>Strings e laços</a></span><ul class=\"toc-item\"><li><span><a href=\"#Exercício:-Letras-em-comum.\" data-toc-modified-id=\"Exercício:-Letras-em-comum.-2.7.1\"><span class=\"toc-item-num\">2.7.1&nbsp;&nbsp;</span>Exercício: Letras em comum.</a></span></li></ul></li></ul></li></ul></div>"
   ]
  },
  {
   "cell_type": "markdown",
   "metadata": {},
   "source": [
    "# Controle de Fluxo"
   ]
  },
  {
   "cell_type": "markdown",
   "metadata": {},
   "source": [
    "## Indentação do Código"
   ]
  },
  {
   "cell_type": "markdown",
   "metadata": {},
   "source": [
    "Os programas Python são estruturados através de indentação, ou seja, os blocos de código são definidos pelo seu recuo. Ok, é o que esperamos de qualquer código de programa, não é? Sim, mas no caso de Python é um requisito de linguagem, não é uma questão de estilo. Este princípio facilita a leitura e a compreensão do código Python de outras pessoas.\n",
    "\n",
    "Então, como isso funciona? Todas as declarações com a mesma distância à direita pertencem ao mesmo bloco de código, ou seja, as instruções dentro de uma linha de bloco verticalmente. O bloco termina em uma linha menos recuada ou no final do arquivo. Se um bloco tiver de ser mais profundamente aninhado, é simplesmente recuado mais para a direita. Veja a figura abaixo;\n",
    "\n",
    "Há outro aspecto da estruturação em Python, que vocês verão nos exemplos de laços e declarações condicionais a seguir. As senteças que iniciam o laço ou a declaração condicional terminam com dois pontos \":\" $-$ o mesmo é verdadeiro para funções e outras estruturas que introduzem blocos. Então, devemos dizer que as estruturas Python são definidas por dois pontos e indentação."
   ]
  },
  {
   "cell_type": "markdown",
   "metadata": {},
   "source": [
    "![teste](img/identation.png)"
   ]
  },
  {
   "cell_type": "markdown",
   "metadata": {},
   "source": [
    "## Sentenças Condicionais"
   ]
  },
  {
   "cell_type": "markdown",
   "metadata": {},
   "source": [
    "É muito comum em um programa que certos conjuntos de instruções sejam executados de forma condicional, em casos como validar entradas de dados, por exemplo.\n",
    "\n",
    "Sintaxe:\n",
    "```python\n",
    "    if <condição>:\n",
    "        <bloco de código>\n",
    "    elif <condição>:          # 0 ou mais cláusulas elif\n",
    "        <bloco de código>\n",
    "    else:                     # opcional\n",
    "        <bloco de código>\n",
    "```\n",
    "Na qual:\n",
    "\n",
    "+ `<condição>`: sentença que possa ser avaliada como verdadeira ou falsa.\n",
    "+ `<bloco de código>`: sequência de linhas de comando.\n",
    "+ As clausulas `elif` e `else` são opcionais e podem existir vários `elifs` para o mesmo `if`, porém apenas um `else` ao final.\n",
    "\n",
    "Exemplo:"
   ]
  },
  {
   "cell_type": "code",
   "execution_count": null,
   "metadata": {},
   "outputs": [],
   "source": [
    "x = int(input(\"Enter a number for x: \"))\n",
    "y = int(input(\"Enter a number for y: \"))\n",
    "if x == y:\n",
    "    print(\"x and y are equal\")\n",
    "elif x < y:\n",
    "    print(\"x is smaller\")\n",
    "else:\n",
    "    print(\"y is smaller\")\n",
    "print(\"thanks!\")"
   ]
  },
  {
   "cell_type": "markdown",
   "metadata": {},
   "source": [
    "Fluxograma do exemplo:"
   ]
  },
  {
   "cell_type": "markdown",
   "metadata": {},
   "source": [
    "![if](img/if-statement.png)"
   ]
  },
  {
   "cell_type": "markdown",
   "metadata": {},
   "source": [
    "Um exemplo um pouco mais elaborado:"
   ]
  },
  {
   "cell_type": "code",
   "execution_count": 57,
   "metadata": {},
   "outputs": [],
   "source": [
    "from datetime import date\n",
    "import calendar\n",
    "\n",
    "today = calendar.day_name[date.today().weekday()]\n",
    "strike = \"N\"\n",
    "my_lab = \"Wednesday\"\n",
    "\n",
    "if today == \"Tuesday\":\n",
    "    if strike == \"Y\":\n",
    "        print(\"Stay home\")\n",
    "    else:\n",
    "        print(\"Lecture in MC102!\")\n",
    "elif today == \"Thursday\":\n",
    "    print(\"Another lecture in MC102!\")\n",
    "elif today == my_lab:\n",
    "    print(\"Go to lab!\")\n",
    "elif today == \"Monday\" or today == \"Friday\" or today == \"Saturday\":\n",
    "    print(\"no lecture in MC102\")\n",
    "else:\n",
    "    print(\"playday!\")"
   ]
  },
  {
   "cell_type": "markdown",
   "metadata": {},
   "source": [
    "Se o bloco de código for composto de apenas uma linha, ele pode ser escrito após os dois pontos. Exemplo:"
   ]
  },
  {
   "cell_type": "code",
   "execution_count": null,
   "metadata": {},
   "outputs": [],
   "source": [
    "# weather-api é um wrapper para o feed Weather RSS XML do Yahoo.\n",
    "# Para usar o weather-api é preciso instalá-lo:\n",
    "# pip3 install weather-api\n",
    "\n",
    "from weather import Weather\n",
    "clima = Weather()\n",
    "cidade = clima.lookup_by_location('edmonton')\n",
    "condicao = cidade.condition()\n",
    "temperatura = int(condicao.temp())\n",
    "if temperatura < 32: print ('Congelando...')"
   ]
  },
  {
   "cell_type": "markdown",
   "metadata": {},
   "source": [
    "### Exercício:\n",
    "4: A fórmula para converter de Fahrenheit para Celsius é $C = (F - 32) \\times 5/9$. Use esta fórmula para converter a temperatura obtida no exemplo acima para Celsius:"
   ]
  },
  {
   "cell_type": "code",
   "execution_count": null,
   "metadata": {},
   "outputs": [],
   "source": []
  },
  {
   "cell_type": "markdown",
   "metadata": {},
   "source": [
    "## Expressões condicionais"
   ]
  },
  {
   "cell_type": "markdown",
   "metadata": {},
   "source": [
    "o Python suporta a expressão:\n",
    "```python\n",
    "    <variável> = <valor_1> if <condição> else <valor_2>\n",
    "```\n",
    "Na qual `<variável>` receberá `<valor_1>` se `<condição>` for verdadeira e `<valor_2>`  caso contrário."
   ]
  },
  {
   "cell_type": "code",
   "execution_count": 65,
   "metadata": {},
   "outputs": [],
   "source": [
    "Weekend = True if (today == \"Saturday\" or today == \"Sunday\") else False\n",
    "print(Weekend)"
   ]
  },
  {
   "cell_type": "markdown",
   "metadata": {},
   "source": [
    "### Valores True e False"
   ]
  },
  {
   "cell_type": "markdown",
   "metadata": {},
   "source": [
    "Todo valor em python pode ser avaliado como True (Verdadeiro) ou False (Falso). A regra geral é que qualquer valor não-zero ou não vazio irá avaliar para Verdadeiro. Se você nunca tiver certeza, você pode abrir um terminal Python e escrever duas linhas para descobrir se o valor que você está considerando é True ou False. Dê uma olhada nos seguintes exemplos, mantenha-os em mente e teste qualquer valor que você tenha curiosidade."
   ]
  },
  {
   "cell_type": "code",
   "execution_count": 23,
   "metadata": {},
   "outputs": [],
   "source": [
    "if 0:\n",
    "    print(\"This evaluates to True.\")\n",
    "else:\n",
    "    print(\"This evaluates to False.\")"
   ]
  },
  {
   "cell_type": "code",
   "execution_count": null,
   "metadata": {},
   "outputs": [],
   "source": [
    "if 1:\n",
    "    print(\"This evaluates to True.\")\n",
    "else:\n",
    "    print(\"This evaluates to False.\")"
   ]
  },
  {
   "cell_type": "code",
   "execution_count": null,
   "metadata": {},
   "outputs": [],
   "source": [
    "# Test for an empty string\n",
    "if '':\n",
    "    print(\"This evaluates to True.\")\n",
    "else:\n",
    "    print(\"This evaluates to False.\")"
   ]
  },
  {
   "cell_type": "code",
   "execution_count": null,
   "metadata": {},
   "outputs": [],
   "source": [
    "# any other string, including a space\n",
    "if ' ':\n",
    "    print(\"This evaluates to True.\")\n",
    "else:\n",
    "    print(\"This evaluates to False.\")"
   ]
  },
  {
   "cell_type": "markdown",
   "metadata": {},
   "source": [
    "## Exercicio 1"
   ]
  },
  {
   "cell_type": "markdown",
   "metadata": {},
   "source": [
    "Escrever um programa que calcula a área de três tipos de objetos geométricos: quadrado, retângulo e círculo. \n",
    "- Primeiramente deve ser lido um caractere que indica o tipo de objeto a ter a área calculada: ’q’ para quadrado, ’r’ para retângulo e ’c’ para círculo.\n",
    "- Em seguida deverá ser lido as dimensões do objeto:\n",
    "  - Para um quadrado deve ser lido o tamanho de um lado.\n",
    "  - Para um retângulo devem ser lidos os tamanhos de cada lado.\n",
    "  - Para um círculo, deve ser lido o raio.\n",
    "- Em seguida o programa faz o cálculo da área, imprime no terminal e finaliza o programa. Se o usuário digitar um caractere diferente de ’q’, ’r’, e ’c’ o programa deverá imprimir uma mensagem de erro antes de finalizar o programa."
   ]
  },
  {
   "cell_type": "code",
   "execution_count": null,
   "metadata": {},
   "outputs": [],
   "source": []
  },
  {
   "cell_type": "markdown",
   "metadata": {},
   "source": [
    "## Exercício 2"
   ]
  },
  {
   "cell_type": "markdown",
   "metadata": {},
   "source": [
    "Quando ações são vendidas ou compradas por meio de um corretor, a comissão do corretor é muitas vezes calculada usando uma escala que depende do valor das ações negociadas. Escreva um programa que calcule o valor da comissão a partir do valor da transação informado pelo usuário, sabendo-se que o corretor cobra os valores indicados abaixo e que a comissão mínima é de R$ 39,00.\n",
    "\n",
    "- Até R\\$2.500,00, comissão de R\\$30,00 + 1,7%\n",
    "\n",
    "- de R\\$2.500,01 até R\\$6.250,00, comissão de R\\$56,00 + 0,66%\n",
    "\n",
    "- R\\$6.250,01 até R\\$20.000,00, comissão de R\\$76,00 + 0,34%\n",
    "\n",
    "- R\\$20.000,01 até R\\$50.000,00, comissão de R\\$100,00 + 0,22%\n",
    "\n",
    "- R\\$50.000,01 até R\\$500.000,00, comissão de R\\$155,00 + 0,11%\n",
    "\n",
    "- Acima de R\\$500.000,00, comissão de R\\$255,00 + 0,09%"
   ]
  },
  {
   "cell_type": "code",
   "execution_count": null,
   "metadata": {},
   "outputs": [],
   "source": []
  },
  {
   "cell_type": "markdown",
   "metadata": {},
   "source": [
    "# Iterações"
   ]
  },
  {
   "cell_type": "markdown",
   "metadata": {},
   "source": [
    "Até agora vimos como escrever programas capazes de executar comandos de forma linear, e, se necessário, tomar decisões com relação a executar ou não um bloco de comandos.\n",
    "Entretanto, eventualmente faz-se necessário executar um bloco de comandos várias vezes para obter o resultado esperado. A execução repetida de um conjunto de instruções é chamada de iteração. Python tem duas instruções para iteração - a declaração **for**, e a instrução **while**."
   ]
  },
  {
   "cell_type": "markdown",
   "metadata": {},
   "source": [
    "## Laços **while**"
   ]
  },
  {
   "cell_type": "markdown",
   "metadata": {},
   "source": [
    "Executa um bloco de código atendendo a uma condição.\n",
    "\n",
    "Sintaxe:\n",
    "```python\n",
    "    while <condição>:\n",
    "        <bloco de código>\n",
    "        continue\n",
    "        break\n",
    "    else:\n",
    "        <bloco de código>\n",
    "```            \n",
    "O bloco de código dentro do laço `while` é repetido enquanto a condição do laço estiver sendo avaliada como verdadeira."
   ]
  },
  {
   "cell_type": "markdown",
   "metadata": {},
   "source": [
    "![while](img/while-statement.png)"
   ]
  },
  {
   "cell_type": "markdown",
   "metadata": {},
   "source": [
    "Exemplo: Calcule quantas vezes o dígito 0 aparece no número inteiro calculado abaixo."
   ]
  },
  {
   "cell_type": "code",
   "execution_count": null,
   "metadata": {},
   "outputs": [],
   "source": [
    "num = 2**100\n",
    "print(num)"
   ]
  },
  {
   "cell_type": "code",
   "execution_count": null,
   "metadata": {},
   "outputs": [],
   "source": [
    "count = 0\n",
    "\n",
    "while num > 0:             # O que acontece se mudarmos a condição para >=0?\n",
    "    if num % 10 == 0:\n",
    "        count = count + 1\n",
    "    num = num // 10\n",
    "\n",
    "print(count)"
   ]
  },
  {
   "cell_type": "markdown",
   "metadata": {},
   "source": [
    "Exemplo: Jogo de Adivinhação"
   ]
  },
  {
   "cell_type": "code",
   "execution_count": null,
   "metadata": {},
   "outputs": [],
   "source": [
    "import random                      # Import the random module \n",
    "\n",
    "number = random.randrange(1, 100) # Get random number between 1 and 100\n",
    "guesses = 0\n",
    "guess = int(input(\"Adivinhe meu número entre 1 e 100:\"))\n",
    "\n",
    "while guess != number:\n",
    "    guesses += 1\n",
    "    if guess > number:\n",
    "        print(guess, \"está acima.\") \n",
    "    elif guess < number:\n",
    "        print(guess, \" está abaixo.\")\n",
    "    guess = int(input(\"tente novamente: \"))\n",
    "\n",
    "print(\"\\nÓtimo, você acertou em\", guesses, \" tentativas!\")"
   ]
  },
  {
   "cell_type": "markdown",
   "metadata": {},
   "source": [
    "Exercício: Repita o Jogo de adivinhação dando a opção do jogador de desistir, por exemplo, escolhendo o número $0$.\n",
    "- Dica: Use os comandos **break** & **else**"
   ]
  },
  {
   "cell_type": "code",
   "execution_count": null,
   "metadata": {},
   "outputs": [],
   "source": []
  },
  {
   "cell_type": "markdown",
   "metadata": {},
   "source": [
    "### Questões"
   ]
  },
  {
   "cell_type": "markdown",
   "metadata": {},
   "source": [
    "1. O que acontece se a condição no comando while for falsa na primeira vez?\n",
    "2. O que acontece se a condição no comando while for sempre verdadeira?"
   ]
  },
  {
   "cell_type": "markdown",
   "metadata": {},
   "source": [
    "## Laços **For**"
   ]
  },
  {
   "cell_type": "markdown",
   "metadata": {},
   "source": [
    "É a estrutura de repetição mais usada no Python. A instrução aceita não só sequências estáticas, mas também sequências geradas por iteradores. Iteradores são estruturas que permitem iterações, ou seja, acesso aos itens de uma coleção de elementos, de forma sequencial. Nós estudaremos iteradores mais à frente.\n",
    "\n",
    "Durante a execução de um laço *for*, a variável aponta para um elemento da sequência. A cada iteração, a variável é atualizada, para que o bloco de código do *for* processe o elemento correspondente.\n",
    "\n",
    "As cláusula opcional *break* interrompe o laço e a cláusula opcional *continue* passa para a próxima iteração. O código dentro do *else* (opcional) é executado ao final do laço, a não ser que o laço tenha sido interrompido por *break*.\n",
    "\n",
    "Sintaxe:\n",
    "```python\n",
    "    for <variable> in <sequência>:\n",
    "        <bloco de código>\n",
    "        continue\n",
    "        break\n",
    "    else:\n",
    "        <bloco de código>\n",
    "```            \n",
    "Fluxograma:"
   ]
  },
  {
   "cell_type": "markdown",
   "metadata": {},
   "source": [
    "![for](img/for-statement.png)"
   ]
  },
  {
   "cell_type": "markdown",
   "metadata": {},
   "source": [
    "Exemplo: Vamos resolver o mesmo problema anterior usando o tipo \\textbf{str} ao invés de \\textbf{int}."
   ]
  },
  {
   "cell_type": "code",
   "execution_count": 68,
   "metadata": {},
   "outputs": [],
   "source": [
    "num = 2**100\n",
    "count = 0\n",
    "for digit in str(num):\n",
    "    #print(digit, type(digit))\n",
    "    if digit == \"0\":\n",
    "        count = count + 1\n",
    "\n",
    "print(count)"
   ]
  },
  {
   "cell_type": "markdown",
   "metadata": {},
   "source": [
    "   - solução mais eficiente usando funções builtin:"
   ]
  },
  {
   "cell_type": "code",
   "execution_count": null,
   "metadata": {},
   "outputs": [],
   "source": [
    "num = 2**100\n",
    "count = str.count(str(num), \"0\")\n",
    "print(count)"
   ]
  },
  {
   "cell_type": "markdown",
   "metadata": {},
   "source": [
    "## A função range"
   ]
  },
  {
   "cell_type": "markdown",
   "metadata": {},
   "source": [
    "A função `range()` retorna uma série numérica no intervalo enviado como argumento.\n",
    "A série retornada é um objeto iterável  tipo range e os elementos contidos serão gerados sob demanda.\n",
    "É comum o uso da função `range()` com laços for."
   ]
  },
  {
   "cell_type": "code",
   "execution_count": null,
   "metadata": {},
   "outputs": [],
   "source": [
    "range( stop )                  #primeira definição ou definição simplificada\n",
    "range( [start], stop[, step] ) #segunda definição ou definição completa"
   ]
  },
  {
   "cell_type": "markdown",
   "metadata": {},
   "source": [
    "A função `range()` exige a definição do último elemento da sequência numérica. Por padrão, o parâmetro start será igual a 0 e o step igual a 1:\n",
    "\n",
    "- start - valor onde o intervalo deve começar\n",
    "- stop - valor (menos um) onde o intervalo deve finalizar\n",
    "- step - passo (intervalo entre os elementos da sequência)\n"
   ]
  },
  {
   "cell_type": "markdown",
   "metadata": {},
   "source": [
    "Note que o parâmetro stop possui o intervalo aberto, isto é, o número definido não estará contido na sequência numérica:"
   ]
  },
  {
   "cell_type": "code",
   "execution_count": null,
   "metadata": {},
   "outputs": [],
   "source": [
    "for num in range(5):\n",
    "    print(num)"
   ]
  },
  {
   "cell_type": "markdown",
   "metadata": {},
   "source": [
    "Exemplo: A soma dos números impares no intervalo de 0 a 100, usando uma variável \\textbf{acumuladora}."
   ]
  },
  {
   "cell_type": "code",
   "execution_count": null,
   "metadata": {
    "code_folding": []
   },
   "outputs": [],
   "source": [
    "soma = 0\n",
    "for impar in range(1, 100, 2):\n",
    "    soma = soma + impar\n",
    "print(\"A soma dos impares até 100 é: \", soma)"
   ]
  },
  {
   "cell_type": "markdown",
   "metadata": {},
   "source": [
    "### Exercício"
   ]
  },
  {
   "cell_type": "markdown",
   "metadata": {},
   "source": [
    "Leia um inteiro positivo $n$, e imprima as potências: $2^0$, $2^1$, . . . , $2^n$.\n",
    "Dica: Use uma variável acumuladora que no início da i-ésima iteração de um laço, possui o valor $2^i$. Imprima este valor e atualize a variável acumuladora para a próxima iteração, multiplicando esta variável por 2."
   ]
  },
  {
   "cell_type": "code",
   "execution_count": null,
   "metadata": {},
   "outputs": [],
   "source": []
  },
  {
   "cell_type": "markdown",
   "metadata": {},
   "source": [
    "## Escolhendo entre for e while"
   ]
  },
  {
   "cell_type": "markdown",
   "metadata": {},
   "source": [
    "Use um laço **for**, se você souber, antes de iniciar o laço, o número máximo de vezes que você precisará executar o corpo do laço. Por exemplo, se você estiver percorrendo uma lista de elementos, você sabe que o número máximo de iterações do laço que você pode precisar é \"todos os elementos da lista\". Problemas como: \"itere este modelo de previsão de tempo para 1000 ciclos\", ou \"pesquise esta lista de palavras\", ou ainda, \"encontre todos os números primos até 10000\", sugerem que um laço **for** é o mais adequado.\n",
    "\n",
    "Em contrapartida, se você precisar repetir alguma computação até que alguma condição seja atendida, e você não pode calcular antecipadamente quando isso acontecerá, como fizemos no \"programa de advinhação\", você precisará de um laço **while**.\n",
    "\n",
    "Chamamos de \"iteração definida\" o primeiro caso $-$ temos alguns limites definidos para o que é necessário. O último caso é chamado de \"iteração indefinida\" $-$ não temos certeza de quantas iterações precisamos $-$ nem podemos estabelecer um limite superior!"
   ]
  },
  {
   "cell_type": "markdown",
   "metadata": {},
   "source": [
    "### Exercício: Potenciação"
   ]
  },
  {
   "cell_type": "markdown",
   "metadata": {},
   "source": [
    "Faça um programa que lê dois números inteiros positivos $a$ e $b$. Utilizando laços (i.e., não utilizar $**$), o seu programa deve calcular e imprimir o valor $a^b$."
   ]
  },
  {
   "cell_type": "code",
   "execution_count": null,
   "metadata": {},
   "outputs": [],
   "source": []
  },
  {
   "cell_type": "markdown",
   "metadata": {},
   "source": [
    "### Exercício: A sequencia $3n + 1$."
   ]
  },
  {
   "cell_type": "markdown",
   "metadata": {},
   "source": [
    "Também conhecida como [Conjectura Collatz](https://en.wikipedia.org/wiki/Collatz_conjecture). Esta sequência tem fascinado matemáticos por vários anos.\n",
    "A regra para criar a sequência é começar com um dado $n$, e gerar o próximo termo da sequência a partir de $n$ da seguinte forma: se $n$ for par dividimos $n$ por $2$, ou senão, multiplicamos $n$ por $3$ e somamos $1$ quando $n$ for impar. A sequência termina quando $n$ se tornar $1$."
   ]
  },
  {
   "cell_type": "code",
   "execution_count": null,
   "metadata": {
    "code_folding": [
     2
    ]
   },
   "outputs": [],
   "source": [
    "n = int(input(\"Give-me an integer: \"))\n",
    "\"\"\" Print the 3n+1 sequence from n, terminating when it reaches 1.\"\"\"\n",
    "while n != 1:\n",
    "    print(n)\n",
    "    if n % 2 == 0:        # n is even\n",
    "        n = n // 2\n",
    "    else:                 # n is odd\n",
    "        n = n * 3 + 1\n",
    "print(n)                  # the last print is 1"
   ]
  },
  {
   "cell_type": "markdown",
   "metadata": {},
   "source": [
    "## Variáveis Indicadoras"
   ]
  },
  {
   "cell_type": "markdown",
   "metadata": {},
   "source": [
    "Um uso comum de laços é para a verificação se um determinado objeto, ou conjunto de objetos, satisfaz uma propriedade ou não. Um padrão que pode ser útil na resolução deste tipo de problema é o uso de uma variável \\textbf{indicadora}:\n",
    "\n",
    "- Assumimos que o objeto satisfaz a propriedade (indicadora = True).\n",
    "- Com um laço verificamos se o objeto realmente satisfaz a propriedade.\n",
    "- Se em alguma iteração descobrirmos que o objeto não satisfaz a propriedade, então fazemos (indicadora = False)."
   ]
  },
  {
   "cell_type": "markdown",
   "metadata": {},
   "source": [
    "Vamos usar este padrão na determinação se um número $n$ é primo ou não.\n",
    "\n",
    "- Um número é primo se seus únicos divisores são $1$ e ele mesmo.\n",
    "\n",
    "Dado um número $n$ como detectar se este é ou não primo?\n",
    "\n",
    "1. Leia o número $n$.\n",
    "2. Faça a variável indicadora = True, assumindo que $n$ é primo.\n",
    "3. Teste se nenhum dos números entre $2$ e $n − 1$ divide $n$. Lembre-se que o operador % retorna o resto da divisão. Portanto $a % b$ é zero se e somente se $b$ divide $a$.\n",
    "4. Se o resto da divisão for igual a zero então faça indicadora = False. Com isto descobrimos que $n$ não é primo."
   ]
  },
  {
   "cell_type": "code",
   "execution_count": null,
   "metadata": {
    "code_folding": [
     0
    ]
   },
   "outputs": [],
   "source": [
    "# solução\n",
    "n = int(input(\"Digite um número inteiro positivo:\"))\n",
    "div = 2\n",
    "e_primo = 1\n",
    "while div <= n-1:\n",
    "    if n % div == 0:\n",
    "        e_primo = False\n",
    "        break\n",
    "    div = div + 1\n",
    "if e_primo:\n",
    "    print(\"É primo!!\")\n",
    "else:\n",
    "    print(\"Não é primo!!\")"
   ]
  },
  {
   "cell_type": "markdown",
   "metadata": {},
   "source": [
    "### Exercício"
   ]
  },
  {
   "cell_type": "markdown",
   "metadata": {},
   "source": [
    "Escreva um programa que lê $n$ números inteiros do teclado, e no final informa se os números lidos estão ou não em ordem crescente.\n",
    "Dica: Use duas variáveis, uma que guarda o número lido na iteração atual, e uma que guarda o número lido na iteração anterior.\n",
    "Os números estarão ordenados se a condição (anterior <= atual) for válida durante a leitura de todos os números."
   ]
  },
  {
   "cell_type": "code",
   "execution_count": null,
   "metadata": {
    "code_folding": [
     0
    ]
   },
   "outputs": [],
   "source": [
    "# solução\n",
    "n = int(input(\"Digite o total de números:\"))\n",
    "anterior = int(input(\"Inicie a sequência:\"))\n",
    "i = 1 #leu um número\n",
    "ordenado = True\n",
    "while (i < n) and ordenado:\n",
    "    atual = int(input(\"continue:\"))\n",
    "    i += 1 #leu mais um número\n",
    "    if atual < anterior:\n",
    "        ordenado = False\n",
    "    anterior = atual\n",
    "if ordenado:\n",
    "    print(\"Sequência fornecida está ordenada\")\n",
    "else:\n",
    "    print(\"Sequência fornecida não está ordenada\")"
   ]
  },
  {
   "cell_type": "markdown",
   "metadata": {},
   "source": [
    "## Variáveis Contadoras"
   ]
  },
  {
   "cell_type": "markdown",
   "metadata": {},
   "source": [
    "Considere ainda o uso de laços para a verificação se um determinado objeto, ou conjunto de objetos, satisfaz uma propriedade ou não.\n",
    "Um outro padrão que pode ser útil é o uso de uma variável \\textbf{contadora}.\n",
    "\n",
    "- Esperamos que um objeto satisfaça $x$ vezes uma sub-propriedade. Usamos um laço e uma variável que conta o número de vezes que o objeto tem a sub-propriedade satisfeita.\n",
    "- Ao terminar o laço, se a variável contadora for igual à $x$ então o objeto satisfaz a propriedade."
   ]
  },
  {
   "cell_type": "markdown",
   "metadata": {},
   "source": [
    "Vamos revisitar o problema de determinar se um número $n$, inteiro, é primo ou não.\n",
    "Podemos usar uma variável que conta quantos números dividem $n$. Se o número de divisores for $0$, então n é primo."
   ]
  },
  {
   "cell_type": "code",
   "execution_count": null,
   "metadata": {
    "code_folding": [
     0
    ]
   },
   "outputs": [],
   "source": [
    "# solução\n",
    "n = int(input(\"Digite um número inteiro positivo:\"))\n",
    "div = 2\n",
    "divisores = 0\n",
    "while div <= n-1:\n",
    "    if n % div == 0:\n",
    "        divisores += 1\n",
    "        break\n",
    "    div += 1\n",
    "if divisores == 0:\n",
    "    print(\"É primo!!\")\n",
    "else:\n",
    "    print(\"Não é primo!!\")"
   ]
  },
  {
   "cell_type": "markdown",
   "metadata": {},
   "source": [
    "### Questões"
   ]
  },
  {
   "cell_type": "markdown",
   "metadata": {},
   "source": [
    "1. No exemplo dos números primos não precisamos testar todos os números entre $2, . . . , n − 1$, para verificar se dividem ou não $n$. Basta testarmos até $n/2$. Por que? Qual o maior divisor possível de $n$?\n",
    "\n",
    "2. Na verdade basta testarmos os números $2, . . . , \\sqrt{n}$. Por que?"
   ]
  },
  {
   "cell_type": "markdown",
   "metadata": {},
   "source": [
    "## Strings e laços"
   ]
  },
  {
   "cell_type": "markdown",
   "metadata": {},
   "source": [
    "Os dois trechos de código abaixo iteram sobre um string e produzem o mesmo resultado. No entanto, o segundo é considerado mais \"pythonico\", isto é, mais elegante, mais \"clean\":"
   ]
  },
  {
   "cell_type": "code",
   "execution_count": 3,
   "metadata": {},
   "outputs": [],
   "source": [
    "s = \"abcdefgh\"\n",
    "\n",
    "for index in range(len(s)):\n",
    "    if s[index] == 'i' or s[index] == 'u':\n",
    "        print(\"There is an i or u\")\n",
    "        \n",
    "for char in s:\n",
    "    if char == 'i' or char == 'u':\n",
    "        print(\"There is an i or u\")"
   ]
  },
  {
   "cell_type": "markdown",
   "metadata": {},
   "source": [
    "### Exercício: Letras em comum.\n",
    "Conte o número de letras em comum entre duas strings. Use a bultin `isalpha` para\n",
    "descobrir se um caracter é letra ou não. Ex.:\n",
    "```python\n",
    "x = \"A\"\n",
    "x.isalpha() == true\n",
    "y = \"3\"\n",
    "y.isaplha() == false\n",
    "```"
   ]
  },
  {
   "cell_type": "code",
   "execution_count": null,
   "metadata": {
    "code_folding": [
     3
    ]
   },
   "outputs": [],
   "source": [
    "s1 = \"Unicamp u rock\"\n",
    "s2 = \"I rule Unicamp\"\n",
    "common = 0\n",
    "for char1 in s1:\n",
    "    if char1.isalpha():\n",
    "        for char2 in s2:\n",
    "            if char2 == char1:\n",
    "                common = common + 1\n",
    "                break\n",
    "print(\"common letters: \", common)"
   ]
  }
 ],
 "metadata": {
  "kernelspec": {
   "display_name": "Python 3",
   "language": "python",
   "name": "python3"
  },
  "language_info": {
   "codemirror_mode": {
    "name": "ipython",
    "version": 3
   },
   "file_extension": ".py",
   "mimetype": "text/x-python",
   "name": "python",
   "nbconvert_exporter": "python",
   "pygments_lexer": "ipython3",
   "version": "3.6.4"
  },
  "latex_envs": {
   "LaTeX_envs_menu_present": true,
   "autoclose": false,
   "autocomplete": true,
   "bibliofile": "biblio.bib",
   "cite_by": "apalike",
   "current_citInitial": 1,
   "eqLabelWithNumbers": true,
   "eqNumInitial": 1,
   "hotkeys": {
    "equation": "Ctrl-E",
    "itemize": "Ctrl-I"
   },
   "labels_anchors": false,
   "latex_user_defs": false,
   "report_style_numbering": false,
   "user_envs_cfg": false
  },
  "toc": {
   "nav_menu": {},
   "number_sections": true,
   "sideBar": true,
   "skip_h1_title": false,
   "toc_cell": true,
   "toc_position": {
    "height": "565px",
    "left": "0px",
    "right": "1068px",
    "top": "111px",
    "width": "212px"
   },
   "toc_section_display": "block",
   "toc_window_display": false
  }
 },
 "nbformat": 4,
 "nbformat_minor": 1
}
