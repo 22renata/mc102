{
 "cells": [
  {
   "cell_type": "markdown",
   "metadata": {
    "slideshow": {
     "slide_type": "skip"
    },
    "toc": true
   },
   "source": [
    "<h1>Table of Contents<span class=\"tocSkip\"></span></h1>\n",
    "<div class=\"toc\" style=\"margin-top: 1em;\"><ul class=\"toc-item\"><li><span><a href=\"#Busca-Sequêncial-e-Binárias\" data-toc-modified-id=\"Busca-Sequêncial-e-Binárias-1\"><span class=\"toc-item-num\">1&nbsp;&nbsp;</span>Busca Sequêncial e Binárias</a></span><ul class=\"toc-item\"><li><span><a href=\"#Busca-pelo-Mínimo\" data-toc-modified-id=\"Busca-pelo-Mínimo-1.1\"><span class=\"toc-item-num\">1.1&nbsp;&nbsp;</span>Busca pelo Mínimo</a></span></li><li><span><a href=\"#Busca-Linear-ou-Sequencial\" data-toc-modified-id=\"Busca-Linear-ou-Sequencial-1.2\"><span class=\"toc-item-num\">1.2&nbsp;&nbsp;</span>Busca Linear ou Sequencial</a></span></li></ul></li><li><span><a href=\"#Busca-Binária-em-uma-Lista\" data-toc-modified-id=\"Busca-Binária-em-uma-Lista-2\"><span class=\"toc-item-num\">2&nbsp;&nbsp;</span>Busca Binária em uma Lista</a></span></li><li><span><a href=\"#Exercício\" data-toc-modified-id=\"Exercício-3\"><span class=\"toc-item-num\">3&nbsp;&nbsp;</span>Exercício</a></span></li></ul></div>"
   ]
  },
  {
   "cell_type": "markdown",
   "metadata": {
    "slideshow": {
     "slide_type": "slide"
    }
   },
   "source": [
    "# Busca Sequêncial e Binárias\n",
    "\n",
    "Um algoritmo de busca é um método para encontrar um item ou grupo de itens com propriedades específicas dentro de uma coleção de itens. Nós nos referimos à coleção de itens como um espaço de pesquisa. O espaço de busca pode ser algo concreto, como um conjunto de registros médicos, ou algo abstrato, como o conjunto de números inteiros. Um grande número de problemas que ocorrem na prática podem ser formulados como problemas de busca."
   ]
  },
  {
   "cell_type": "markdown",
   "metadata": {
    "slideshow": {
     "slide_type": "slide"
    }
   },
   "source": [
    "Vamos estudar dois algoritmos comumente usados em buscas. Em primeiro lugar, discutiremos o projeto do algoritmo, mostramos sua implementação como uma função de Python e, finalmente, fornecemos uma análise da complexidade computacional do mesmo. Para manter as coisas simples, as funções de busca irão processar uma lista de números inteiros. Listas de diferentes tamanhos podem ser passadas como parâmetros para as mesmas. "
   ]
  },
  {
   "cell_type": "markdown",
   "metadata": {
    "slideshow": {
     "slide_type": "slide"
    }
   },
   "source": [
    "## Busca pelo Mínimo"
   ]
  },
  {
   "cell_type": "markdown",
   "metadata": {
    "slideshow": {
     "slide_type": "fragment"
    }
   },
   "source": [
    "A função `min` de Python retorna o item mínimo ou menor em uma lista. Para estudar a complexidade desse algoritmo, vamos desenvolver uma versão alternativa que retorna a posição do item mínimo. O algoritmo assume que a lista não está vazia e que os itens estão em ordem arbitrária. O algoritmo começa tratando a primeira posição como a do item mínimo. Em seguida, procura à direita por um item menor e, se for encontrado, restabelece a posição do item mínimo para a posição atual. Quando o algoritmo atinge o final da lista, ele retorna a posição do item mínimo. Eis o código do algoritmo:"
   ]
  },
  {
   "cell_type": "code",
   "execution_count": 1,
   "metadata": {
    "slideshow": {
     "slide_type": "slide"
    }
   },
   "outputs": [],
   "source": [
    "def ourMin(lst):\n",
    "    \"\"\"Returns the position of the minimum item.\"\"\"\n",
    "    minpos = 0\n",
    "    current = 1\n",
    "    while current < len(lst):\n",
    "        if lst[current] < lst[minpos]:\n",
    "            minpos = current\n",
    "        current += 1\n",
    "    return minpos"
   ]
  },
  {
   "cell_type": "code",
   "execution_count": null,
   "metadata": {
    "slideshow": {
     "slide_type": "fragment"
    }
   },
   "outputs": [],
   "source": [
    "ourMin([3, 4, 8, 1, 9, 2, 7, 6])"
   ]
  },
  {
   "cell_type": "markdown",
   "metadata": {
    "slideshow": {
     "slide_type": "slide"
    }
   },
   "source": [
    "Como você pode ver, há três instruções fora do laço que executam o mesmo número de vezes, independentemente do tamanho da lista. Assim, podemos descontá-los. Dentro do laço, encontramos mais três instruções. Destes, a comparação na instrução \\textbf{if} e o incremento de execução atual em cada passagem pelo laço. Não há laços aninhados nestas instruções. Este algoritmo deve visitar todos os itens da lista para garantir que localizou a posição do item mínimo. Assim, o algoritmo deve fazer $n-1$ comparações para uma lista de tamanho $n$. Portanto, a complexidade do algoritmo é $\\large{O}$($n$)."
   ]
  },
  {
   "cell_type": "markdown",
   "metadata": {
    "slideshow": {
     "slide_type": "slide"
    }
   },
   "source": [
    "## Busca Linear ou Sequencial"
   ]
  },
  {
   "cell_type": "markdown",
   "metadata": {
    "slideshow": {
     "slide_type": "fragment"
    }
   },
   "source": [
    "O operador `in` de Python procura por um item específico (vamos chamá-lo de item chave ou apenas chave) dentro de uma lista de itens organizados de forma arbitraria. Nessa lista, a única maneira de procurar um item de destino é começar com o item na primeira posição e compará-lo com a chave. Se os itens forem iguais, o método retornará `True`. Caso contrário, o método passa para a próxima posição e compara os itens novamente. Se o método chegar na última posição e ainda não encontrar a chave, ele retorna `False`. Esse tipo de pesquisa é chamado de busca seqüencial ou de busca linear. Uma função de pesquisa linear mais útil retornaria o índice de uma chave se for encontrado, ou -1 caso contrário. Aqui está o código Python para uma função de busca linear:"
   ]
  },
  {
   "cell_type": "code",
   "execution_count": 23,
   "metadata": {
    "slideshow": {
     "slide_type": "slide"
    }
   },
   "outputs": [],
   "source": [
    "def linearSearch(key, lst):\n",
    "    \"\"\"Returns the position of the key item if found,\n",
    "       or -1 otherwise.\"\"\"\n",
    "    position = 0\n",
    "    while position < len(lst):\n",
    "        if key == lst[position]:\n",
    "            return position\n",
    "        position += 1\n",
    "    return -1"
   ]
  },
  {
   "cell_type": "code",
   "execution_count": null,
   "metadata": {
    "slideshow": {
     "slide_type": "fragment"
    }
   },
   "outputs": [],
   "source": [
    "linearSearch(3, [1, 5, 8, 2, 9, 3, 6, 4, 0])"
   ]
  },
  {
   "cell_type": "markdown",
   "metadata": {
    "slideshow": {
     "slide_type": "slide"
    }
   },
   "source": [
    "# Busca Binária em uma Lista\n",
    "\n",
    "A busca linear é necessária para dados que não estão organizados em uma ordem específica. Ao pesquisar dados ordenados, podemos usar uma pesquisa binária."
   ]
  },
  {
   "cell_type": "markdown",
   "metadata": {
    "slideshow": {
     "slide_type": "slide"
    }
   },
   "source": [
    "Para entender como uma pesquisa binária funciona, pense no que acontece quando você procura uma palavra em um dicionário. Os dados em um dicionário estão organizados em ordem alfabética, então você não faz uma pesquisa sequencial. Em vez disso, você estima a posição alfabética da palavra que você deseja encontrar no dicionário e abre o livro o mais próximo possível dessa posição. Depois de abrir o livro, você determina se a palavra em questão reside, em termos alfabéticos, em uma página anterior ou na página posterior, e volta a pesquisar as páginas conforme necessário. Você repete esse processo até encontrar a palavra."
   ]
  },
  {
   "cell_type": "markdown",
   "metadata": {
    "slideshow": {
     "slide_type": "slide"
    }
   },
   "source": [
    "Agora vamos considerar um exemplo de uma pesquisa binária em Python. Para começar, vamos assumir que os itens da nossa lista de números estão classificados em ordem crescente. O algoritmo de busca vai diretamente para a posição intermediária na lista e compara o item nessa posição com a chave. Se houver uma correspondência, o algoritmo retorna a posição. Caso contrário, se a chave for menor do que o item atual, o algoritmo busca a parte da lista antes da posição intermediária. Se a chave for maior que o item atual, o algoritmo busca a parte da lista após a posição do meio. O processo de busca pára quando a chave é encontrado ou a posição de início atual é maior que a posição final atual."
   ]
  },
  {
   "cell_type": "markdown",
   "metadata": {
    "slideshow": {
     "slide_type": "slide"
    }
   },
   "source": [
    "Aqui está o código para a função de busca binária:"
   ]
  },
  {
   "cell_type": "code",
   "execution_count": 25,
   "metadata": {
    "slideshow": {
     "slide_type": "fragment"
    }
   },
   "outputs": [],
   "source": [
    "def binarySearch(key, lst):\n",
    "    left = 0\n",
    "    right = len(lst) - 1\n",
    "    while left <= right:\n",
    "        midpoint = (left + right) // 2\n",
    "        if key == lst[midpoint]:\n",
    "            return midpoint\n",
    "        elif key < lst[midpoint]:\n",
    "            right = midpoint - 1\n",
    "        else:\n",
    "            left = midpoint + 1\n",
    "    return -1"
   ]
  },
  {
   "cell_type": "code",
   "execution_count": null,
   "metadata": {
    "slideshow": {
     "slide_type": "fragment"
    }
   },
   "outputs": [],
   "source": [
    "from random import randint\n",
    "\n",
    "lst = [x * 2 for x in range(50)]\n",
    "key = randint(0, 100)\n",
    "print(key)\n",
    "binarySearch(key, lst)"
   ]
  },
  {
   "cell_type": "markdown",
   "metadata": {
    "slideshow": {
     "slide_type": "slide"
    }
   },
   "source": [
    "Há apenas um laço sem laços aninhados. Mais uma vez, o pior caso ocorre quando a chave não está na lista. Quantas vezes o laço é executado neste caso? Iste será igual ao número de vezes que o tamanho da lista pode ser dividido por $2$ até o quociente ser $1$. Para uma lista de tamanho $n$, você essencialmente realiza a redução $n/2$ $/2$ . . . $/2$ até que o resultado seja $1$. Seja $k$ o número de vezes que dividimos $n$ por $2$. Para resolver $k$, você tem $n/2^k = 1$, então $n = 2^k$ e $k = log_{2}n$. Assim, a complexidade do pior caso da pesquisa binária é $\\large{O}$ ($log_{2}n$)."
   ]
  },
  {
   "cell_type": "markdown",
   "metadata": {
    "slideshow": {
     "slide_type": "slide"
    }
   },
   "source": [
    "No exemplo abaixo:"
   ]
  },
  {
   "cell_type": "markdown",
   "metadata": {
    "slideshow": {
     "slide_type": "fragment"
    }
   },
   "source": [
    "![Bsearch](img/bsearch.png)"
   ]
  },
  {
   "cell_type": "markdown",
   "metadata": {
    "slideshow": {
     "slide_type": "slide"
    }
   },
   "source": [
    "são necessários $3$ comparações para encontrar o número $57$, enquanto na busca sequencial são necessários $5$ comparações. Esse algoritmo funciona melhor à medida que o tamanho do problema aumenta. Nossa lista de $15$ itens requer no máximo $4$ comparações, enquanto que uma lista de $1.000.000$ de itens requer, no máximo, apenas $20$ comparações!"
   ]
  },
  {
   "cell_type": "markdown",
   "metadata": {
    "slideshow": {
     "slide_type": "slide"
    }
   },
   "source": [
    "# Exercício"
   ]
  },
  {
   "cell_type": "markdown",
   "metadata": {
    "slideshow": {
     "slide_type": "fragment"
    }
   },
   "source": [
    "Refaça as funções de busca sequencial e busca binária assumindo que a lista possui chaves que podem aparecer repetidas. Neste caso, você deve retornar uma lista com todas as posições onde a chave foi encontrada. Se a chave só aparece uma vez, a lista conterá apenas um indice. E se a chave não aparece, as funções devem retornar a lista vazia."
   ]
  }
 ],
 "metadata": {
  "kernelspec": {
   "display_name": "Python 3",
   "language": "python",
   "name": "python3"
  },
  "language_info": {
   "codemirror_mode": {
    "name": "ipython",
    "version": 3
   },
   "file_extension": ".py",
   "mimetype": "text/x-python",
   "name": "python",
   "nbconvert_exporter": "python",
   "pygments_lexer": "ipython3",
   "version": "3.6.4"
  },
  "latex_envs": {
   "LaTeX_envs_menu_present": true,
   "autoclose": false,
   "autocomplete": true,
   "bibliofile": "biblio.bib",
   "cite_by": "apalike",
   "current_citInitial": 1,
   "eqLabelWithNumbers": true,
   "eqNumInitial": 1,
   "hotkeys": {
    "equation": "Ctrl-E",
    "itemize": "Ctrl-I"
   },
   "labels_anchors": false,
   "latex_user_defs": false,
   "report_style_numbering": false,
   "user_envs_cfg": false
  },
  "livereveal": {
   "theme": "sky",
   "transition": "slide"
  },
  "toc": {
   "nav_menu": {},
   "number_sections": true,
   "sideBar": true,
   "skip_h1_title": false,
   "toc_cell": true,
   "toc_position": {},
   "toc_section_display": "block",
   "toc_window_display": false
  }
 },
 "nbformat": 4,
 "nbformat_minor": 2
}
