{
 "cells": [
  {
   "cell_type": "markdown",
   "metadata": {},
   "source": [
    "# Arrays multidimensionais (Matrizes)"
   ]
  },
  {
   "cell_type": "markdown",
   "metadata": {},
   "source": [
    "Muitas vezes na Ciência a informação é organizada em linhas e colunas, formando\n",
    "agrupamentos retangulares denominados matrizes. Com frequência, essas matrizes\n",
    "aparecem como tabelas de dados numéricos que surgem em observações físicas, mas\n",
    "também ocorrem em vários contextos matemáticos. Por exemplo, toda informação\n",
    "necessária para resolver um sistema de equações tal como\n",
    "$$5x + y = 3\\\\ 2x - y = 4$$\n",
    "\n",
    "está encorpada na matriz\n",
    "$$\\left\\lgroup \\matrix{5 & 1 & 3\\cr 2 & -1 & 4} \\right\\rgroup$$\n",
    "\n",
    "e que a solução do sistema pode ser obtida efetuando operações apropriadas nessa\n",
    "matriz. Isto é particularmente importante no desenvolvimento de programas de\n",
    "computador para resolver sistemas de equações lineares dentre outras várias\n",
    "aplicações científicas. "
   ]
  },
  {
   "cell_type": "markdown",
   "metadata": {},
   "source": [
    "Nós vimos que podemos representar arrays multidimensionais em Python usando listas aninhadas. Por exemplo, para criar um array de dimensões $d_{1} × d_{2} . . . × d_{k}$ inicialmente vazio podemos utilizar compreensão de listas:\n",
    "\n",
    "$$[[[[]\\ for\\ i_{k-1}\\ in\\ range(d_{k-1})]...]\\ for\\ i_{2}\\ in\\ range(d_{2})]\\ for\\ i_{1}\\ in\\ range(d_{1})]$$"
   ]
  },
  {
   "cell_type": "markdown",
   "metadata": {},
   "source": [
    "Abaixo, um exemplo de um array de dimensões $3 × 4 × 5$, com todos os elementos iguais a zero:"
   ]
  },
  {
   "cell_type": "code",
   "execution_count": 3,
   "metadata": {},
   "outputs": [
    {
     "data": {
      "text/plain": [
       "[[[0, 0, 0, 0, 0], [0, 0, 0, 0, 0], [0, 0, 0, 0, 0], [0, 0, 0, 0, 0]],\n",
       " [[0, 0, 0, 0, 0], [0, 0, 0, 0, 0], [0, 0, 0, 0, 0], [0, 0, 0, 0, 0]],\n",
       " [[0, 0, 0, 0, 0], [0, 0, 0, 0, 0], [0, 0, 0, 0, 0], [0, 0, 0, 0, 0]]]"
      ]
     },
     "execution_count": 3,
     "metadata": {},
     "output_type": "execute_result"
    }
   ],
   "source": [
    "mat = [ [ [0 for j in range(5)] for j in range(4) ] for i in range(3) ]\n",
    "mat"
   ]
  },
  {
   "cell_type": "markdown",
   "metadata": {},
   "source": [
    "## Exercício:\n",
    "\n",
    "Criar um conjunto de funções para realizar as operações básicas sobre matrizes quadradas:\n",
    "\n",
    "- Soma de 2 matrizes de dimensões $n × n$.\n",
    "- Subtração de 2 matrizes de dimensões $n × n$.\n",
    "- Cálculo da transposta de uma matriz de dimensão $n × n$.\n",
    "- Multiplicação de 2 matrizes com dimensões $n × n$."
   ]
  },
  {
   "cell_type": "markdown",
   "metadata": {},
   "source": [
    "**Dicas**:\n",
    "\n",
    "- Na soma de matrizes quadradas, para cada posição (i,j) fazemos\n",
    "\n",
    "$$mat_{3}[i][j] = mat_{1}[i][j] + mat_{2}[i][j]$$ \n",
    "\n",
    "- Na multiplicação de matrizes fazemos\n",
    "\n",
    "$$mat_{3}[i][j] = \\sum_{k = 0}^{n-1} mat_{1}[i][k] * mat_{2}[k][j]$$"
   ]
  },
  {
   "cell_type": "markdown",
   "metadata": {},
   "source": [
    "## Biblioteca Numpy"
   ]
  },
  {
   "cell_type": "markdown",
   "metadata": {},
   "source": [
    "Listas não é a estrutura de dados mais adequada para operações com matrizes. Python possui uma biblioteca, chamada NumPy (Numerical Python), que contém tipos para representar vetores e matrizes juntamente com diversas operações, dentre elas operações comuns de algebra linear e transformadas de Fourier. NumPy é implementado para trazer maior eficiência do código em Python para aplicações científicas."
   ]
  },
  {
   "cell_type": "code",
   "execution_count": null,
   "metadata": {},
   "outputs": [],
   "source": []
  }
 ],
 "metadata": {
  "kernelspec": {
   "display_name": "Python 3",
   "language": "python",
   "name": "python3"
  },
  "language_info": {
   "codemirror_mode": {
    "name": "ipython",
    "version": 3
   },
   "file_extension": ".py",
   "mimetype": "text/x-python",
   "name": "python",
   "nbconvert_exporter": "python",
   "pygments_lexer": "ipython3",
   "version": "3.6.4"
  },
  "latex_envs": {
   "LaTeX_envs_menu_present": true,
   "autoclose": false,
   "autocomplete": true,
   "bibliofile": "biblio.bib",
   "cite_by": "apalike",
   "current_citInitial": 1,
   "eqLabelWithNumbers": true,
   "eqNumInitial": 1,
   "hotkeys": {
    "equation": "Ctrl-E",
    "itemize": "Ctrl-I"
   },
   "labels_anchors": false,
   "latex_user_defs": false,
   "report_style_numbering": false,
   "user_envs_cfg": false
  },
  "toc": {
   "nav_menu": {},
   "number_sections": true,
   "sideBar": true,
   "skip_h1_title": false,
   "toc_cell": false,
   "toc_position": {},
   "toc_section_display": "block",
   "toc_window_display": false
  }
 },
 "nbformat": 4,
 "nbformat_minor": 2
}
