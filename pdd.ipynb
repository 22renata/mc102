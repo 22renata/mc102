{
 "cells": [
  {
   "cell_type": "markdown",
   "metadata": {
    "slideshow": {
     "slide_type": "slide"
    }
   },
   "source": [
    "$\\Large{Plano\\ de\\ Desenvolvimento\\ MC102}$\n",
    "\n",
    "$\\large{Turmas\\ GHIJ}$\n",
    "\n",
    "$\\large{Prof.:\\ Marcio\\ Machado\\ Pereira}$ (email: mpereira@ic.unicamp.br)\n",
    "\n",
    "$Primeiro\\ Semestre\\ de\\ 2018$"
   ]
  },
  {
   "cell_type": "markdown",
   "metadata": {
    "slideshow": {
     "slide_type": "slide"
    }
   },
   "source": [
    "$\\Large{Informações\\ Básicas}$\n",
    "\n",
    "- Carga horária da disciplina\n",
    "  \n",
    "  -  Duração: 90 horas\n",
    "  -  Distribuição semanal\n",
    "    -  Quatro horas de aulas teóricas\n",
    "    -  Duas horas de aulas de laboratório\n",
    "  -  Frequência mínima: 75%. Veja o [Regimento Geral de Graduação](https://www.dac.unicamp.br/portal/graduacao/regimento-geral)"
   ]
  },
  {
   "cell_type": "markdown",
   "metadata": {
    "slideshow": {
     "slide_type": "slide"
    }
   },
   "source": [
    "  - Página web da disciplina\n",
    "    [http://www.ic.unicamp.br/~mc102]\n",
    "       \n",
    "  - Páginas web específica para as turmas GHIJ\n",
    "    [https://iviarcio.wordpress.com/]\n",
    "        \n",
    "  -  E-mails encaminhados ao endereço fornecido pela DAC\n",
    "    \n",
    "   -  Fique atento(a)!\n",
    "    "
   ]
  },
  {
   "cell_type": "markdown",
   "metadata": {
    "slideshow": {
     "slide_type": "slide"
    }
   },
   "source": [
    "\\textbf{Critério de Avaliação}\n",
    "\n",
    " -  Atividades conceituais\n",
    " -  Tarefas de laboratório\n",
    " -  Provas teóricas\n"
   ]
  },
  {
   "cell_type": "markdown",
   "metadata": {
    "slideshow": {
     "slide_type": "slide"
    }
   },
   "source": [
    "\\textbf{Atividades conceituais}\n",
    "  -  Visam indicar o \\textbf{grau de compreensão} dos conceitos básicos\n",
    "  -  Auxiliam a autorregulação do aprendizado\n",
    "  -  Questionários Online: \n",
    "    -  testes de múltipla escolha\n",
    "    -  podem ser realizados em laboratório ou em casa\n",
    "  -  Tarefas Presenciais:\n",
    "    -  realizadas em laboratório, sob supervisão\n",
    "    -  aguarde divulgação de datas e outras orientações\n",
    "  -  Ferramenta de apoio: Moodle"
   ]
  },
  {
   "cell_type": "markdown",
   "metadata": {
    "slideshow": {
     "slide_type": "slide"
    }
   },
   "source": [
    "\\textbf{Atividades conceituais -- Avaliação}\n",
    "  -  Proposta de $n$ atividades ao longo do semestre\n",
    "  -  Nota $AC_i$, $1 \\leq i \\leq n$, será proporcional ao número de questões respondidas pelo(a) aluno(a)\n",
    "  -  Questionários Online: Peso 1\n",
    "  -  Tarefas Presenciais: Peso 3\n",
    "  -  Média $M_{AC}$: média ponderada das atividades propostas"
   ]
  },
  {
   "cell_type": "markdown",
   "metadata": {
    "slideshow": {
     "slide_type": "slide"
    }
   },
   "source": [
    "\\textbf{Tarefas de laboratório}\n",
    "  -  Implementação de problemas em Python\n",
    "  -  Enunciado disponível na página da disciplina, com orientações, restrições e prazos\n",
    "  -  Auxílio ao desenvolvimento durante as aulas de laboratório    \n",
    "  -  Correção automática\n",
    "    -  Ferramenta de apoio: SuSy [https://susy.ic.unicamp.br:9999/mc102geral]\n",
    "    -  Testes abertos\n",
    "    -  Testes fechados"
   ]
  },
  {
   "cell_type": "markdown",
   "metadata": {
    "slideshow": {
     "slide_type": "slide"
    }
   },
   "source": [
    "\\textbf{Tarefas de laboratório -- Avaliação}\n",
    "  -  Proposta de $m$ tarefas\n",
    "  -  Nota $L_i$, $1 \\leq i \\leq m$, calculada de acordo com o estipulado no enunciado da tarefa $i$.\n",
    "  -  Peso $LP_i \\in \\{1,2,3\\}$\n",
    "  -  Média $M_{L}$: média ponderada das tarefas propostas "
   ]
  },
  {
   "cell_type": "markdown",
   "metadata": {
    "slideshow": {
     "slide_type": "slide"
    }
   },
   "source": [
    "\\textbf{Provas teóricas}\n",
    "\n",
    "| __Prova__\t| __Peso__ | __Data__ | __Horário__ |\n",
    "| :--:  | :--: | :--: | :--: |\n",
    "| $P_1$ |  2  | 19/abr\t| 10h - 12h |\n",
    "| $P_2$\t| 3  | 21/jun\t| 10h - 12h |\n",
    "\n",
    "  -  Individuais e sem consulta.\n",
    "  -  Média $M_{P}$: média ponderada das provas teóricas"
   ]
  },
  {
   "cell_type": "markdown",
   "metadata": {
    "slideshow": {
     "slide_type": "slide"
    }
   },
   "source": [
    "\\textbf{Critério de Avaliação}\n",
    "\n",
    "  \n",
    "   -  Média ponderada dos elementos:\n",
    "\n",
    "     - $M_{Elem}$ =  (0.6 * $M_{P}$) + (0.3 * $M_{L}$) + (0.1 * $M_{AC})$\n",
    "     - $M_P$: média ponderada das provas\n",
    "     - $M_L$: média ponderada das tarefas de laboratório\n",
    "     - $M_{AC}$: média ponderada das atividades conceituais\n",
    "  \n",
    "    \n",
    "   -  Média antes do exame:\n",
    "    \n",
    "    $M = min(M_{Elem}, M_{P}, M_{L})$\n"
   ]
  },
  {
   "cell_type": "markdown",
   "metadata": {
    "slideshow": {
     "slide_type": "slide"
    }
   },
   "source": [
    "- Média final $F$ e situação\n",
    "\n",
    "  Freq $\\geq 75\\%$:\n",
    "  \n",
    "  -  $M \\geq 5$: aprovação por nota e frequência com $F=M$\n",
    "    \n",
    "  -  $2.5 \\leq M < 5$:\n",
    "\n",
    "    -  exame $E$ no dia 12/jul das 10h - 12h\n",
    "    -  $F = \\displaystyle\\frac{M+E}{2}$\n",
    "    -  $F \\geq 5.0$: aprovação por nota e frequência,\n",
    "    -  $F < 5.0$: reprovação por nota\n",
    "\n",
    "  -  $M < 2.5$: reprovação por nota com $F = M$ \n",
    "  \n",
    "  Freq $< 75\\%$: reprovação por frequência com $F=M$"
   ]
  },
  {
   "cell_type": "markdown",
   "metadata": {
    "slideshow": {
     "slide_type": "slide"
    }
   },
   "source": [
    "- Observações\n",
    "\n",
    "    -  Nos dias de prova será necessária a apresentação de documento oficial com foto.\n",
    "    -  Não há possibilidade de troca de horário de provas e/ou do exame final.\n",
    "    -  Não haverá reposição de tarefas de laboratório.\n",
    "    -  Todas as tarefas são individuais.      \n",
    "    -  Qualquer tentativa de fraude implicará em nota $0$ (zero) na disciplina para \\textbf{todas} as pessoas envolvidas.\n",
    "    -  O sistema SuSy possui detector de plágio. "
   ]
  },
  {
   "cell_type": "markdown",
   "metadata": {
    "slideshow": {
     "slide_type": "slide"
    }
   },
   "source": [
    "\\textbf{Atendimento -- Equipe de monitores(as)}\n",
    "\n",
    "    -  PEDs: alunos(as) de pós-graduação\n",
    "      - Erick Ricardo Mattos\n",
    "      - Darwin Ttito Concha\n",
    "      - Javier Alvaro Vargas Muñoz\n",
    "      \n",
    "    -  PADs: alunos(as) de graduação\n",
    "      - Fernando Lucas Araújo Amaral\n",
    "      - Eduardo Hideki Kobaicy (S)\n",
    "      - Luana Moreira de Oliveira (S)\n",
    "\n",
    "  -  Atendimento durante as aulas de laboratório\n",
    "  -  Atendimento extra: veja página web da disciplina\n",
    "  -  Aulas extras de revisão: veja página web da disciplina"
   ]
  }
 ],
 "metadata": {
  "kernelspec": {
   "display_name": "Python 3",
   "language": "python",
   "name": "python3"
  },
  "language_info": {
   "codemirror_mode": {
    "name": "ipython",
    "version": 3
   },
   "file_extension": ".py",
   "mimetype": "text/x-python",
   "name": "python",
   "nbconvert_exporter": "python",
   "pygments_lexer": "ipython3",
   "version": "3.6.4"
  },
  "latex_envs": {
   "LaTeX_envs_menu_present": true,
   "autoclose": false,
   "autocomplete": true,
   "bibliofile": "biblio.bib",
   "cite_by": "apalike",
   "current_citInitial": 1,
   "eqLabelWithNumbers": true,
   "eqNumInitial": 1,
   "hotkeys": {
    "equation": "Ctrl-E",
    "itemize": "Ctrl-I"
   },
   "labels_anchors": false,
   "latex_user_defs": false,
   "report_style_numbering": false,
   "user_envs_cfg": false
  },
  "livereveal": {
   "theme": "blue",
   "transition": "slide"
  },
  "toc": {
   "nav_menu": {},
   "number_sections": true,
   "sideBar": true,
   "skip_h1_title": false,
   "toc_cell": false,
   "toc_position": {},
   "toc_section_display": "block",
   "toc_window_display": false
  }
 },
 "nbformat": 4,
 "nbformat_minor": 2
}
