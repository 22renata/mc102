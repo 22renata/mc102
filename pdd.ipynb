{
 "cells": [
  {
   "cell_type": "markdown",
   "metadata": {
    "slideshow": {
     "slide_type": "slide"
    }
   },
   "source": [
    "$\\Large{Plano\\ de\\ Desenvolvimento\\ MC102}$\n",
    "\n",
    "$\\large{Turmas\\ E-F-Q}$\n",
    "\n",
    "$\\large{Prof.:\\ Marcio\\ Machado\\ Pereira}$ (email: mpereira@ic.unicamp.br)\n",
    "\n",
    "$Segundo\\ Semestre\\ de\\ 2018$"
   ]
  },
  {
   "cell_type": "markdown",
   "metadata": {
    "slideshow": {
     "slide_type": "slide"
    }
   },
   "source": [
    "$\\Large{Informações\\ Básicas}$\n",
    "\n",
    "- Carga horária da disciplina\n",
    "  \n",
    "  -  Duração: 90 horas\n",
    "  -  Distribuição semanal\n",
    "    -  Quatro horas de aulas teóricas\n",
    "    -  Duas horas de aulas de laboratório\n",
    "  -  Frequência mínima: 75%. Veja o [Regimento Geral de Graduação](https://www.dac.unicamp.br/portal/graduacao/regimento-geral)"
   ]
  },
  {
   "cell_type": "markdown",
   "metadata": {
    "slideshow": {
     "slide_type": "slide"
    }
   },
   "source": [
    "  - Página web da disciplina\n",
    "    http://www.ic.unicamp.br/~mc102\n",
    "       \n",
    "  - Páginas web específica para as turmas E-F-Q\n",
    "    https://iviarcio.wordpress.com/mc102-2sem-2018/\n",
    "        \n",
    "  -  E-mails encaminhados ao endereço fornecido pela DAC\n",
    "    \n",
    "   -  Fique atento(a)!\n",
    "    "
   ]
  },
  {
   "cell_type": "markdown",
   "metadata": {
    "slideshow": {
     "slide_type": "slide"
    }
   },
   "source": [
    "\\textbf{Critério de Avaliação}\n",
    "\n",
    " -  Atividades conceituais\n",
    " -  Tarefas de laboratório\n",
    " -  Provas teóricas\n"
   ]
  },
  {
   "cell_type": "markdown",
   "metadata": {
    "slideshow": {
     "slide_type": "slide"
    }
   },
   "source": [
    "\\textbf{Atividades conceituais}\n",
    "  -  Visam indicar o \\textbf{grau de compreensão} dos conceitos básicos\n",
    "  -  Auxiliam a autorregulação do aprendizado\n",
    "  -  Questionários Online: \n",
    "    -  testes de múltipla escolha\n",
    "    -  podem ser realizados em laboratório ou em casa\n",
    "  -  Tarefas Presenciais:\n",
    "    -  realizadas em laboratório, sob supervisão\n",
    "    -  aguarde divulgação de datas e outras orientações\n",
    "  -  Ferramenta de apoio: Moodle http://www.ggte.unicamp.br/eam"
   ]
  },
  {
   "cell_type": "markdown",
   "metadata": {
    "slideshow": {
     "slide_type": "slide"
    }
   },
   "source": [
    "\\textbf{Atividades conceituais -- Avaliação}\n",
    "  -  Proposta de $n$ atividades ao longo do semestre\n",
    "  -  Nota $AC_i$, $1 \\leq i \\leq n$, será proporcional ao número de questões respondidas pelo(a) aluno(a)\n",
    "  -  Questionários Online: Peso 1\n",
    "  -  Tarefas Presenciais: Peso 3\n",
    "  -  Média $M_{AC}$: média ponderada das atividades propostas"
   ]
  },
  {
   "cell_type": "markdown",
   "metadata": {
    "slideshow": {
     "slide_type": "slide"
    }
   },
   "source": [
    "\\textbf{Tarefas de laboratório}\n",
    "  -  Implementação de problemas em Python\n",
    "  -  Enunciado disponível na página da disciplina, com orientações, restrições e prazos\n",
    "  -  Auxílio ao desenvolvimento durante as aulas de laboratório    \n",
    "  -  Correção automática\n",
    "    -  Ferramenta de apoio: SuSy https://susy.ic.unicamp.br:9999/mc102geral\n",
    "    -  Testes abertos\n",
    "    -  Testes fechados"
   ]
  },
  {
   "cell_type": "markdown",
   "metadata": {
    "slideshow": {
     "slide_type": "slide"
    }
   },
   "source": [
    "\\textbf{Tarefas de laboratório -- Avaliação}\n",
    "  -  Proposta de $m$ tarefas\n",
    "  -  Nota $L_i$, $1 \\leq i \\leq m$, calculada de acordo com o estipulado no enunciado da tarefa $i$.\n",
    "  -  Peso $LP_i \\in \\{1,2,3\\}$\n",
    "  -  Média $M_{L}$: média ponderada das tarefas propostas "
   ]
  },
  {
   "cell_type": "markdown",
   "metadata": {
    "slideshow": {
     "slide_type": "slide"
    }
   },
   "source": [
    "\\textbf{Provas teóricas}\n",
    "\n",
    "| __Prova__\t| __Peso__ | __Data__ | __Horário__ |\n",
    "| :--:  | :--: | :--: | :--: |\n",
    "| $P_1$ |  2  | 20/set\t| 10h - 12h |\n",
    "| $P_2$\t| 3  | 27/nov\t| 10h - 12h |\n",
    "\n",
    "  -  Individuais e sem consulta.\n",
    "  -  Média $M_{P}$: média ponderada das provas teóricas"
   ]
  },
  {
   "cell_type": "markdown",
   "metadata": {
    "slideshow": {
     "slide_type": "slide"
    }
   },
   "source": [
    "\\textbf{Critério de Avaliação}\n",
    "\n",
    "  \n",
    "   -  Média ponderada dos elementos:\n",
    "\n",
    "     - $M_{Elem}$ =  (0.6 * $M_{P}$) + (0.3 * $M_{L}$) + (0.1 * $M_{AC})$\n",
    "     - $M_P$: média ponderada das provas\n",
    "     - $M_L$: média ponderada das tarefas de laboratório\n",
    "     - $M_{AC}$: média ponderada das atividades conceituais"
   ]
  },
  {
   "cell_type": "markdown",
   "metadata": {
    "slideshow": {
     "slide_type": "slide"
    }
   },
   "source": [
    "- Média final $F$ e situação\n",
    "\n",
    "  Freq >= 75%:\n",
    "  \n",
    "  – Se $M_{P}$ >= 5.0 e $M_{L}$ >= 5.0:\n",
    "\n",
    "    ∗ O(A) aluno(a) estará aprovado(a) por nota e frequência com média final F = Max(5, $M_{Elem}$)\n",
    "    \n",
    "  – Se $M_{P}$ < 2.5 ou $M_{L}$ < 2.5:\n",
    "  \n",
    "    ∗ O(A) aluno(a) estará reprovado(a) por nota, com média final F = Min($M_{P}$, $M_{L}$ ).\n",
    "    \n",
    "  – Senão:\n",
    "  \n",
    "    ∗ O(A) aluno(a) deverá fazer o exame E, a ser realizado no dia 11 de dezembro, das 10h00–12h00.\n",
    "    \n",
    "    ∗ Será calculada a média pré-exame: $M_{Pre}$ = Min($M_{P}$, $M_{L}$)\n",
    "    \n",
    "    ∗ Sua média final será $F = \\displaystyle\\frac{M_{Pre}+E}{2}$\n",
    "    \n",
    "    ∗ Caso o(a) aluno(a) tenha obtido F ≥ 5.0 estará aprovado(a) por nota e frequência, caso contrário estará reprovado(a) por nota.\n",
    "\n",
    "  Freq < 75%:\n",
    "\n",
    "  – O(A) aluno(a) estará reprovado(a) por frequência, com média final F = Min($M_{P}$, $M_{L}$)."
   ]
  },
  {
   "cell_type": "markdown",
   "metadata": {
    "slideshow": {
     "slide_type": "slide"
    }
   },
   "source": [
    "- Observações\n",
    "\n",
    "    -  Nos dias de prova será necessária a apresentação de documento oficial com foto.\n",
    "    -  Não há possibilidade de troca de horário de provas e/ou do exame final.\n",
    "    -  Não haverá reposição de tarefas de laboratório.\n",
    "    -  Todas as tarefas são individuais.      \n",
    "    -  Qualquer tentativa de fraude implicará em nota $0$ (zero) na disciplina para \\textbf{todas} as pessoas envolvidas.\n",
    "    -  O sistema SuSy possui detector de plágio. "
   ]
  },
  {
   "cell_type": "markdown",
   "metadata": {
    "slideshow": {
     "slide_type": "slide"
    }
   },
   "source": [
    "\\textbf{Atendimento -- Equipe de monitores(as)}\n",
    "\n",
    "    -  PEDs: alunos(as) de pós-graduação\n",
    "      - Natanael Ramos\n",
    "      - Sergio Zumpano Arnosti\n",
    "      - Pedro Paulo Libório Lima do Nascimento\n",
    "      - Bruno Malveira Peixoto\n",
    "      \n",
    "    -  PADs: alunos(as) de graduação\n",
    "      - Renato Noronha Máximo\n",
    "      - ?\n",
    "\n",
    "  -  Atendimento durante as aulas de laboratório\n",
    "  -  Atendimento extra: veja página web da disciplina\n",
    "  -  Aulas extras de revisão: veja página web da disciplina"
   ]
  }
 ],
 "metadata": {
  "kernelspec": {
   "display_name": "Python 3",
   "language": "python",
   "name": "python3"
  },
  "language_info": {
   "codemirror_mode": {
    "name": "ipython",
    "version": 3
   },
   "file_extension": ".py",
   "mimetype": "text/x-python",
   "name": "python",
   "nbconvert_exporter": "python",
   "pygments_lexer": "ipython3",
   "version": "3.7.0"
  },
  "latex_envs": {
   "LaTeX_envs_menu_present": true,
   "autoclose": false,
   "autocomplete": true,
   "bibliofile": "biblio.bib",
   "cite_by": "apalike",
   "current_citInitial": 1,
   "eqLabelWithNumbers": true,
   "eqNumInitial": 1,
   "hotkeys": {
    "equation": "Ctrl-E",
    "itemize": "Ctrl-I"
   },
   "labels_anchors": false,
   "latex_user_defs": false,
   "report_style_numbering": false,
   "user_envs_cfg": false
  },
  "livereveal": {
   "theme": "blue",
   "transition": "slide"
  },
  "toc": {
   "nav_menu": {},
   "number_sections": true,
   "sideBar": true,
   "skip_h1_title": false,
   "toc_cell": false,
   "toc_position": {},
   "toc_section_display": "block",
   "toc_window_display": false
  }
 },
 "nbformat": 4,
 "nbformat_minor": 2
}
