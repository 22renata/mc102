{
 "cells": [
  {
   "cell_type": "markdown",
   "metadata": {},
   "source": [
    "# Funções"
   ]
  },
  {
   "cell_type": "markdown",
   "metadata": {},
   "source": [
    "## Como escrever código?"
   ]
  },
  {
   "cell_type": "markdown",
   "metadata": {},
   "source": [
    "- Até agora nós cobrimos alguns mecanismos da linguagem\n",
    "- Sabemos como escrever diferentes trechos de código para cada computação\n",
    "- Cada código é uma seqüência de instruções\n",
    "\n",
    "- Problemas com esta abordagem \n",
    " - fácil para problemas em pequena escala \n",
    " - complicado para problemas maiores\n",
    "  - difícil de acompanhar os detalhes\n",
    "  - como você sabe que a informação certa é fornecida à parte correta do código?"
   ]
  },
  {
   "cell_type": "markdown",
   "metadata": {},
   "source": [
    "## Decomposição e Abstração"
   ]
  },
  {
   "cell_type": "markdown",
   "metadata": {},
   "source": [
    "Uma linguagem de programação é mais do que apenas um meio para instruir um computador a executar tarefas. Ela também serve como um framework dentro do qual organizamos nossas idéias sobre processos computacionais. \n",
    "\n",
    "Quando escrevemos um programa, devemos prestar especial atenção aos meios que a linguagem oferece para combinar idéias simples para formar idéias mais complexas. Toda linguagem poderosa possui três desses mecanismos:\n",
    "\n",
    "- expressões e declarações primitivas, que representam os blocos de construção mais simples que a linguagem fornece,\n",
    "- meios de combinação, através dos quais os elementos compostos são construídos a partir de mais simples, e\n",
    "- meios de abstração, pelos quais elementos compostos podem ser nomeados e manipulados como unidades.\n",
    "\n",
    "Na programação, lidamos com dois tipos de elementos: funções e dados. (Em breve, descobriremos que eles realmente não são tão distintos.) Informalmente, os dados são coisas que queremos manipular, e as funções descrevem as regras para manipular os dados. Assim, qualquer linguagem de programação poderosa deve ser capaz de descrever dados primitivos e funções primitivas, além de ter alguns métodos para combinar e abstrair funções e dados."
   ]
  },
  {
   "cell_type": "markdown",
   "metadata": {},
   "source": [
    "- **Decomposição** é o mecanismo que usamos para \"dividir\" o código em pedaços ou módulos, destinados a serem reutilizados. Com isso mantemos o código coerente e organizado. Nesta aula nós vamos realizar a decomposição do programa com funções. Dentro de algumas aulas, nós iremos realizar a decomposição com o mecanismo de classes."
   ]
  },
  {
   "cell_type": "markdown",
   "metadata": {},
   "source": [
    "- **Abstração** é o mecanismo na qual nós \"escondemos\" trechos de código como se fosse uma \"caixa preta\". Nós não precisamos ver os detalhes do código, mas apenas conhecer sua interface (input & output)."
   ]
  },
  {
   "cell_type": "markdown",
   "metadata": {},
   "source": [
    "## Projetando funções"
   ]
  },
  {
   "cell_type": "markdown",
   "metadata": {},
   "source": [
    "As funções são um ingrediente essencial de todos os programas, grandes e\n",
    "pequenos, e servem como nosso mecanismo primário para expressar processos computacionais em uma linguagem de programação. Fundamentalmente, elas reforçam a idéia de que as funções são abstrações.\n",
    "\n",
    "- Cada função deve realizar exatamente um trabalho. Esse trabalho deve ser identificável com um nome curto e caracterizável em uma única linha de texto. As funções que executam vários trabalhos em seqüência devem ser divididas em múltiplas funções.\n",
    "- Se você se encontra copiando e colando um bloco de código, você provavelmente encontrou uma oportunidade para abstração funcional.\n",
    "\n",
    "Lembre-se que essas simples diretrizes melhoram a legibilidade do código,\n",
    "reduzem o número de erros e muitas vezes minimizam a quantidade total de código\n",
    "escrito. Descompactar uma tarefa complexa em funções concisas é uma habilidade\n",
    "que leva tempo para dominar. Felizmente, o Python oferece vários recursos para suportar seus esforços.\n"
   ]
  },
  {
   "cell_type": "markdown",
   "metadata": {},
   "source": [
    "Começamos examinando como expressar a idéia de \"quadrado de um número\".\n",
    "Podemos dizer: \"Para elevar um número ao quadrado, multiplicamos este número por si mesmo\".\n",
    "Isso é expresso em Python como:"
   ]
  },
  {
   "cell_type": "code",
   "execution_count": 3,
   "metadata": {},
   "outputs": [],
   "source": [
    "def square(x):\n",
    "    return x * x"
   ]
  },
  {
   "cell_type": "markdown",
   "metadata": {},
   "source": [
    "que define uma nova função que recebeu o nome `square`. Esta função definida pelo usuário não está integrada ao interpretador python. Representa a operação composta de multiplicar algo por si mesmo.\n",
    "O $x$ nesta definição é chamado de parâmetro formal, que fornece um nome para que um número seja multiplicado. A definição cria esta função definida pelo usuário e associa-a ao nome `square`.\n",
    "\n",
    "**Como definir uma função:** As definições de funções consistem em uma declaração com a construção `def` da linguagem e indica um <nome> e uma lista separada por vírgulas de <parâmetros formais>, além de uma declaração de retorno da função, presente no corpo da função, especificada pela expressão de retorno `return` da função, que é uma expressão a ser avaliada sempre que a função é aplicada:\n",
    "```python\n",
    "def <nome> (<parâmetros formais>):\n",
    "    return <expressão de retorno>\n",
    "```\n",
    "A expressão de retorno não é avaliada imediatamente; Ela é armazenada como parte da função recém-definida e avaliada somente quando a função é eventualmente aplicada. Se o usuário não especificar uma expressão de retorno, o python implicitamente retorna o valor `None` do tipo `NoneType`.\n",
    "\n",
    "Tendo definida a função `square`, podemos aplicá-la com uma expressão de chamada:"
   ]
  },
  {
   "cell_type": "code",
   "execution_count": null,
   "metadata": {},
   "outputs": [],
   "source": [
    "square(21)"
   ]
  },
  {
   "cell_type": "code",
   "execution_count": null,
   "metadata": {},
   "outputs": [],
   "source": [
    "square(2 + 5)"
   ]
  },
  {
   "cell_type": "code",
   "execution_count": null,
   "metadata": {},
   "outputs": [],
   "source": [
    "square(square(3))"
   ]
  },
  {
   "cell_type": "markdown",
   "metadata": {},
   "source": [
    "Nós também podemos usar a função square como um bloco de construção na definição de outras funções. Por exemplo, podemos definir facilmente uma função sum_squares que, com os dois números como argumentos, retorna a soma de seus quadrados:"
   ]
  },
  {
   "cell_type": "code",
   "execution_count": null,
   "metadata": {},
   "outputs": [],
   "source": [
    "def sum_squares(x, y):\n",
    "    return square(x) + square(y)"
   ]
  },
  {
   "cell_type": "code",
   "execution_count": null,
   "metadata": {},
   "outputs": [],
   "source": [
    "sum_squares(3, 4)"
   ]
  },
  {
   "cell_type": "markdown",
   "metadata": {},
   "source": [
    "## Documentação"
   ]
  },
  {
   "cell_type": "markdown",
   "metadata": {},
   "source": [
    "Uma definição de função geralmente inclui documentação que descreve a função, chamada docstring.\n",
    "Docstrings são convencionalmente inseridos entre três aspas duplas. A primeira linha descreve o objetivo da função em uma linha. As seguintes linhas podem descrever argumentos e esclarecer o comportamento da função:"
   ]
  },
  {
   "cell_type": "code",
   "execution_count": 5,
   "metadata": {},
   "outputs": [],
   "source": [
    "def pressure(v, t, n):\n",
    "    \"\"\"Compute the pressure in pascals of an ideal gas.\n",
    "\n",
    "    v -- volume of gas, in cubic meters\n",
    "    t -- absolute temperature in degrees kelvin\n",
    "    n -- particles of gas\n",
    "    \"\"\"\n",
    "    k = 1.38e-23  # Boltzmann's constant\n",
    "    return n * k * t / v"
   ]
  },
  {
   "cell_type": "markdown",
   "metadata": {},
   "source": [
    "Quando você chama o `help` com o nome de uma função como argumento, você vê sua docstring."
   ]
  },
  {
   "cell_type": "code",
   "execution_count": 6,
   "metadata": {},
   "outputs": [
    {
     "name": "stdout",
     "output_type": "stream",
     "text": [
      "Help on function pressure in module __main__:\n",
      "\n",
      "pressure(v, t, n)\n",
      "    Compute the pressure in pascals of an ideal gas.\n",
      "    \n",
      "    v -- volume of gas, in cubic meters\n",
      "    t -- absolute temperature in degrees kelvin\n",
      "    n -- particles of gas\n",
      "\n"
     ]
    }
   ],
   "source": [
    "help(pressure)"
   ]
  },
  {
   "cell_type": "markdown",
   "metadata": {},
   "source": [
    "# Escopo de Variáveis"
   ]
  },
  {
   "cell_type": "markdown",
   "metadata": {},
   "source": [
    "Nosso subconjunto de Python agora é complexo o suficiente para que o significado dos programas não seja óbvio. E se um parâmetro formal tiver o mesmo nome que uma função builtin? Duas funções podem compartilhar nomes sem confusão? Para resolver essas questões, devemos descrever os ambientes e  escopo de nomes com mais detalhes.\n",
    "\n",
    "Um ambiente em que uma expressão é avaliada consiste em uma seqüência de frames. Cada frame contém ligações (bindings), cada um dos quais associa um nome ao seu valor correspondente. Existe um único frame global. As instruções de atribuição (e importação) adicionam entradas ao primeiro frame do ambiente atual. Até agora, nosso ambiente consistiu apenas no frame global."
   ]
  },
  {
   "cell_type": "code",
   "execution_count": 2,
   "metadata": {},
   "outputs": [],
   "source": [
    "%load_ext tutormagic"
   ]
  },
  {
   "cell_type": "code",
   "execution_count": 3,
   "metadata": {},
   "outputs": [
    {
     "data": {
      "text/html": [
       "\n",
       "        <iframe\n",
       "            width=\"100%\"\n",
       "            height=\"350\"\n",
       "            src=\"http://pythontutor.com/iframe-embed.html#code=a%20%3D%201%0Ab%20%3D%20a%0Aa%20%3D%20a%20%2B%201%0Ac%20%3D%20a%20%2B%20b%0Aprint%28a%2C%20b%2C%20c%29&origin=opt-frontend.js&cumulative=false&heapPrimitives=true&textReferences=false&curInstr=0&&verticalStack=false&py=3&rawInputLstJSON=%5B%5D&codeDivWidth=50%25&codeDivHeight=100%25\"\n",
       "            frameborder=\"0\"\n",
       "            allowfullscreen\n",
       "        ></iframe>\n",
       "        "
      ],
      "text/plain": [
       "<IPython.lib.display.IFrame at 0x10360ed30>"
      ]
     },
     "metadata": {},
     "output_type": "display_data"
    }
   ],
   "source": [
    "%%tutor -l python3 --heapPrimitives\n",
    "a = 1\n",
    "b = a\n",
    "a = a + 1\n",
    "c = a + b\n",
    "print(a, b, c)"
   ]
  },
  {
   "cell_type": "markdown",
   "metadata": {},
   "source": [
    "Para avaliar uma expressão de chamada cujo operador vincula uma função definida pelo usuário, o interpretador Python segue um processo computacional. Tal como acontece com qualquer expressão de chamada, o interpretador avalia as expressões operador e operando e, em seguida, aplica a função vinculada aos argumentos resultantes.\n",
    "\n",
    "A aplicação de uma função definida pelo usuário apresenta um segundo frame local, que só é acessível a essa função. Para aplicar uma função definida pelo usuário para alguns argumentos, o interpretador:\n",
    "\n",
    "- Vincula os argumentos aos nomes dos parâmetros formais da função em um novo frame local.\n",
    "- Executa o corpo da função no ambiente que começa com este frame.\n",
    "\n",
    "O ambiente em que o corpo da função é avaliado consiste em dois frames: primeiro o frame local que contém ligações de parâmetros formais; segundo o frame global que contém todo o resto. Cada instância de um aplicativo de função possui seu próprio frame local independente."
   ]
  },
  {
   "cell_type": "code",
   "execution_count": 4,
   "metadata": {},
   "outputs": [
    {
     "data": {
      "text/html": [
       "\n",
       "        <iframe\n",
       "            width=\"100%\"\n",
       "            height=\"350\"\n",
       "            src=\"http://pythontutor.com/iframe-embed.html#code=def%20square%28x%29%3A%0A%20%20%20%20return%20x%20%2A%20x%0A%0Adef%20sum_squares%28x%2C%20y%29%3A%0A%20%20%20%20return%20square%28x%29%20%2B%20square%28y%29%0A%0Aresult%20%3D%20sum_squares%285%2C%2012%29&origin=opt-frontend.js&cumulative=false&heapPrimitives=true&textReferences=false&curInstr=0&&verticalStack=false&py=3&rawInputLstJSON=%5B%5D&codeDivWidth=50%25&codeDivHeight=100%25\"\n",
       "            frameborder=\"0\"\n",
       "            allowfullscreen\n",
       "        ></iframe>\n",
       "        "
      ],
      "text/plain": [
       "<IPython.lib.display.IFrame at 0x103619a58>"
      ]
     },
     "metadata": {},
     "output_type": "display_data"
    }
   ],
   "source": [
    "%%tutor -l python3 --heapPrimitives\n",
    "def square(x):\n",
    "    return x * x\n",
    "\n",
    "def sum_squares(x, y):\n",
    "    return square(x) + square(y)\n",
    "\n",
    "result = sum_squares(5, 12)"
   ]
  },
  {
   "cell_type": "markdown",
   "metadata": {},
   "source": [
    "O parâmetro formal é vinculado ao valor do parâmetro real quando a função é chamada. Um novo frame é \n",
    "criado quando entramos em uma função. O escopo nada mais é que o mapeamento de nomes para objetos.\n",
    "Dentro de uma função, para poder acessar uma variável definida externamente, temos que marcá-la como global, mas isto é altamente desaconselhável pois a execução de suas funções passam a ter efeitos colaterais que não ficam mais restritos aos parâmetros e valores de retorno."
   ]
  },
  {
   "cell_type": "code",
   "execution_count": 3,
   "metadata": {},
   "outputs": [
    {
     "data": {
      "text/html": [
       "\n",
       "        <iframe\n",
       "            width=\"100%\"\n",
       "            height=\"350\"\n",
       "            src=\"http://pythontutor.com/iframe-embed.html#code=def%20f%28x%29%3A%0A%20%20%20%20x%20%3D%20x%20%2B%201%0A%20%20%20%20return%20x%0A%0Ax%20%3D%203%0Az%20%3D%20f%28x%29%0Aprint%28x%2C%20z%29&origin=opt-frontend.js&cumulative=false&heapPrimitives=true&textReferences=false&curInstr=0&&verticalStack=false&py=3&rawInputLstJSON=%5B%5D&codeDivWidth=50%25&codeDivHeight=100%25\"\n",
       "            frameborder=\"0\"\n",
       "            allowfullscreen\n",
       "        ></iframe>\n",
       "        "
      ],
      "text/plain": [
       "<IPython.lib.display.IFrame at 0x105ebe7b8>"
      ]
     },
     "metadata": {},
     "output_type": "display_data"
    }
   ],
   "source": [
    "%%tutor -l python3 --heapPrimitives\n",
    "def f(x):\n",
    "    x = x + 1\n",
    "    return x\n",
    "\n",
    "x = 3\n",
    "z = f(x)\n",
    "print(x, z)"
   ]
  },
  {
   "cell_type": "code",
   "execution_count": 4,
   "metadata": {},
   "outputs": [
    {
     "data": {
      "text/html": [
       "\n",
       "        <iframe\n",
       "            width=\"100%\"\n",
       "            height=\"350\"\n",
       "            src=\"http://pythontutor.com/iframe-embed.html#code=def%20f%28y%29%3A%0A%20%20%20%20x%20%3D%201%0A%20%20%20%20x%20%3D%20x%20%2B%201%0A%20%20%20%20return%20x%0A%0Ax%20%3D%203%0Az%20%3D%20f%28x%29%0Aprint%20%28x%2C%20z%29&origin=opt-frontend.js&cumulative=false&heapPrimitives=true&textReferences=false&curInstr=0&&verticalStack=false&py=3&rawInputLstJSON=%5B%5D&codeDivWidth=50%25&codeDivHeight=100%25\"\n",
       "            frameborder=\"0\"\n",
       "            allowfullscreen\n",
       "        ></iframe>\n",
       "        "
      ],
      "text/plain": [
       "<IPython.lib.display.IFrame at 0x105ebe588>"
      ]
     },
     "metadata": {},
     "output_type": "display_data"
    }
   ],
   "source": [
    "%%tutor -l python3 --heapPrimitives\n",
    "def g(y):\n",
    "    x = 1\n",
    "    x = x + 1\n",
    "    return x\n",
    "\n",
    "x = 3\n",
    "z = g(x)\n",
    "print (x, z)"
   ]
  },
  {
   "cell_type": "code",
   "execution_count": 8,
   "metadata": {},
   "outputs": [
    {
     "data": {
      "text/html": [
       "\n",
       "        <iframe\n",
       "            width=\"100%\"\n",
       "            height=\"350\"\n",
       "            src=\"http://pythontutor.com/iframe-embed.html#code=def%20h%28y%29%3A%0A%20%20%20%20global%20x%0A%20%20%20%20x%20%3D%20x%20%2B%201%20%20%20%23%20UnboundLocalError%3A%20local%20variable%20%27x%27%20referenced%20before%20assignment%0A%20%20%20%20return%20x%0A%0Ax%20%3D%203%0Az%20%3D%20h%28x%29%0Aprint%20%28x%2C%20z%29&origin=opt-frontend.js&cumulative=false&heapPrimitives=true&textReferences=false&curInstr=0&&verticalStack=false&py=3&rawInputLstJSON=%5B%5D&codeDivWidth=50%25&codeDivHeight=100%25\"\n",
       "            frameborder=\"0\"\n",
       "            allowfullscreen\n",
       "        ></iframe>\n",
       "        "
      ],
      "text/plain": [
       "<IPython.lib.display.IFrame at 0x105ee4630>"
      ]
     },
     "metadata": {},
     "output_type": "display_data"
    }
   ],
   "source": [
    "%%tutor -l python3 --heapPrimitives\n",
    "def h(y):\n",
    "    #global x\n",
    "    x = x + 1   # UnboundLocalError: local variable 'x' referenced before assignment\n",
    "    return x\n",
    "\n",
    "x = 3\n",
    "z = h(x)\n",
    "print (x, z)"
   ]
  },
  {
   "cell_type": "markdown",
   "metadata": {},
   "source": [
    "# Funções como argumentos"
   ]
  },
  {
   "cell_type": "markdown",
   "metadata": {},
   "source": [
    "Os argumentos de uma função podem ser de qualquer tipo, inclusive funções. Para exemplificar, considere as três funções a seguir onde todas calculam somas. A primeira, `sum_naturals`, calcula a soma dos números naturais até $n$. A segunda, `sum_cubes`, calcula a soma dos cubos de números naturais até $n$. A terceira, `pi_sum`, calcula a soma dos termos da série:\n",
    "$\\frac{8}{1*3}+\\frac{8}{5*7}+\\frac{8}{9*11}+ ...$, que converge para $\\pi$ muito devagar."
   ]
  },
  {
   "cell_type": "code",
   "execution_count": null,
   "metadata": {},
   "outputs": [],
   "source": [
    "def sum_naturals(n):\n",
    "    total, k = 0, 1\n",
    "    while k <= n:\n",
    "        total, k = total + k, k + 1   # multiple assignment\n",
    "    return total\n",
    "\n",
    "sum_naturals(100)"
   ]
  },
  {
   "cell_type": "code",
   "execution_count": null,
   "metadata": {},
   "outputs": [],
   "source": [
    "def sum_cubes(n):\n",
    "    total, k = 0, 1\n",
    "    while k <= n:\n",
    "        total, k = total + k*k*k, k + 1\n",
    "    return total\n",
    "\n",
    "sum_cubes(100)"
   ]
  },
  {
   "cell_type": "code",
   "execution_count": null,
   "metadata": {},
   "outputs": [],
   "source": [
    "def pi_sum(n):\n",
    "    total, k = 0, 1\n",
    "    while k <= n:\n",
    "        total, k = total + 8 / ((4*k-3) * (4*k-1)), k + 1\n",
    "    return total\n",
    "\n",
    "pi_sum(100)"
   ]
  },
  {
   "cell_type": "markdown",
   "metadata": {},
   "source": [
    "Essas três funções compartilham claramente um padrão básico comum. Eles são na sua maioria idênticos, diferindo apenas no nome e na função de $k$ usada para calcular o termo a ser adicionado. Poderíamos gerar cada uma das funções preenchendo os slots no mesmo modelo:\n",
    "```python\n",
    "def <nome> (n):\n",
    "    total, k = 0, 1\n",
    "    while k <= n:\n",
    "        total, k = total + <termo> (k), k + 1\n",
    "    return total\n",
    "```\n",
    "A presença de um padrão tão comum é uma forte evidência de que há uma abstração útil à espera de ser trazida à superfície. Cada uma dessas funções é uma soma de termos. Como designers de programas, gostaríamos que nossa linguagem fosse suficientemente poderosa para que possamos escrever uma função que exprima o conceito de soma em si, ao invés de apenas funções que calculam somas particulares. Podemos fazê-lo facilmente em Python, tomando o modelo comum mostrado acima e transformando os \"slots\" em parâmetros formais:\n",
    "\n",
    "No exemplo abaixo, a função `summation` leva como seus dois argumentos o limite superior $n$ junto com a função `termo` que calcula o k-ésimo termo. Podemos usar a função `summation` exatamente como qualquer outra função. Observe, por exemplo como o \"biding\" da função `cube` com o argumento local de nome `term` garante que o resultado 1 * 1 * 1 + 2 * 2 * 2 + 3 * 3 * 3 = 36 seja calculado corretamente. "
   ]
  },
  {
   "cell_type": "code",
   "execution_count": 12,
   "metadata": {
    "code_folding": []
   },
   "outputs": [
    {
     "data": {
      "text/html": [
       "\n",
       "        <iframe\n",
       "            width=\"100%\"\n",
       "            height=\"350\"\n",
       "            src=\"http://pythontutor.com/iframe-embed.html#code=def%20summation%28n%2C%20term%29%3A%0A%20%20%20%20total%2C%20k%20%3D%200%2C%201%0A%20%20%20%20while%20k%20%3C%3D%20n%3A%0A%20%20%20%20%20%20%20%20total%2C%20k%20%3D%20total%20%2B%20term%28k%29%2C%20k%20%2B%201%0A%20%20%20%20return%20total%0A%0Adef%20cube%28x%29%3A%0A%20%20%20%20return%20x%2Ax%2Ax%0A%0Adef%20sum_cubes%28n%29%3A%0A%20%20%20%20return%20summation%28n%2C%20cube%29%0A%0Aresult%20%3D%20sum_cubes%283%29&origin=opt-frontend.js&cumulative=false&heapPrimitives=true&textReferences=false&curInstr=0&&verticalStack=false&py=3&rawInputLstJSON=%5B%5D&codeDivWidth=50%25&codeDivHeight=100%25\"\n",
       "            frameborder=\"0\"\n",
       "            allowfullscreen\n",
       "        ></iframe>\n",
       "        "
      ],
      "text/plain": [
       "<IPython.lib.display.IFrame at 0x105f689e8>"
      ]
     },
     "metadata": {},
     "output_type": "display_data"
    }
   ],
   "source": [
    "%%tutor -l python3 --heapPrimitives\n",
    "def summation(n, term):\n",
    "    total, k = 0, 1\n",
    "    while k <= n:\n",
    "        total, k = total + term(k), k + 1\n",
    "    return total\n",
    "\n",
    "def cube(x):\n",
    "    return x*x*x\n",
    "\n",
    "def sum_cubes(n):\n",
    "    return summation(n, cube)\n",
    "\n",
    "result = sum_cubes(3)"
   ]
  },
  {
   "cell_type": "markdown",
   "metadata": {},
   "source": [
    "Usando uma função identidade (i.e., função que retorna seu argumento), também podemos somar \n",
    "números naturais usando exatamente a mesma função de soma `summation`."
   ]
  },
  {
   "cell_type": "code",
   "execution_count": null,
   "metadata": {},
   "outputs": [],
   "source": [
    "def summation(n, term):\n",
    "    total, k = 0, 1\n",
    "    while k <= n:\n",
    "        total, k = total + term(k), k + 1\n",
    "    return total\n",
    "\n",
    "def identity(x):\n",
    "    return x\n",
    "\n",
    "def sum_naturals(n):\n",
    "    return summation(n, identity)\n",
    "\n",
    "sum_naturals(10)"
   ]
  },
  {
   "cell_type": "markdown",
   "metadata": {},
   "source": [
    "Podemos definir uma função `pi_sum` usando nossa abstração `summation` definindo uma função `pi_term` para calcular cada termo. Passamos o argumento $1e6$, uma notação para $1 * 10^6 = 1000000$, para gerar uma aproximação próxima de $\\pi$."
   ]
  },
  {
   "cell_type": "code",
   "execution_count": null,
   "metadata": {},
   "outputs": [],
   "source": [
    "def summation(n, term):\n",
    "    total, k = 0, 1\n",
    "    while k <= n:\n",
    "        total, k = total + term(k), k + 1\n",
    "    return total\n",
    "\n",
    "def pi_term(x):\n",
    "    return 8 / ((4*x-3) * (4*x-1))\n",
    "\n",
    "def pi_sum(n):\n",
    "    return summation(n, pi_term)\n",
    "\n",
    "pi_sum(1e6)"
   ]
  },
  {
   "cell_type": "markdown",
   "metadata": {},
   "source": [
    "# Definindo Funções Aninhadas"
   ]
  },
  {
   "cell_type": "markdown",
   "metadata": {},
   "source": [
    "Os exemplos acima demonstram como a capacidade de passar funções como argumentos aumenta\n",
    "significativamente o poder de expressão de nossa linguagem de programação. Cada conceito geral\n",
    "ou equação mapeia sua própria função. Uma conseqüência negativa dessa abordagem é que\n",
    "nosso frame global fica poluído com nomes de pequenas funções, que devem ser únicas. Outro\n",
    "problema é que somos limitados por assinaturas específicas de funções com um número fixo de\n",
    "argumentos. As definições de funções aninhadas endereçam esses dois problemas."
   ]
  },
  {
   "cell_type": "code",
   "execution_count": null,
   "metadata": {},
   "outputs": [],
   "source": []
  }
 ],
 "metadata": {
  "celltoolbar": "Visualize",
  "kernelspec": {
   "display_name": "Python 3",
   "language": "python",
   "name": "python3"
  },
  "language_info": {
   "codemirror_mode": {
    "name": "ipython",
    "version": 3
   },
   "file_extension": ".py",
   "mimetype": "text/x-python",
   "name": "python",
   "nbconvert_exporter": "python",
   "pygments_lexer": "ipython3",
   "version": "3.6.4"
  },
  "latex_envs": {
   "LaTeX_envs_menu_present": true,
   "autoclose": false,
   "autocomplete": true,
   "bibliofile": "biblio.bib",
   "cite_by": "apalike",
   "current_citInitial": 1,
   "eqLabelWithNumbers": true,
   "eqNumInitial": 1,
   "hotkeys": {
    "equation": "Ctrl-E",
    "itemize": "Ctrl-I"
   },
   "labels_anchors": false,
   "latex_user_defs": false,
   "report_style_numbering": false,
   "user_envs_cfg": false
  },
  "toc": {
   "nav_menu": {},
   "number_sections": true,
   "sideBar": true,
   "skip_h1_title": false,
   "toc_cell": false,
   "toc_position": {},
   "toc_section_display": "block",
   "toc_window_display": false
  }
 },
 "nbformat": 4,
 "nbformat_minor": 2
}
