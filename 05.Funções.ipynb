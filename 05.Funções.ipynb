{
 "cells": [
  {
   "cell_type": "markdown",
   "metadata": {},
   "source": [
    "# Funções"
   ]
  },
  {
   "cell_type": "markdown",
   "metadata": {},
   "source": [
    "## Como escrever código?"
   ]
  },
  {
   "cell_type": "markdown",
   "metadata": {},
   "source": [
    "- Até agora nós cobrimos alguns mecanismos da linguagem\n",
    "- Sabemos como escrever diferentes trechos de código para cada computação\n",
    "- Cada código é uma seqüência de instruções\n",
    "\n",
    "- Problemas com esta abordagem \n",
    " - fácil para problemas em pequena escala \n",
    " - complicado para problemas maiores\n",
    "  - difícil de acompanhar os detalhes\n",
    "  - como você sabe que a informação certa é fornecida à parte correta do código?"
   ]
  },
  {
   "cell_type": "markdown",
   "metadata": {},
   "source": [
    "## Decomposição e Abstração"
   ]
  },
  {
   "cell_type": "markdown",
   "metadata": {},
   "source": [
    "Uma linguagem de programação é mais do que apenas um meio para instruir um computador a executar tarefas. Ela também serve como um framework dentro do qual organizamos nossas idéias sobre processos computacionais. \n",
    "\n",
    "Quando escrevemos um programa, devemos prestar especial atenção aos meios que a linguagem oferece para combinar idéias simples para formar idéias mais complexas. Toda linguagem poderosa possui três desses mecanismos:\n",
    "\n",
    "- expressões e declarações primitivas, que representam os blocos de construção mais simples que a linguagem fornece,\n",
    "- meios de combinação, através dos quais os elementos compostos são construídos a partir de mais simples, e\n",
    "- meios de abstração, pelos quais elementos compostos podem ser nomeados e manipulados como unidades.\n",
    "\n",
    "Na programação, lidamos com dois tipos de elementos: funções e dados. (Em breve, descobriremos que eles realmente não são tão distintos.) Informalmente, os dados são coisas que queremos manipular, e as funções descrevem as regras para manipular os dados. Assim, qualquer linguagem de programação poderosa deve ser capaz de descrever dados primitivos e funções primitivas, além de ter alguns métodos para combinar e abstrair funções e dados."
   ]
  },
  {
   "cell_type": "markdown",
   "metadata": {},
   "source": [
    "- **Decomposição** é o mecanismo que usamos para \"dividir\" o código em pedaços ou módulos, destinados a serem reutilizados. Com isso mantemos o código coerente e organizado. Nesta aula nós vamos realizar a decomposição do programa com funções. Dentro de algumas aulas, nós iremos realizar a decomposição com o mecanismo de classes."
   ]
  },
  {
   "cell_type": "markdown",
   "metadata": {},
   "source": [
    "- **Abstração** é o mecanismo na qual nós \"escondemos\" trechos de código como se fosse uma \"caixa preta\". Nós não precisamos ver os detalhes do código, mas apenas conhecer sua interface (input & output)."
   ]
  },
  {
   "cell_type": "markdown",
   "metadata": {},
   "source": [
    "## Projetando funções"
   ]
  },
  {
   "cell_type": "markdown",
   "metadata": {},
   "source": [
    "As funções são um ingrediente essencial de todos os programas, grandes e\n",
    "pequenos, e servem como nosso mecanismo primário para expressar processos computacionais em uma linguagem de programação. Fundamentalmente, elas reforçam a idéia de que as funções são abstrações.\n",
    "\n",
    "- Cada função deve realizar exatamente um trabalho. Esse trabalho deve ser identificável com um nome curto e caracterizável em uma única linha de texto. As funções que executam vários trabalhos em seqüência devem ser divididas em múltiplas funções.\n",
    "- Se você se encontra copiando e colando um bloco de código, você provavelmente encontrou uma oportunidade para abstração funcional.\n",
    "\n",
    "Lembre-se que essas simples diretrizes melhoram a legibilidade do código,\n",
    "reduzem o número de erros e muitas vezes minimizam a quantidade total de código\n",
    "escrito. Descompactar uma tarefa complexa em funções concisas é uma habilidade\n",
    "que leva tempo para dominar. Felizmente, o Python oferece vários recursos para suportar seus esforços.\n"
   ]
  },
  {
   "cell_type": "markdown",
   "metadata": {},
   "source": [
    "Começamos examinando como expressar a idéia de \"quadrado de um número\".\n",
    "Podemos dizer: \"Para elevar um número ao quadrado, multiplicamos este número por si mesmo\".\n",
    "Isso é expresso em Python como:"
   ]
  },
  {
   "cell_type": "code",
   "execution_count": 3,
   "metadata": {},
   "outputs": [],
   "source": [
    "def square(x):\n",
    "    return x * x"
   ]
  },
  {
   "cell_type": "markdown",
   "metadata": {},
   "source": [
    "que define uma nova função que recebeu o nome `square`. Esta função definida pelo usuário não está integrada ao interpretador python. Representa a operação composta de multiplicar algo por si mesmo.\n",
    "O $x$ nesta definição é chamado de parâmetro formal, que fornece um nome para que um número seja multiplicado. A definição cria esta função definida pelo usuário e associa-a ao nome `square`.\n",
    "\n",
    "**Como definir uma função:** As definições de funções consistem em uma declaração com a construção `def` da linguagem e indica um <nome> e uma lista separada por vírgulas de <parâmetros formais>, além de uma declaração de retorno da função, presente no corpo da função, especificada pela expressão de retorno `return` da função, que é uma expressão a ser avaliada sempre que a função é aplicada:\n",
    "```python\n",
    "def <nome> (<parâmetros formais>):\n",
    "    return <expressão de retorno>\n",
    "```\n",
    "A expressão de retorno não é avaliada imediatamente; Ela é armazenada como parte da função recém-definida e avaliada somente quando a função é eventualmente aplicada. Se o usuário não especificar uma expressão de retorno, o python implicitamente retorna o valor `None` do tipo `NoneType`.\n",
    "\n",
    "Tendo definida a função `square`, podemos aplicá-la com uma expressão de chamada:"
   ]
  },
  {
   "cell_type": "code",
   "execution_count": null,
   "metadata": {},
   "outputs": [],
   "source": [
    "square(21)"
   ]
  },
  {
   "cell_type": "code",
   "execution_count": null,
   "metadata": {},
   "outputs": [],
   "source": [
    "square(2 + 5)"
   ]
  },
  {
   "cell_type": "code",
   "execution_count": null,
   "metadata": {},
   "outputs": [],
   "source": [
    "square(square(3))"
   ]
  },
  {
   "cell_type": "markdown",
   "metadata": {},
   "source": [
    "Nós também podemos usar a função square como um bloco de construção na definição de outras funções. Por exemplo, podemos definir facilmente uma função sum_squares que, com os dois números como argumentos, retorna a soma de seus quadrados:"
   ]
  },
  {
   "cell_type": "code",
   "execution_count": null,
   "metadata": {},
   "outputs": [],
   "source": [
    "def sum_squares(x, y):\n",
    "    return square(x) + square(y)"
   ]
  },
  {
   "cell_type": "code",
   "execution_count": null,
   "metadata": {},
   "outputs": [],
   "source": [
    "sum_squares(3, 4)"
   ]
  },
  {
   "cell_type": "markdown",
   "metadata": {},
   "source": [
    "## Documentação"
   ]
  },
  {
   "cell_type": "markdown",
   "metadata": {},
   "source": [
    "Uma definição de função geralmente inclui documentação que descreve a função, chamada docstring.\n",
    "Docstrings são convencionalmente inseridos entre três aspas duplas. A primeira linha descreve o objetivo da função em uma linha. As seguintes linhas podem descrever argumentos e esclarecer o comportamento da função:"
   ]
  },
  {
   "cell_type": "code",
   "execution_count": 5,
   "metadata": {},
   "outputs": [],
   "source": [
    "def pressure(v, t, n):\n",
    "    \"\"\"Compute the pressure in pascals of an ideal gas.\n",
    "\n",
    "    v -- volume of gas, in cubic meters\n",
    "    t -- absolute temperature in degrees kelvin\n",
    "    n -- particles of gas\n",
    "    \"\"\"\n",
    "    k = 1.38e-23  # Boltzmann's constant\n",
    "    return n * k * t / v"
   ]
  },
  {
   "cell_type": "markdown",
   "metadata": {},
   "source": [
    "Quando você chama o `help` com o nome de uma função como argumento, você vê sua docstring."
   ]
  },
  {
   "cell_type": "code",
   "execution_count": 6,
   "metadata": {},
   "outputs": [
    {
     "name": "stdout",
     "output_type": "stream",
     "text": [
      "Help on function pressure in module __main__:\n",
      "\n",
      "pressure(v, t, n)\n",
      "    Compute the pressure in pascals of an ideal gas.\n",
      "    \n",
      "    v -- volume of gas, in cubic meters\n",
      "    t -- absolute temperature in degrees kelvin\n",
      "    n -- particles of gas\n",
      "\n"
     ]
    }
   ],
   "source": [
    "help(pressure)"
   ]
  },
  {
   "cell_type": "markdown",
   "metadata": {},
   "source": [
    "# Escopo de Variáveis"
   ]
  },
  {
   "cell_type": "markdown",
   "metadata": {},
   "source": [
    "Nosso subconjunto de Python agora é complexo o suficiente para que o significado dos programas não seja óbvio. E se um parâmetro formal tiver o mesmo nome que uma função builtin? Duas funções podem compartilhar nomes sem confusão? Para resolver essas questões, devemos descrever os ambientes e  escopo de nomes com mais detalhes.\n",
    "\n",
    "Um ambiente em que uma expressão é avaliada consiste em uma seqüência de frames. Cada frame contém ligações (bindings), cada um dos quais associa um nome ao seu valor correspondente. Existe um único frame global. As instruções de atribuição (e importação) adicionam entradas ao primeiro frame do ambiente atual. Até agora, nosso ambiente consistiu apenas no frame global."
   ]
  },
  {
   "cell_type": "markdown",
   "metadata": {},
   "source": [
    "<iframe width=\"800\" height=\"500\" frameborder=\"0\" src=\"http://pythontutor.com/iframe-embed.html#code=import%20random%20%20%20%20%20%20%20%20%20%20%20%20%20%20%20%20%20%20%20%20%20%20%23%20Import%20the%20random%20module%20%0A%0Anumber%20%3D%20random.randrange%281,%20100%29%20%23%20Get%20random%20number%20between%201%20and%20100%0Aguesses%20%3D%200%0Aguess%20%3D%20int%28input%28%22Adivinhe%20meu%20n%C3%BAmero%20entre%201%20e%20100%3A%22%29%29%0A%0Awhile%20guess%20!%3D%20number%3A%0A%20%20%20%20guesses%20%2B%3D%201%0A%20%20%20%20if%20guess%20%3E%20number%3A%0A%20%20%20%20%20%20%20%20print%28guess,%20%22est%C3%A1%20acima.%22%29%20%0A%20%20%20%20elif%20guess%20%3C%20number%3A%0A%20%20%20%20%20%20%20%20print%28guess,%20%22%20est%C3%A1%20abaixo.%22%29%0A%20%20%20%20guess%20%3D%20int%28input%28%22tente%20novamente%3A%20%22%29%29%0A%0Aprint%28%22%5Cn%C3%93timo,%20voc%C3%AA%20acertou%20em%22,%20guesses,%20%22%20tentativas!%22%29&codeDivHeight=400&codeDivWidth=350&cumulative=false&curInstr=12&heapPrimitives=false&origin=opt-frontend.js&py=3&rawInputLstJSON=%5B%226%22,%2250%22%5D&textReferences=false\"> </iframe>"
   ]
  },
  {
   "cell_type": "markdown",
   "metadata": {},
   "source": [
    "<iframe width=\"800\" height=\"500\" frameborder=\"0\"\n",
    "        src=\"http://pythontutor.com/iframe-embed.html#code=x+%3D+5%0Ay+%3D+10%0Az+%3D+x+%2B+y&cumulative=false&py=2&curInstr=3\">\n",
    "</iframe>"
   ]
  }
 ],
 "metadata": {
  "kernelspec": {
   "display_name": "Python 3",
   "language": "python",
   "name": "python3"
  },
  "language_info": {
   "codemirror_mode": {
    "name": "ipython",
    "version": 3
   },
   "file_extension": ".py",
   "mimetype": "text/x-python",
   "name": "python",
   "nbconvert_exporter": "python",
   "pygments_lexer": "ipython3",
   "version": "3.6.4"
  },
  "latex_envs": {
   "LaTeX_envs_menu_present": true,
   "autoclose": false,
   "autocomplete": true,
   "bibliofile": "biblio.bib",
   "cite_by": "apalike",
   "current_citInitial": 1,
   "eqLabelWithNumbers": true,
   "eqNumInitial": 1,
   "hotkeys": {
    "equation": "Ctrl-E",
    "itemize": "Ctrl-I"
   },
   "labels_anchors": false,
   "latex_user_defs": false,
   "report_style_numbering": false,
   "user_envs_cfg": false
  },
  "toc": {
   "nav_menu": {},
   "number_sections": true,
   "sideBar": true,
   "skip_h1_title": false,
   "toc_cell": false,
   "toc_position": {},
   "toc_section_display": "block",
   "toc_window_display": false
  }
 },
 "nbformat": 4,
 "nbformat_minor": 2
}
