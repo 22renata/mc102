{
 "cells": [
  {
   "cell_type": "markdown",
   "metadata": {
    "toc": true
   },
   "source": [
    "<h1>Table of Contents<span class=\"tocSkip\"></span></h1>\n",
    "<div class=\"toc\" style=\"margin-top: 1em;\"><ul class=\"toc-item\"><li><span><a href=\"#Seqüências\" data-toc-modified-id=\"Seqüências-1\"><span class=\"toc-item-num\">1&nbsp;&nbsp;</span>Seqüências</a></span></li><li><span><a href=\"#Tuplas\" data-toc-modified-id=\"Tuplas-2\"><span class=\"toc-item-num\">2&nbsp;&nbsp;</span>Tuplas</a></span><ul class=\"toc-item\"><li><span><a href=\"#Acessando-Valores-em-Tuplas\" data-toc-modified-id=\"Acessando-Valores-em-Tuplas-2.1\"><span class=\"toc-item-num\">2.1&nbsp;&nbsp;</span>Acessando Valores em Tuplas</a></span></li><li><span><a href=\"#Contatenação-de-tuplas\" data-toc-modified-id=\"Contatenação-de-tuplas-2.2\"><span class=\"toc-item-num\">2.2&nbsp;&nbsp;</span>Contatenação de tuplas</a></span></li><li><span><a href=\"#Eliminando-elementos-de-uma-Tupla\" data-toc-modified-id=\"Eliminando-elementos-de-uma-Tupla-2.3\"><span class=\"toc-item-num\">2.3&nbsp;&nbsp;</span>Eliminando elementos de uma Tupla</a></span></li><li><span><a href=\"#Operações-básicas-em-Tuplas\" data-toc-modified-id=\"Operações-básicas-em-Tuplas-2.4\"><span class=\"toc-item-num\">2.4&nbsp;&nbsp;</span>Operações básicas em Tuplas</a></span><ul class=\"toc-item\"><li><span><a href=\"#Tuplas-podem-ser-usadas-para-trocar-valores-de-variáveis\" data-toc-modified-id=\"Tuplas-podem-ser-usadas-para-trocar-valores-de-variáveis-2.4.1\"><span class=\"toc-item-num\">2.4.1&nbsp;&nbsp;</span>Tuplas podem ser usadas para trocar valores de variáveis</a></span></li><li><span><a href=\"#Tuplas-podem-ser-usadas-para-retornar-mais-de-um-valor-de-uma-função\" data-toc-modified-id=\"Tuplas-podem-ser-usadas-para-retornar-mais-de-um-valor-de-uma-função-2.4.2\"><span class=\"toc-item-num\">2.4.2&nbsp;&nbsp;</span>Tuplas podem ser usadas para retornar mais de um valor de uma função</a></span></li></ul></li><li><span><a href=\"#Tuplas-como-argumentos-de-comprimento-variável-de-funções\" data-toc-modified-id=\"Tuplas-como-argumentos-de-comprimento-variável-de-funções-2.5\"><span class=\"toc-item-num\">2.5&nbsp;&nbsp;</span>Tuplas como argumentos de comprimento variável de funções</a></span></li></ul></li><li><span><a href=\"#Listas\" data-toc-modified-id=\"Listas-3\"><span class=\"toc-item-num\">3&nbsp;&nbsp;</span>Listas</a></span><ul class=\"toc-item\"><li><span><a href=\"#Operações-básicas:-Pertinencia,-Concatenação-e-Repetição\" data-toc-modified-id=\"Operações-básicas:-Pertinencia,-Concatenação-e-Repetição-3.1\"><span class=\"toc-item-num\">3.1&nbsp;&nbsp;</span>Operações básicas: Pertinencia, Concatenação e Repetição</a></span></li><li><span><a href=\"#Métodos-de-Listas\" data-toc-modified-id=\"Métodos-de-Listas-3.2\"><span class=\"toc-item-num\">3.2&nbsp;&nbsp;</span>Métodos de Listas</a></span></li><li><span><a href=\"#Listas-e-Strings\" data-toc-modified-id=\"Listas-e-Strings-3.3\"><span class=\"toc-item-num\">3.3&nbsp;&nbsp;</span>Listas e Strings</a></span></li><li><span><a href=\"#Referencias-de-Listas\" data-toc-modified-id=\"Referencias-de-Listas-3.4\"><span class=\"toc-item-num\">3.4&nbsp;&nbsp;</span>Referencias de Listas</a></span></li><li><span><a href=\"#Alias-e-clone-de-Listas\" data-toc-modified-id=\"Alias-e-clone-de-Listas-3.5\"><span class=\"toc-item-num\">3.5&nbsp;&nbsp;</span>Alias e clone de Listas</a></span></li><li><span><a href=\"#Listas-como-Parâmetros\" data-toc-modified-id=\"Listas-como-Parâmetros-3.6\"><span class=\"toc-item-num\">3.6&nbsp;&nbsp;</span>Listas como Parâmetros</a></span></li></ul></li><li><span><a href=\"#Processamento-de-Seqüências\" data-toc-modified-id=\"Processamento-de-Seqüências-4\"><span class=\"toc-item-num\">4&nbsp;&nbsp;</span>Processamento de Seqüências</a></span><ul class=\"toc-item\"><li><span><a href=\"#Compreensão-de-Listas\" data-toc-modified-id=\"Compreensão-de-Listas-4.1\"><span class=\"toc-item-num\">4.1&nbsp;&nbsp;</span>Compreensão de Listas</a></span></li><li><span><a href=\"#Compreensão-de-Listas-Aninhadas\" data-toc-modified-id=\"Compreensão-de-Listas-Aninhadas-4.2\"><span class=\"toc-item-num\">4.2&nbsp;&nbsp;</span>Compreensão de Listas Aninhadas</a></span></li><li><span><a href=\"#Exercícios:\" data-toc-modified-id=\"Exercícios:-4.3\"><span class=\"toc-item-num\">4.3&nbsp;&nbsp;</span>Exercícios:</a></span><ul class=\"toc-item\"><li><span><a href=\"#Removendo-as-vogais-de-uma-frase.\" data-toc-modified-id=\"Removendo-as-vogais-de-uma-frase.-4.3.1\"><span class=\"toc-item-num\">4.3.1&nbsp;&nbsp;</span>Removendo as vogais de uma frase.</a></span></li><li><span><a href=\"#Matriz-Transposta\" data-toc-modified-id=\"Matriz-Transposta-4.3.2\"><span class=\"toc-item-num\">4.3.2&nbsp;&nbsp;</span>Matriz Transposta</a></span></li><li><span><a href=\"#Lançamento-de-dados\" data-toc-modified-id=\"Lançamento-de-dados-4.3.3\"><span class=\"toc-item-num\">4.3.3&nbsp;&nbsp;</span>Lançamento de dados</a></span></li></ul></li></ul></li></ul></div>"
   ]
  },
  {
   "cell_type": "markdown",
   "metadata": {},
   "source": [
    "# Seqüências"
   ]
  },
  {
   "cell_type": "markdown",
   "metadata": {},
   "source": [
    "Uma sequência é uma coleção ordenada de valores. A seqüência é uma abstração\n",
    "poderosa e fundamental em ciência da computação. As seqüências não são\n",
    "instâncias de uma built-int específica ou representação de dados\n",
    "abstratos, mas sim uma coleção de comportamentos que são compartilhados entre\n",
    "vários tipos diferentes de dados. Ou seja, existem muitos tipos de seqüências,\n",
    "mas todos compartilham um comportamento comum. Em particular,\n",
    "\n",
    "**Comprimento** (`len`): Uma sequência tem um comprimento finito. Uma seqüência\n",
    "vazia tem o comprimento 0.\n",
    "\n",
    "**Seleção de elementos**: Uma sequência tem um elemento correspondente a qualquer\n",
    "índice inteiro não negativo inferior ao seu comprimento, começando em 0 para o\n",
    "primeiro elemento.\n",
    "\n",
    "O Python inclui vários tipos de dados nativos que são sequências. Nós já vimos um pouco de Strings e agora vamos estudar **tuplas** e **listas**."
   ]
  },
  {
   "cell_type": "markdown",
   "metadata": {},
   "source": [
    "# Tuplas"
   ]
  },
  {
   "cell_type": "markdown",
   "metadata": {},
   "source": [
    "Tuplas são uma sequencia ordenada de elementos separados por virgulas, representados ou não entre parênteses, isto é, os parênteses não são obrigatórios.\n",
    "Pode-se ainda misturar elementos de tipos diferentes. No entanto, tuplas tem a caracteristica de imutabilidade, isto é, seus elementos são\n",
    "imutáveis. Em outras palavras, não é possível alterar os valores dos elementos.\n",
    "Exemplos de tuplas:"
   ]
  },
  {
   "cell_type": "code",
   "execution_count": 2,
   "metadata": {},
   "outputs": [],
   "source": [
    "tup1 = ('physics', 'chemistry', 1997, 2000)\n",
    "tup2 = (1, 2, 3, 4, 5, 6, 7 )\n",
    "tup3 = \"a\", \"b\", \"c\", \"d\"\n",
    "tup4 = (\"MC102\", )\n",
    "tup5 = ()"
   ]
  },
  {
   "cell_type": "markdown",
   "metadata": {},
   "source": [
    "- tup4 representa uma tupla com um único elemento. Note a virgula após o elemento. Ela é necessária para diferenciar de uma expressão entre parenteses. Veja o exemplo abaixo:"
   ]
  },
  {
   "cell_type": "code",
   "execution_count": null,
   "metadata": {},
   "outputs": [],
   "source": [
    "t1 = 'A', \n",
    "\n",
    "t2 = ('A')\n",
    "\n",
    "print(type(t1), type(t2))"
   ]
  },
  {
   "cell_type": "markdown",
   "metadata": {},
   "source": [
    "- tup5 representa uma tupla vazia.Outra forma de criar uma tupla é com a função integrada tuple. Sem argumentos, cria uma tupla vazia, se os argumentos forem uma sequência (string, lista ou tupla), o resultado é uma tupla com os elementos da sequência:"
   ]
  },
  {
   "cell_type": "code",
   "execution_count": null,
   "metadata": {},
   "outputs": [],
   "source": [
    "t = tuple('Unicamp')\n",
    "print(t, type(t))"
   ]
  },
  {
   "cell_type": "markdown",
   "metadata": {},
   "source": [
    "## Acessando Valores em Tuplas"
   ]
  },
  {
   "cell_type": "markdown",
   "metadata": {},
   "source": [
    "Como Strings, os índices de tupla começam em $0$ e podem ser cortados (slice), concatenados, e assim por diante. Ainda como Strings, para acessar os valores em uma tupla, use os colchetes para cortar junto com o índice, ou índices, para obter o valor disponível nesse índice. Exemplos:"
   ]
  },
  {
   "cell_type": "code",
   "execution_count": 3,
   "metadata": {},
   "outputs": [
    {
     "name": "stdout",
     "output_type": "stream",
     "text": [
      "tup1[0]:  physics\n",
      "tup2[1:5]:  (2, 3, 4, 5)\n"
     ]
    },
    {
     "ename": "TypeError",
     "evalue": "'tuple' object does not support item assignment",
     "output_type": "error",
     "traceback": [
      "\u001b[0;31m---------------------------------------------------------------------------\u001b[0m",
      "\u001b[0;31mTypeError\u001b[0m                                 Traceback (most recent call last)",
      "\u001b[0;32m<ipython-input-3-bc95b666fe09>\u001b[0m in \u001b[0;36m<module>\u001b[0;34m()\u001b[0m\n\u001b[1;32m      2\u001b[0m \u001b[0mprint\u001b[0m \u001b[0;34m(\u001b[0m\u001b[0;34m\"tup2[1:5]: \"\u001b[0m\u001b[0;34m,\u001b[0m \u001b[0mtup2\u001b[0m\u001b[0;34m[\u001b[0m\u001b[0;36m1\u001b[0m\u001b[0;34m:\u001b[0m\u001b[0;36m5\u001b[0m\u001b[0;34m]\u001b[0m\u001b[0;34m)\u001b[0m\u001b[0;34m\u001b[0m\u001b[0m\n\u001b[1;32m      3\u001b[0m \u001b[0;31m# A sentença abaixa não é valida!\u001b[0m\u001b[0;34m\u001b[0m\u001b[0;34m\u001b[0m\u001b[0m\n\u001b[0;32m----> 4\u001b[0;31m \u001b[0mtup1\u001b[0m\u001b[0;34m[\u001b[0m\u001b[0;36m0\u001b[0m\u001b[0;34m]\u001b[0m \u001b[0;34m=\u001b[0m \u001b[0;34m\"calculus\"\u001b[0m\u001b[0;34m\u001b[0m\u001b[0m\n\u001b[0m",
      "\u001b[0;31mTypeError\u001b[0m: 'tuple' object does not support item assignment"
     ]
    }
   ],
   "source": [
    "print (\"tup1[0]: \", tup1[0])\n",
    "print (\"tup2[1:5]: \", tup2[1:5])\n",
    "# A sentença abaixa não é valida!\n",
    "tup1[0] = \"calculus\""
   ]
  },
  {
   "cell_type": "markdown",
   "metadata": {},
   "source": [
    "## Contatenação de tuplas"
   ]
  },
  {
   "cell_type": "code",
   "execution_count": null,
   "metadata": {},
   "outputs": [],
   "source": [
    "tupX = (12, 34.56)\n",
    "tupY = ('abc', 'xyz')\n",
    "\n",
    "# So let's create a new tuple as follows\n",
    "tupZ = tupX + tupY\n",
    "print (tupZ)"
   ]
  },
  {
   "cell_type": "markdown",
   "metadata": {},
   "source": [
    "## Eliminando elementos de uma Tupla"
   ]
  },
  {
   "cell_type": "markdown",
   "metadata": {},
   "source": [
    "Não é possível remover elementos de uma tupla individualmente. Há, é claro, nada de errado em juntar outra tupla com os elementos indesejados descartados.\n",
    "\n",
    "Para remover explicitamente uma tupla inteira, basta usar a senteça `del`. Exemplos:"
   ]
  },
  {
   "cell_type": "code",
   "execution_count": 7,
   "metadata": {},
   "outputs": [
    {
     "name": "stdout",
     "output_type": "stream",
     "text": [
      "<class 'int'>\n",
      "('physics', 2000)\n",
      "After deleting tup1 : \n"
     ]
    },
    {
     "ename": "NameError",
     "evalue": "name 'tup1' is not defined",
     "output_type": "error",
     "traceback": [
      "\u001b[0;31m---------------------------------------------------------------------------\u001b[0m",
      "\u001b[0;31mNameError\u001b[0m                                 Traceback (most recent call last)",
      "\u001b[0;32m<ipython-input-7-350db2343ae5>\u001b[0m in \u001b[0;36m<module>\u001b[0;34m()\u001b[0m\n\u001b[1;32m      5\u001b[0m \u001b[0;32mdel\u001b[0m \u001b[0mtup1\u001b[0m\u001b[0;34m;\u001b[0m\u001b[0;34m\u001b[0m\u001b[0m\n\u001b[1;32m      6\u001b[0m \u001b[0mprint\u001b[0m \u001b[0;34m(\u001b[0m\u001b[0;34m\"After deleting tup1 : \"\u001b[0m\u001b[0;34m)\u001b[0m\u001b[0;34m\u001b[0m\u001b[0m\n\u001b[0;32m----> 7\u001b[0;31m \u001b[0mprint\u001b[0m \u001b[0;34m(\u001b[0m\u001b[0mtup1\u001b[0m\u001b[0;34m)\u001b[0m\u001b[0;34m\u001b[0m\u001b[0m\n\u001b[0m",
      "\u001b[0;31mNameError\u001b[0m: name 'tup1' is not defined"
     ]
    }
   ],
   "source": [
    "tup1 = ('physics', 'chemistry', 1997, 2000);\n",
    "print(type(tup1[3]))\n",
    "tup2 = tup1[0:1] + (tup1[3], )\n",
    "print (tup2)\n",
    "del tup1;\n",
    "print (\"After deleting tup1 : \")\n",
    "print (tup1)"
   ]
  },
  {
   "cell_type": "markdown",
   "metadata": {},
   "source": [
    "## Operações básicas em Tuplas"
   ]
  },
  {
   "cell_type": "markdown",
   "metadata": {},
   "source": [
    "As tuplas respondem a todas as operações de seqüência geral que usamos em Strings anteriormente: comprimento (`len`), concatenação (`+`), repetição (`*`), membro (`in`) e iteração. Exemplos:"
   ]
  },
  {
   "cell_type": "code",
   "execution_count": null,
   "metadata": {},
   "outputs": [],
   "source": [
    "print(len((1, 2, 3))) \n",
    "print((1, 2, 3) + (4, 5, 6))\n",
    "print(('Hi!',) * 4)\n",
    "print(3 in (1, 2, 3))\n",
    "for x in (1,2,3) : print (x, end = ' ')"
   ]
  },
  {
   "cell_type": "markdown",
   "metadata": {},
   "source": [
    "### Tuplas podem ser usadas para trocar valores de variáveis"
   ]
  },
  {
   "cell_type": "code",
   "execution_count": null,
   "metadata": {},
   "outputs": [],
   "source": [
    "x = 1\n",
    "y = 2\n",
    "# wrong way\n",
    "x = y\n",
    "y = x\n",
    "print(x, y)"
   ]
  },
  {
   "cell_type": "code",
   "execution_count": null,
   "metadata": {},
   "outputs": [],
   "source": [
    "x = 1\n",
    "y = 2\n",
    "# correct, but needs a temporary variable\n",
    "temp = x\n",
    "x = y\n",
    "y = temp\n",
    "print(x, y)"
   ]
  },
  {
   "cell_type": "code",
   "execution_count": null,
   "metadata": {},
   "outputs": [],
   "source": [
    "x = 1\n",
    "y = 2\n",
    "#using tuples\n",
    "(x, y) = (y, x)   # or, simple: x, y = y, x\n",
    "print(x, y)"
   ]
  },
  {
   "cell_type": "markdown",
   "metadata": {},
   "source": [
    "- O número de variáveis à esquerda e o número de valores à direita precisam \n",
    "ser iguais:"
   ]
  },
  {
   "cell_type": "code",
   "execution_count": 20,
   "metadata": {},
   "outputs": [
    {
     "ename": "ValueError",
     "evalue": "too many values to unpack (expected 2)",
     "output_type": "error",
     "traceback": [
      "\u001b[0;31m---------------------------------------------------------------------------\u001b[0m",
      "\u001b[0;31mValueError\u001b[0m                                Traceback (most recent call last)",
      "\u001b[0;32m<ipython-input-20-8904fd2ea925>\u001b[0m in \u001b[0;36m<module>\u001b[0;34m()\u001b[0m\n\u001b[0;32m----> 1\u001b[0;31m \u001b[0ma\u001b[0m\u001b[0;34m,\u001b[0m \u001b[0mb\u001b[0m \u001b[0;34m=\u001b[0m \u001b[0;36m1\u001b[0m\u001b[0;34m,\u001b[0m \u001b[0;36m2\u001b[0m\u001b[0;34m,\u001b[0m \u001b[0;36m3\u001b[0m\u001b[0;34m\u001b[0m\u001b[0m\n\u001b[0m",
      "\u001b[0;31mValueError\u001b[0m: too many values to unpack (expected 2)"
     ]
    }
   ],
   "source": [
    "a, b = 1, 2, 3"
   ]
  },
  {
   "cell_type": "markdown",
   "metadata": {},
   "source": [
    "### Tuplas podem ser usadas para retornar mais de um valor de uma função"
   ]
  },
  {
   "cell_type": "code",
   "execution_count": null,
   "metadata": {},
   "outputs": [],
   "source": [
    "def quotient_and_remainder(x, y):\n",
    "    q = x // y\n",
    "    r = x % y\n",
    "    return (q, r)\n",
    "\n",
    "(quot, rem) = quotient_and_remainder(7, 4)\n",
    "print(quot, rem)"
   ]
  },
  {
   "cell_type": "markdown",
   "metadata": {},
   "source": [
    "## Tuplas como argumentos de comprimento variável de funções"
   ]
  },
  {
   "cell_type": "markdown",
   "metadata": {},
   "source": [
    "As funções em Python podem receber um número variável de argumentos.\n",
    "Um nome de parâmetro que comece com `*` reúne vários argumentos em uma tupla. \n",
    "Esses argumentos são chamados de argumentos de comprimento variável e não são nomeados na definição da função, ao contrário dos argumentos necessários e padrão.\n",
    "Esta tupla permanece vazia se nenhum argumento adicional for especificado durante a chamada da função. Vejamos o exemplo a seguir:"
   ]
  },
  {
   "cell_type": "code",
   "execution_count": null,
   "metadata": {},
   "outputs": [],
   "source": [
    "def printinfo( arg1, *vartuple ):\n",
    "   # This prints a variable passed arguments\n",
    "   print (\"Output is: \")\n",
    "   print (arg1)\n",
    "   for var in vartuple:\n",
    "      print (var)\n",
    "   return\n",
    "\n",
    "# Now you can call printinfo function\n",
    "printinfo( 10 )\n",
    "printinfo( 70, 60, 50 )"
   ]
  },
  {
   "cell_type": "markdown",
   "metadata": {},
   "source": [
    "O complemento de reunir é espalhar. Se você tiver uma sequência de valores e quiser passá-la a uma função como argumentos múltiplos, pode usar o operador `*`. Por exemplo, a função `quotient_and_remainder` definida anteriormente recebe exatamente dois argumentos; ele não funciona com uma tupla:"
   ]
  },
  {
   "cell_type": "code",
   "execution_count": 22,
   "metadata": {},
   "outputs": [
    {
     "ename": "TypeError",
     "evalue": "quotient_and_remainder() missing 1 required positional argument: 'y'",
     "output_type": "error",
     "traceback": [
      "\u001b[0;31m---------------------------------------------------------------------------\u001b[0m",
      "\u001b[0;31mTypeError\u001b[0m                                 Traceback (most recent call last)",
      "\u001b[0;32m<ipython-input-22-304d8bcb2fd1>\u001b[0m in \u001b[0;36m<module>\u001b[0;34m()\u001b[0m\n\u001b[1;32m      1\u001b[0m \u001b[0mt\u001b[0m \u001b[0;34m=\u001b[0m \u001b[0;36m7\u001b[0m\u001b[0;34m,\u001b[0m \u001b[0;36m4\u001b[0m\u001b[0;34m\u001b[0m\u001b[0m\n\u001b[0;32m----> 2\u001b[0;31m \u001b[0mquot\u001b[0m\u001b[0;34m,\u001b[0m \u001b[0mrem\u001b[0m \u001b[0;34m=\u001b[0m \u001b[0mquotient_and_remainder\u001b[0m\u001b[0;34m(\u001b[0m\u001b[0mt\u001b[0m\u001b[0;34m)\u001b[0m\u001b[0;34m\u001b[0m\u001b[0m\n\u001b[0m",
      "\u001b[0;31mTypeError\u001b[0m: quotient_and_remainder() missing 1 required positional argument: 'y'"
     ]
    }
   ],
   "source": [
    "t = 7, 4\n",
    "quot, rem = quotient_and_remainder(t)"
   ]
  },
  {
   "cell_type": "markdown",
   "metadata": {},
   "source": [
    "No entanto, se você espalhar a tupla, aí funciona:"
   ]
  },
  {
   "cell_type": "code",
   "execution_count": 23,
   "metadata": {},
   "outputs": [
    {
     "name": "stdout",
     "output_type": "stream",
     "text": [
      "1 3\n"
     ]
    }
   ],
   "source": [
    "quot, rem = quotient_and_remainder(*t)\n",
    "print(quot,rem)"
   ]
  },
  {
   "cell_type": "markdown",
   "metadata": {},
   "source": [
    "# Listas"
   ]
  },
  {
   "cell_type": "markdown",
   "metadata": {},
   "source": [
    "Uma lista (list) em Python é uma sequência ou coleção ordenada de valores. Cada valor na lista é identificado por um índice. Os valores que formam uma lista são chamados elementos ou itens. Listas são similares a tuplas, no entanto, diferentemente de tuplas, lista são mutáveis, isto é, os itens de uma lista podem ser alterados.\n",
    "\n",
    "A maneira mais simples de se criar uma lista é envolver os elementos da lista por colchetes ( [ e ]):"
   ]
  },
  {
   "cell_type": "code",
   "execution_count": null,
   "metadata": {},
   "outputs": [],
   "source": [
    "frutas = [\"banana\", \"maça\", \"cereja\"]\n",
    "print(frutas)\n",
    "\n",
    "frutas[0] = \"pera\"\n",
    "frutas[-1] = \"laranja\"\n",
    "print(frutas)"
   ]
  },
  {
   "cell_type": "markdown",
   "metadata": {},
   "source": [
    "Também pode-se criar uma lista através da builtin `list`:"
   ]
  },
  {
   "cell_type": "code",
   "execution_count": null,
   "metadata": {},
   "outputs": [],
   "source": [
    "digitos = list(range(10))\n",
    "print(digitos, type(digitos))\n",
    "curso = list(\"MC102\")\n",
    "print(curso, type(curso))"
   ]
  },
  {
   "cell_type": "markdown",
   "metadata": {},
   "source": [
    "Como em tuplas, os elementos de uma lista não precisam ser do mesmo tipo. A lista a seguir contém um string, um float, um inteiro e uma outra lista:"
   ]
  },
  {
   "cell_type": "code",
   "execution_count": null,
   "metadata": {},
   "outputs": [],
   "source": [
    "[\"oi\", 2.0, 5, [10, 20]]"
   ]
  },
  {
   "cell_type": "markdown",
   "metadata": {},
   "source": [
    "Um lista em uma outra lista é dita aninhada (nested) e a lista mais interna é chamada frequentemente de sublista (sublist). Finalmente, existe uma lista especial que não contém elemento algum. Ela é chamada de lista vazia e é denotada por []."
   ]
  },
  {
   "cell_type": "code",
   "execution_count": null,
   "metadata": {},
   "outputs": [],
   "source": [
    "red = \"vermelho\"\n",
    "cores = ['azul', \"amarelo\", 'verde', \"branco\", red]\n",
    "numeros = [123, 5460]\n",
    "vazia = []\n",
    "mista = [1, 1, [2, 3], [5, 8, 13]]\n",
    "print(len(cores), len(numeros), len(vazia), len(mista), len(mista[3]))"
   ]
  },
  {
   "cell_type": "markdown",
   "metadata": {},
   "source": [
    "A sintaxe para acessar um elemento de uma lista é a mesma usada para acessar um caractere de um string ou um elemento de uma tupla. Nós usamos o operador de indexação ($[]$ – não confundir com a lista vazia). A expressão dentro dos conchetes especifica o índice. Lembrar que o índice do primeiro elemento é 0. Qualquer expressão que tenha como resultado um número inteiro pode ser usada como índice. Índices negativos indicarão elementos da direita para a esquerda ao invés de da esquerda para a direita."
   ]
  },
  {
   "cell_type": "markdown",
   "metadata": {},
   "source": [
    "## Operações básicas: Pertinencia, Concatenação e Repetição"
   ]
  },
  {
   "cell_type": "markdown",
   "metadata": {},
   "source": [
    "`in` e `not in` são operadores booleanos ou lógicos que testam a pertinência (membership) em uma sequência. Novamente, como com strings, o operador `+` concatena listas. Analogamente, o operador `*` repete os itens em uma lista um dado número de vezes."
   ]
  },
  {
   "cell_type": "code",
   "execution_count": null,
   "metadata": {},
   "outputs": [],
   "source": [
    "citricas = [\"laranja\", \"abacaxi\"]\n",
    "frutas = [ \"maça\", \"pêra\"] + citricas\n",
    "print(frutas)\n",
    "print(\"pêra\" in frutas)\n",
    "zeros = [0] * 4\n",
    "print(zeros)"
   ]
  },
  {
   "cell_type": "markdown",
   "metadata": {},
   "source": [
    "## Métodos de Listas"
   ]
  },
  {
   "cell_type": "markdown",
   "metadata": {},
   "source": [
    "O Python oferece métodos que operam em listas. Estes são alguns exemplos:\n",
    "- `append` adiciona um novo elemento ao fim de uma lista;\n",
    "- `extend` toma uma lista como argumento e adiciona todos os elementos;\n",
    "- `sort` classifica os elementos da lista em ordem ascendente.\n",
    "\n",
    "Há várias formas de excluir elementos de uma lista. Se souber o índice do elemento que procura, você pode usar `pop`. pop altera a lista e retorna o elemento que foi excluído. Se você não incluir um índice, ele exclui e retorna o último elemento. Se não precisar do valor removido, você pode usar a instrução `del`. del também manipula índices negativos e produz um erro de execução se o índice estiver foram do intervalo da lista. Além disso, você pode usar uma fatia como argumento para del. Como é usual, fatias selecionam todos os elementos até, mas não incluindo, o segundo índice. Por fim, se souber o elemento que quer excluir (mas não o índice), você pode usar `remove`."
   ]
  },
  {
   "cell_type": "code",
   "execution_count": 12,
   "metadata": {},
   "outputs": [],
   "source": [
    "t1 = ['a', 'b', 'c']\n",
    "t1.append('d')\n",
    "\n",
    "t2 = ['a', 'b', 'c']\n",
    "t3 = ['d', 'e']\n",
    "t2.extend(t3)\n",
    "\n",
    "t4 = ['d', 'c', 'e', 'b', 'a']\n",
    "t4.sort()\n",
    "\n",
    "t5 = ['a', 'b', 'c']\n",
    "x = t5.pop(1)\n",
    "\n",
    "t6 = ['a', 'b', 'c']\n",
    "del t6[1]\n",
    "\n",
    "t7 = ['a', 'b', 'c']\n",
    "t7.remove('b')"
   ]
  },
  {
   "cell_type": "markdown",
   "metadata": {},
   "source": [
    "## Listas e Strings"
   ]
  },
  {
   "cell_type": "markdown",
   "metadata": {},
   "source": [
    "Como vimos, a função `list` quebra uma string em letras individuais. Se você quiser quebrar uma string em palavras, você pode usar o método `split`:"
   ]
  },
  {
   "cell_type": "code",
   "execution_count": null,
   "metadata": {},
   "outputs": [],
   "source": [
    "s = \"Algoritmos e Programação de Computadores\"\n",
    "t = s.split()\n",
    "print(t)"
   ]
  },
  {
   "cell_type": "markdown",
   "metadata": {},
   "source": [
    "Um argumento opcional chamado `delimiter` especifica quais caracteres podem ser usados para demonstrar os limites das palavras. O exemplo seguinte usa um hífen como delimitador:"
   ]
  },
  {
   "cell_type": "code",
   "execution_count": null,
   "metadata": {},
   "outputs": [],
   "source": [
    "s = 'spam-spam-spam'\n",
    "delimiter = '-'\n",
    "t = s.split(delimiter)"
   ]
  },
  {
   "cell_type": "markdown",
   "metadata": {},
   "source": [
    "`join` é o contrário de `split`. Ele toma uma lista de strings e concatena os elementos. Por join ser um método de string (função que opera em strings), então é preciso invocá-lo no delimitador e passar a lista como parâmetro:"
   ]
  },
  {
   "cell_type": "code",
   "execution_count": null,
   "metadata": {},
   "outputs": [],
   "source": [
    "t = ['The', 'measure', 'of', 'love', 'is', 'to', 'love', 'without', 'measure']\n",
    "delimiter = ' '\n",
    "s = delimiter.join(t)\n",
    "s"
   ]
  },
  {
   "cell_type": "markdown",
   "metadata": {},
   "source": [
    "Nesse caso, o delimitador é um caractere de espaço, então join coloca um espaço entre as palavras. Para concatenar strings sem espaços, você pode usar a string vazia `''`, como delimitador."
   ]
  },
  {
   "cell_type": "markdown",
   "metadata": {},
   "source": [
    "## Referencias de Listas"
   ]
  },
  {
   "cell_type": "markdown",
   "metadata": {},
   "source": [
    "Como sabemos, objetos Python podem ser identificados usando seus identificadores (nomes, variáveis) que são únicos. Podemos também testar se dois nomes se referem ao mesmo objeto usando o operador `is`. O operador is retorna True se as duas referências são ao mesmo objeto. Em outras palavras, as referências são a mesma. vejamos o exemplo abaixo com strings (vamos usar novamente o [Python Tutor](http://www.pythontutor.com/) nestes exemplos):"
   ]
  },
  {
   "cell_type": "code",
   "execution_count": 3,
   "metadata": {},
   "outputs": [],
   "source": [
    "%load_ext tutormagic"
   ]
  },
  {
   "cell_type": "code",
   "execution_count": null,
   "metadata": {},
   "outputs": [],
   "source": [
    "%%tutor -l python3 --heapPrimitives\n",
    "a = \"banana\"\n",
    "b = \"banana\"\n",
    "print(a is b)"
   ]
  },
  {
   "cell_type": "markdown",
   "metadata": {},
   "source": [
    "Como strings são imutáveis, Python optimiza recursos fazendo com que duas variáveis que se referem ao mesmo string se referirem ao mesmo objeto.\n",
    "\n",
    "Este não é o caso com listas. Considere o exemplo seguir. Aqui a e b se referem a duas listas diferentes, cada uma por acaso tem os mesmo elementos como valores."
   ]
  },
  {
   "cell_type": "code",
   "execution_count": null,
   "metadata": {},
   "outputs": [],
   "source": [
    "%%tutor -l python3 --textReferences --heapPrimitives\n",
    "a = [81, 82, 83]\n",
    "b = [81, 82, 83]\n",
    "\n",
    "print(a is b)\n",
    "\n",
    "print(a == b)"
   ]
  },
  {
   "cell_type": "markdown",
   "metadata": {},
   "source": [
    "Existe um ponto importante a ser notado a respeito desse diagrama de referências. O valor $a$ é uma referência a uma coleção de referências (collection of references). Essas referências na realidade se referem a valores inteiros em uma lista. Em outras palavras, uma lista é uma coleção de referências para objetos. É interessante que apesar de $a$ e $b$ serem duas listas distintas (duas coleções de diferentes de referências), o objeto inteiro $81$ é compartilhado por ambos. Como strings, inteiros são também imutáveis portanto Python optimiza e permite que todos compartilhem o mesmo objeto."
   ]
  },
  {
   "cell_type": "markdown",
   "metadata": {},
   "source": [
    "## Alias e clone de Listas"
   ]
  },
  {
   "cell_type": "markdown",
   "metadata": {},
   "source": [
    "Como variáveis fazem referência a objetos, se atribuimos uma variável a outra, ambas as variáveis passam a fazer referência ao mesmo objeto. No exemplo a seguir, como a mesma lista tem dois nomes diferentes, $a$ e $b$. Neste caso,  dizemos que $a$ e $b$ são \"alias\" da lista. Mudanças feitas com um nome afeta o outro. No exemplo a seguir, os ids de $a$ e $b$ são os mesmos depois da execução do comando de atribuição $b = a$."
   ]
  },
  {
   "cell_type": "code",
   "execution_count": null,
   "metadata": {},
   "outputs": [],
   "source": [
    "%%tutor -l python3 --textReferences --heapPrimitives\n",
    "a = [81, 82, 83]\n",
    "b = [81, 82, 83]\n",
    "\n",
    "print(a == b)\n",
    "print(a is b)\n",
    "\n",
    "b = a\n",
    "print(a == b)\n",
    "print(a is b)\n",
    "\n",
    "b[0] = 5\n",
    "print(a)"
   ]
  },
  {
   "cell_type": "markdown",
   "metadata": {},
   "source": [
    "Apesar desse comportamento ser útil, ele é algumas vezes inesperado ou indesejável. Em geral, é mais seguro evitar \\textit{aliasing} quando você está trabalhando com objetos mutáveis. É evidente que com objetos imutáveis não há problema. Por isto, Python é livre para usar alias de strings e inteiros quando surge uma oportunidade para economizar espaço."
   ]
  },
  {
   "cell_type": "markdown",
   "metadata": {},
   "source": [
    "Se desejamos modificar uma lista e também manter uma cópia da lista original, temos que ser capazes de fazer uma cópia da lista, não apenas da referência. Este processo é algumas vezes chamado de clonar (cloning), para evitar a ambiguidade da palavra cópia.\n",
    "\n",
    "A maneira mais fácil de clonarmos uma lista é usar o operador de fatiação (slice). Tomar qualquer fatia de $a$, cria uma nova lista. Para clonar uma lista inteira basta tomarmos a fatia como sendo a lista toda:"
   ]
  },
  {
   "cell_type": "code",
   "execution_count": null,
   "metadata": {},
   "outputs": [],
   "source": [
    "%%tutor -l python3 --textReferences --heapPrimitives\n",
    "a = [81, 82, 83]\n",
    "b = a[:]\n",
    "\n",
    "print(a == b)\n",
    "print(a is b)\n",
    "\n",
    "b[0] = 5\n",
    "print(a)\n",
    "print(b)"
   ]
  },
  {
   "cell_type": "markdown",
   "metadata": {},
   "source": [
    "## Listas como Parâmetros"
   ]
  },
  {
   "cell_type": "markdown",
   "metadata": {},
   "source": [
    "Funções que recebem listas como argumentos e as alteram durante a execução são chamadas de modificadoras (modifiers) e as mudanças que elas realizam são chamadas efeitos colaterais (side effects). Ao passar uma lista como argumento estamos realmente passando para a função uma referência para a lista e não uma cópia (clone) da lista. Como listas são mutáveis, as alterações feitas nos elementos referenciados pelos parâmetros mudarão a lista que o argumento está referenciando. Por exemplo, a função a seguir recebe uma lista como argumento e multiplica cada elemento da lista por 2:"
   ]
  },
  {
   "cell_type": "code",
   "execution_count": null,
   "metadata": {},
   "outputs": [],
   "source": [
    "%%tutor -l python3 --textReferences --heapPrimitives\n",
    "def double_stuff(lista):\n",
    "    \"\"\"Recebe uma lista referenciada por 'lista' e sobreescreve\n",
    "       cada elemento da lista com o dobro do seu valor.\n",
    "    \"\"\"\n",
    "    for posicao in range(len(lista)):\n",
    "        lista[posicao] = 2 * lista[posicao]\n",
    "\n",
    "things = [2, 5, 9]\n",
    "print(things)\n",
    "double_stuff(things)\n",
    "print(things)"
   ]
  },
  {
   "cell_type": "markdown",
   "metadata": {},
   "source": [
    "# Processamento de Seqüências"
   ]
  },
  {
   "cell_type": "markdown",
   "metadata": {},
   "source": [
    "As seqüências são uma forma tão comum de dados compostos que todos os programas são geralmente organizados em torno dessa abstração única. Os componentes modulares que possuem seqüências como entradas e saídas podem ser misturados e combinados para executar o processamento de dados. Os componentes complexos podem ser definidos encadeando um pipeline de operações de processamento de seqüência, cada um dos quais de forma simples e focado."
   ]
  },
  {
   "cell_type": "markdown",
   "metadata": {},
   "source": [
    "## Compreensão de Listas"
   ]
  },
  {
   "cell_type": "markdown",
   "metadata": {},
   "source": [
    "Muitas operações de processamento de seqüência podem ser expressas avaliando uma expressão fixa para cada elemento em uma seqüência e coletando os valores resultantes em uma seqüência de resultados. Em Python, uma compreensão de lista (**List Comprehensions**) é uma expressão que executa tal computação."
   ]
  },
  {
   "cell_type": "markdown",
   "metadata": {},
   "source": [
    "Suponha que você tenha escrito uma função que determina se um número inteiro é primo ou não e eu então peça a você para produzir uma lista com os números primos no intervalo de 0 1 100. Uma solução poderia ser a que segue:"
   ]
  },
  {
   "cell_type": "code",
   "execution_count": 9,
   "metadata": {},
   "outputs": [],
   "source": [
    "def is_prime(x):\n",
    "    if x >= 2:\n",
    "        for y in range(2, x):\n",
    "            if not ( x % y ):\n",
    "                return False\n",
    "    else:\n",
    "        return False\n",
    "    return True"
   ]
  },
  {
   "cell_type": "code",
   "execution_count": null,
   "metadata": {},
   "outputs": [],
   "source": [
    "primes = []\n",
    "for x in range(100):\n",
    "    if is_prime(x):\n",
    "        primes.append(x)\n",
    "print(primes)"
   ]
  },
  {
   "cell_type": "markdown",
   "metadata": {},
   "source": [
    "Porém Python tem uma solução mais elegante:"
   ]
  },
  {
   "cell_type": "code",
   "execution_count": null,
   "metadata": {},
   "outputs": [],
   "source": [
    "primes = [x for x in range(100) if is_prime(x)]\n",
    "print(primes)"
   ]
  },
  {
   "cell_type": "markdown",
   "metadata": {},
   "source": [
    "Uma compreensão de lista consiste nas seguintes partes:\n",
    "\n",
    "- Uma seqüência de entrada.\n",
    "- Uma variável representando membros da seqüência de entrada.\n",
    "- Opcionalmente, uma expressão Predicado.\n",
    "- Expansão de saída produzindo elementos da lista de saída dos membros da Seqüência de Entrada que satisfazem o predicado.\n",
    "\n",
    "Outros exemplos:"
   ]
  },
  {
   "cell_type": "code",
   "execution_count": null,
   "metadata": {},
   "outputs": [],
   "source": [
    "Celsius = [-10, 0, 10, 20, 25, 30, 35, 40]\n",
    "Fahrenheit = [ ((9/5)*x + 32) for x in Celsius ]\n",
    "print(Fahrenheit)"
   ]
  },
  {
   "cell_type": "markdown",
   "metadata": {},
   "source": [
    "No exemplo a seguir, a compreensão da lista verificará primeiro se o número $x$ é divisível em $3$ e, em seguida, verifique se $x$ é divisível em $5$. Se $x$ satisfizer ambos os requisitos, ele será impresso."
   ]
  },
  {
   "cell_type": "code",
   "execution_count": null,
   "metadata": {},
   "outputs": [],
   "source": [
    "number_list = [x for x in range(100) if x % 3 == 0 if x % 5 == 0]\n",
    "print(number_list)"
   ]
  },
  {
   "cell_type": "markdown",
   "metadata": {},
   "source": [
    "Uma tripla pitagórica consiste em três inteiros positivos $a$, $b$ e $c$, tal que $a^2 + b^2 = c^2$.\n",
    "Essa tripla é comumente escrita $(a, b, c)$, e o exemplo mais conhecido é a tripla $(3, 4, 5)$.\n",
    "A compreensão da lista a seguir cria as triplas de Pitágoras no range(1,30):"
   ]
  },
  {
   "cell_type": "code",
   "execution_count": null,
   "metadata": {},
   "outputs": [],
   "source": [
    "[(a,b,c) for a in range(1, 30)\n",
    "         for b in range(a, 30)\n",
    "         for c in range(b, 30) if a**2 + b**2 == c**2]"
   ]
  },
  {
   "cell_type": "markdown",
   "metadata": {},
   "source": [
    "## Compreensão de Listas Aninhadas"
   ]
  },
  {
   "cell_type": "markdown",
   "metadata": {},
   "source": [
    "Uma matriz de identidade de tamanho n é uma matriz quadrada n por n com 1 na diagonal principal e 0 em outro lugar. Em Python podemos representar essa matriz por uma lista de listas, onde cada sub-lista representa uma linha. Uma matriz de 3 por 3 seria representada pela seguinte lista:"
   ]
  },
  {
   "cell_type": "code",
   "execution_count": null,
   "metadata": {},
   "outputs": [],
   "source": [
    "[ [1, 0, 0],\n",
    "  [0, 1, 0],\n",
    "  [0, 0, 1]]"
   ]
  },
  {
   "cell_type": "markdown",
   "metadata": {},
   "source": [
    "A matriz acima pode ser gerada pela seguinte compreensão:"
   ]
  },
  {
   "cell_type": "code",
   "execution_count": null,
   "metadata": {},
   "outputs": [],
   "source": [
    "[ [ 1 if col == row else 0 for col in range(0, 3) ] for row in range(0, 3) ]"
   ]
  },
  {
   "cell_type": "markdown",
   "metadata": {},
   "source": [
    "## Exercícios:"
   ]
  },
  {
   "cell_type": "markdown",
   "metadata": {},
   "source": [
    "### Removendo as vogais de uma frase.\n",
    "\n",
    "Objetivo: pegue uma string como entrada e retorne uma string com as vogais removidas. Escreva os códigos de Python com implementações de laços FOR e Compreensão de Listas (LC):"
   ]
  },
  {
   "cell_type": "code",
   "execution_count": 29,
   "metadata": {
    "code_folding": [
     0,
     8
    ]
   },
   "outputs": [],
   "source": [
    "def sol_for(sentence):\n",
    "    vowels = 'aeiou'\n",
    "    filtered_list = []\n",
    "    for l in sentence:\n",
    "        if l not in vowels:\n",
    "            filtered_list.append(l)\n",
    "    return ''.join(filtered_list)\n",
    "\n",
    "def sol_lc(sentence):\n",
    "    vowels = 'aeiou'\n",
    "    return ''.join([ l for l in sentence if l not in vowels])"
   ]
  },
  {
   "cell_type": "code",
   "execution_count": 31,
   "metadata": {},
   "outputs": [
    {
     "name": "stdout",
     "output_type": "stream",
     "text": [
      "FOR-loop result:  My nm s Mrc Mchd Prr!\n",
      "LC result      :  My nm s Mrc Mchd Prr!\n"
     ]
    }
   ],
   "source": [
    "# test:\n",
    "sentence = 'My name is Marcio Machado Pereira!'\n",
    "print(\"FOR-loop result: \", sol_for(sentence))\n",
    "print(\"LC result      : \", sol_lc(sentence))"
   ]
  },
  {
   "cell_type": "markdown",
   "metadata": {},
   "source": [
    "### Matriz Transposta"
   ]
  },
  {
   "cell_type": "markdown",
   "metadata": {},
   "source": [
    "Dada uma matriz $A$ de ordem m x n, a matriz transposta dela será representada por $A^t$ de ordem “invertida” n x m. \n",
    "Essa ordem invertida significa que para transformarmos uma matriz em matriz transposta, basta trocar os elementos das linhas pelo das colunas e vice-versa. \n",
    "\n",
    "Veja o exemplo:"
   ]
  },
  {
   "cell_type": "code",
   "execution_count": 33,
   "metadata": {},
   "outputs": [
    {
     "name": "stdout",
     "output_type": "stream",
     "text": [
      "[[1, 2, 3, 4], [5, 6, 7, 8], [9, 10, 11, 12]]\n",
      "[(1, 5, 9), (2, 6, 10), (3, 7, 11), (4, 8, 12)]\n"
     ]
    }
   ],
   "source": [
    "matrix = [[1, 2, 3, 4],\n",
    "          [5, 6, 7, 8],\n",
    "          [9, 10, 11, 12]]\n",
    "transposta = list(zip(*matrix))\n",
    "print(matrix)\n",
    "print(transposta)"
   ]
  },
  {
   "cell_type": "markdown",
   "metadata": {},
   "source": [
    "O objetivo (naturalmente sem usar a builtin `zip`) é gerar a transposta da matrix definida acima, mas usando Compreensão de Listas."
   ]
  },
  {
   "cell_type": "code",
   "execution_count": null,
   "metadata": {
    "code_folding": [
     0
    ]
   },
   "outputs": [],
   "source": [
    "# solução:\n",
    "[[row[i] for row in matrix] for i in range(4)]"
   ]
  },
  {
   "cell_type": "markdown",
   "metadata": {},
   "source": [
    "### Lançamento de dados\n",
    "\n",
    "Faça um programa que simule um lançamento de dados. Lance o dado 100 vezes e armazene os resultados em uma lista. Depois, mostre quantas vezes cada valor foi conseguido. Dica: use uma lista para os contadores(1-6) e uma função para gerar numeros aleatórios, simulando os lançamentos dos dados."
   ]
  }
 ],
 "metadata": {
  "kernelspec": {
   "display_name": "Python 3",
   "language": "python",
   "name": "python3"
  },
  "language_info": {
   "codemirror_mode": {
    "name": "ipython",
    "version": 3
   },
   "file_extension": ".py",
   "mimetype": "text/x-python",
   "name": "python",
   "nbconvert_exporter": "python",
   "pygments_lexer": "ipython3",
   "version": "3.6.4"
  },
  "latex_envs": {
   "LaTeX_envs_menu_present": true,
   "autoclose": false,
   "autocomplete": true,
   "bibliofile": "biblio.bib",
   "cite_by": "apalike",
   "current_citInitial": 1,
   "eqLabelWithNumbers": true,
   "eqNumInitial": 1,
   "hotkeys": {
    "equation": "Ctrl-E",
    "itemize": "Ctrl-I"
   },
   "labels_anchors": false,
   "latex_user_defs": false,
   "report_style_numbering": false,
   "user_envs_cfg": false
  },
  "toc": {
   "nav_menu": {},
   "number_sections": true,
   "sideBar": true,
   "skip_h1_title": false,
   "toc_cell": true,
   "toc_position": {},
   "toc_section_display": "block",
   "toc_window_display": false
  }
 },
 "nbformat": 4,
 "nbformat_minor": 2
}
